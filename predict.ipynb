{
 "cells": [
  {
   "cell_type": "markdown",
   "metadata": {},
   "source": [
    "# Predicting Bundesliga Match Results\n",
    "\n",
    "In this project, we'll use Bundesliga match logs to build a model on predicting the winner of a match. We have scraped data from [https://fbref.com](https://fbref.com) and created a csv file in a separate notebook.\n",
    "\n",
    "Our data spans six full seasons. We'll compare the performances of k-nearest neighbors, random forest, ridge classifier and support vector classifier on our data set."
   ]
  },
  {
   "cell_type": "markdown",
   "metadata": {},
   "source": [
    "## Cleaning the data set"
   ]
  },
  {
   "cell_type": "code",
   "execution_count": 1,
   "metadata": {},
   "outputs": [],
   "source": [
    "import warnings\n",
    "warnings.simplefilter(action='ignore', category=FutureWarning)\n",
    "\n",
    "import numpy as np\n",
    "import pandas as pd\n",
    "from sklearn.neighbors import KNeighborsClassifier\n",
    "from sklearn.linear_model import RidgeClassifier\n",
    "from sklearn.ensemble import RandomForestClassifier\n",
    "from sklearn.svm import SVC\n",
    "from sklearn.feature_selection import SequentialFeatureSelector\n",
    "from sklearn.model_selection import TimeSeriesSplit, cross_validate, GridSearchCV\n",
    "from sklearn.metrics import plot_roc_curve, classification_report\n",
    "import matplotlib.pyplot as plt\n",
    "%matplotlib inline"
   ]
  },
  {
   "cell_type": "code",
   "execution_count": 2,
   "metadata": {},
   "outputs": [
    {
     "data": {
      "text/plain": [
       "(3672, 40)"
      ]
     },
     "execution_count": 2,
     "metadata": {},
     "output_type": "execute_result"
    }
   ],
   "source": [
    "df = pd.read_csv('match_data.csv')\n",
    "df.shape"
   ]
  },
  {
   "cell_type": "code",
   "execution_count": 3,
   "metadata": {},
   "outputs": [
    {
     "data": {
      "text/html": [
       "<div>\n",
       "<style scoped>\n",
       "    .dataframe tbody tr th:only-of-type {\n",
       "        vertical-align: middle;\n",
       "    }\n",
       "\n",
       "    .dataframe tbody tr th {\n",
       "        vertical-align: top;\n",
       "    }\n",
       "\n",
       "    .dataframe thead th {\n",
       "        text-align: right;\n",
       "    }\n",
       "</style>\n",
       "<table border=\"1\" class=\"dataframe\">\n",
       "  <thead>\n",
       "    <tr style=\"text-align: right;\">\n",
       "      <th></th>\n",
       "      <th>Unnamed: 0</th>\n",
       "      <th>date</th>\n",
       "      <th>time</th>\n",
       "      <th>round</th>\n",
       "      <th>day</th>\n",
       "      <th>venue</th>\n",
       "      <th>result</th>\n",
       "      <th>gf</th>\n",
       "      <th>ga</th>\n",
       "      <th>opponent</th>\n",
       "      <th>...</th>\n",
       "      <th>prgdist</th>\n",
       "      <th>live</th>\n",
       "      <th>dead</th>\n",
       "      <th>tb</th>\n",
       "      <th>sw</th>\n",
       "      <th>crs</th>\n",
       "      <th>ti</th>\n",
       "      <th>ck</th>\n",
       "      <th>season</th>\n",
       "      <th>team</th>\n",
       "    </tr>\n",
       "  </thead>\n",
       "  <tbody>\n",
       "    <tr>\n",
       "      <th>0</th>\n",
       "      <td>1</td>\n",
       "      <td>2022-08-05</td>\n",
       "      <td>20:30</td>\n",
       "      <td>Matchweek 1</td>\n",
       "      <td>Fri</td>\n",
       "      <td>Away</td>\n",
       "      <td>W</td>\n",
       "      <td>6</td>\n",
       "      <td>1</td>\n",
       "      <td>Eint Frankfurt</td>\n",
       "      <td>...</td>\n",
       "      <td>3374.0</td>\n",
       "      <td>623.0</td>\n",
       "      <td>35.0</td>\n",
       "      <td>7.0</td>\n",
       "      <td>4.0</td>\n",
       "      <td>14.0</td>\n",
       "      <td>11.0</td>\n",
       "      <td>6.0</td>\n",
       "      <td>2022-2023</td>\n",
       "      <td>Bayern Munich</td>\n",
       "    </tr>\n",
       "    <tr>\n",
       "      <th>1</th>\n",
       "      <td>2</td>\n",
       "      <td>2022-08-14</td>\n",
       "      <td>17:30</td>\n",
       "      <td>Matchweek 2</td>\n",
       "      <td>Sun</td>\n",
       "      <td>Home</td>\n",
       "      <td>W</td>\n",
       "      <td>2</td>\n",
       "      <td>0</td>\n",
       "      <td>Wolfsburg</td>\n",
       "      <td>...</td>\n",
       "      <td>3508.0</td>\n",
       "      <td>592.0</td>\n",
       "      <td>50.0</td>\n",
       "      <td>1.0</td>\n",
       "      <td>5.0</td>\n",
       "      <td>20.0</td>\n",
       "      <td>23.0</td>\n",
       "      <td>8.0</td>\n",
       "      <td>2022-2023</td>\n",
       "      <td>Bayern Munich</td>\n",
       "    </tr>\n",
       "    <tr>\n",
       "      <th>2</th>\n",
       "      <td>3</td>\n",
       "      <td>2022-08-21</td>\n",
       "      <td>17:30</td>\n",
       "      <td>Matchweek 3</td>\n",
       "      <td>Sun</td>\n",
       "      <td>Away</td>\n",
       "      <td>W</td>\n",
       "      <td>7</td>\n",
       "      <td>0</td>\n",
       "      <td>Bochum</td>\n",
       "      <td>...</td>\n",
       "      <td>3056.0</td>\n",
       "      <td>498.0</td>\n",
       "      <td>42.0</td>\n",
       "      <td>3.0</td>\n",
       "      <td>2.0</td>\n",
       "      <td>10.0</td>\n",
       "      <td>16.0</td>\n",
       "      <td>5.0</td>\n",
       "      <td>2022-2023</td>\n",
       "      <td>Bayern Munich</td>\n",
       "    </tr>\n",
       "    <tr>\n",
       "      <th>3</th>\n",
       "      <td>4</td>\n",
       "      <td>2022-08-27</td>\n",
       "      <td>18:30</td>\n",
       "      <td>Matchweek 4</td>\n",
       "      <td>Sat</td>\n",
       "      <td>Home</td>\n",
       "      <td>D</td>\n",
       "      <td>1</td>\n",
       "      <td>1</td>\n",
       "      <td>M'Gladbach</td>\n",
       "      <td>...</td>\n",
       "      <td>3614.0</td>\n",
       "      <td>621.0</td>\n",
       "      <td>47.0</td>\n",
       "      <td>1.0</td>\n",
       "      <td>7.0</td>\n",
       "      <td>33.0</td>\n",
       "      <td>20.0</td>\n",
       "      <td>14.0</td>\n",
       "      <td>2022-2023</td>\n",
       "      <td>Bayern Munich</td>\n",
       "    </tr>\n",
       "    <tr>\n",
       "      <th>4</th>\n",
       "      <td>6</td>\n",
       "      <td>2022-09-03</td>\n",
       "      <td>15:30</td>\n",
       "      <td>Matchweek 5</td>\n",
       "      <td>Sat</td>\n",
       "      <td>Away</td>\n",
       "      <td>D</td>\n",
       "      <td>1</td>\n",
       "      <td>1</td>\n",
       "      <td>Union Berlin</td>\n",
       "      <td>...</td>\n",
       "      <td>3464.0</td>\n",
       "      <td>710.0</td>\n",
       "      <td>50.0</td>\n",
       "      <td>6.0</td>\n",
       "      <td>2.0</td>\n",
       "      <td>17.0</td>\n",
       "      <td>17.0</td>\n",
       "      <td>7.0</td>\n",
       "      <td>2022-2023</td>\n",
       "      <td>Bayern Munich</td>\n",
       "    </tr>\n",
       "  </tbody>\n",
       "</table>\n",
       "<p>5 rows × 40 columns</p>\n",
       "</div>"
      ],
      "text/plain": [
       "   Unnamed: 0        date   time        round  day venue result  gf  ga  \\\n",
       "0           1  2022-08-05  20:30  Matchweek 1  Fri  Away      W   6   1   \n",
       "1           2  2022-08-14  17:30  Matchweek 2  Sun  Home      W   2   0   \n",
       "2           3  2022-08-21  17:30  Matchweek 3  Sun  Away      W   7   0   \n",
       "3           4  2022-08-27  18:30  Matchweek 4  Sat  Home      D   1   1   \n",
       "4           6  2022-09-03  15:30  Matchweek 5  Sat  Away      D   1   1   \n",
       "\n",
       "         opponent  ...  prgdist   live  dead   tb   sw   crs    ti    ck  \\\n",
       "0  Eint Frankfurt  ...   3374.0  623.0  35.0  7.0  4.0  14.0  11.0   6.0   \n",
       "1       Wolfsburg  ...   3508.0  592.0  50.0  1.0  5.0  20.0  23.0   8.0   \n",
       "2          Bochum  ...   3056.0  498.0  42.0  3.0  2.0  10.0  16.0   5.0   \n",
       "3      M'Gladbach  ...   3614.0  621.0  47.0  1.0  7.0  33.0  20.0  14.0   \n",
       "4    Union Berlin  ...   3464.0  710.0  50.0  6.0  2.0  17.0  17.0   7.0   \n",
       "\n",
       "      season           team  \n",
       "0  2022-2023  Bayern Munich  \n",
       "1  2022-2023  Bayern Munich  \n",
       "2  2022-2023  Bayern Munich  \n",
       "3  2022-2023  Bayern Munich  \n",
       "4  2022-2023  Bayern Munich  \n",
       "\n",
       "[5 rows x 40 columns]"
      ]
     },
     "execution_count": 3,
     "metadata": {},
     "output_type": "execute_result"
    }
   ],
   "source": [
    "df.head()"
   ]
  },
  {
   "cell_type": "code",
   "execution_count": 4,
   "metadata": {},
   "outputs": [],
   "source": [
    "df.drop('Unnamed: 0', axis=1, inplace=True)"
   ]
  },
  {
   "cell_type": "code",
   "execution_count": 5,
   "metadata": {},
   "outputs": [
    {
     "data": {
      "text/plain": [
       "Matchweek 1     108\n",
       "Matchweek 4     108\n",
       "Matchweek 5     108\n",
       "Matchweek 6     108\n",
       "Matchweek 7     108\n",
       "Matchweek 8     108\n",
       "Matchweek 9     108\n",
       "Matchweek 10    108\n",
       "Matchweek 11    108\n",
       "Matchweek 12    108\n",
       "Matchweek 13    108\n",
       "Matchweek 14    108\n",
       "Matchweek 15    108\n",
       "Matchweek 16    108\n",
       "Matchweek 17    108\n",
       "Matchweek 18    108\n",
       "Matchweek 19    108\n",
       "Matchweek 33    108\n",
       "Matchweek 26    108\n",
       "Matchweek 20    108\n",
       "Matchweek 21    108\n",
       "Matchweek 22    108\n",
       "Matchweek 23    108\n",
       "Matchweek 24    108\n",
       "Matchweek 3     108\n",
       "Matchweek 25    108\n",
       "Matchweek 2     108\n",
       "Matchweek 28    108\n",
       "Matchweek 29    108\n",
       "Matchweek 30    108\n",
       "Matchweek 31    108\n",
       "Matchweek 32    108\n",
       "Matchweek 27    108\n",
       "Matchweek 34    108\n",
       "Name: round, dtype: int64"
      ]
     },
     "execution_count": 5,
     "metadata": {},
     "output_type": "execute_result"
    }
   ],
   "source": [
    "# Check if there are any missing matches\n",
    "df['round'].value_counts().sort_values()"
   ]
  },
  {
   "cell_type": "code",
   "execution_count": 6,
   "metadata": {},
   "outputs": [],
   "source": [
    "df['date'] = pd.to_datetime(df['date'])"
   ]
  },
  {
   "cell_type": "code",
   "execution_count": 7,
   "metadata": {},
   "outputs": [
    {
     "data": {
      "text/html": [
       "<div>\n",
       "<style scoped>\n",
       "    .dataframe tbody tr th:only-of-type {\n",
       "        vertical-align: middle;\n",
       "    }\n",
       "\n",
       "    .dataframe tbody tr th {\n",
       "        vertical-align: top;\n",
       "    }\n",
       "\n",
       "    .dataframe thead th {\n",
       "        text-align: right;\n",
       "    }\n",
       "</style>\n",
       "<table border=\"1\" class=\"dataframe\">\n",
       "  <thead>\n",
       "    <tr style=\"text-align: right;\">\n",
       "      <th></th>\n",
       "      <th>date</th>\n",
       "      <th>time</th>\n",
       "      <th>round</th>\n",
       "      <th>day</th>\n",
       "      <th>venue</th>\n",
       "      <th>result</th>\n",
       "      <th>gf</th>\n",
       "      <th>ga</th>\n",
       "      <th>opponent</th>\n",
       "      <th>xg</th>\n",
       "      <th>xga</th>\n",
       "      <th>poss</th>\n",
       "      <th>attendance</th>\n",
       "      <th>captain</th>\n",
       "      <th>formation</th>\n",
       "      <th>referee</th>\n",
       "      <th>sh</th>\n",
       "      <th>sot</th>\n",
       "      <th>dist</th>\n",
       "      <th>fk</th>\n",
       "      <th>pk</th>\n",
       "      <th>pkatt</th>\n",
       "      <th>sota</th>\n",
       "      <th>saves</th>\n",
       "      <th>pka</th>\n",
       "      <th>pksv</th>\n",
       "      <th>cmp</th>\n",
       "      <th>att</th>\n",
       "      <th>totdist</th>\n",
       "      <th>prgdist</th>\n",
       "      <th>live</th>\n",
       "      <th>dead</th>\n",
       "      <th>tb</th>\n",
       "      <th>sw</th>\n",
       "      <th>crs</th>\n",
       "      <th>ti</th>\n",
       "      <th>ck</th>\n",
       "      <th>season</th>\n",
       "      <th>team</th>\n",
       "    </tr>\n",
       "  </thead>\n",
       "  <tbody>\n",
       "    <tr>\n",
       "      <th>0</th>\n",
       "      <td>2022-08-05</td>\n",
       "      <td>20:30</td>\n",
       "      <td>Matchweek 1</td>\n",
       "      <td>Fri</td>\n",
       "      <td>Away</td>\n",
       "      <td>W</td>\n",
       "      <td>6</td>\n",
       "      <td>1</td>\n",
       "      <td>Eint Frankfurt</td>\n",
       "      <td>4.0</td>\n",
       "      <td>0.9</td>\n",
       "      <td>63.0</td>\n",
       "      <td>51500.0</td>\n",
       "      <td>Manuel Neuer</td>\n",
       "      <td>4-4-2</td>\n",
       "      <td>Deniz Aytekin</td>\n",
       "      <td>23.0</td>\n",
       "      <td>10.0</td>\n",
       "      <td>16.6</td>\n",
       "      <td>1.0</td>\n",
       "      <td>0.0</td>\n",
       "      <td>0.0</td>\n",
       "      <td>2.0</td>\n",
       "      <td>1.0</td>\n",
       "      <td>0.0</td>\n",
       "      <td>0.0</td>\n",
       "      <td>572.0</td>\n",
       "      <td>661.0</td>\n",
       "      <td>10072.0</td>\n",
       "      <td>3374.0</td>\n",
       "      <td>623.0</td>\n",
       "      <td>35.0</td>\n",
       "      <td>7.0</td>\n",
       "      <td>4.0</td>\n",
       "      <td>14.0</td>\n",
       "      <td>11.0</td>\n",
       "      <td>6.0</td>\n",
       "      <td>2022-2023</td>\n",
       "      <td>Bayern Munich</td>\n",
       "    </tr>\n",
       "    <tr>\n",
       "      <th>1</th>\n",
       "      <td>2022-08-14</td>\n",
       "      <td>17:30</td>\n",
       "      <td>Matchweek 2</td>\n",
       "      <td>Sun</td>\n",
       "      <td>Home</td>\n",
       "      <td>W</td>\n",
       "      <td>2</td>\n",
       "      <td>0</td>\n",
       "      <td>Wolfsburg</td>\n",
       "      <td>2.0</td>\n",
       "      <td>0.5</td>\n",
       "      <td>68.0</td>\n",
       "      <td>75000.0</td>\n",
       "      <td>Manuel Neuer</td>\n",
       "      <td>4-2-3-1</td>\n",
       "      <td>Harm Osmers</td>\n",
       "      <td>24.0</td>\n",
       "      <td>8.0</td>\n",
       "      <td>18.4</td>\n",
       "      <td>0.0</td>\n",
       "      <td>0.0</td>\n",
       "      <td>0.0</td>\n",
       "      <td>2.0</td>\n",
       "      <td>2.0</td>\n",
       "      <td>0.0</td>\n",
       "      <td>0.0</td>\n",
       "      <td>549.0</td>\n",
       "      <td>648.0</td>\n",
       "      <td>9680.0</td>\n",
       "      <td>3508.0</td>\n",
       "      <td>592.0</td>\n",
       "      <td>50.0</td>\n",
       "      <td>1.0</td>\n",
       "      <td>5.0</td>\n",
       "      <td>20.0</td>\n",
       "      <td>23.0</td>\n",
       "      <td>8.0</td>\n",
       "      <td>2022-2023</td>\n",
       "      <td>Bayern Munich</td>\n",
       "    </tr>\n",
       "    <tr>\n",
       "      <th>2</th>\n",
       "      <td>2022-08-21</td>\n",
       "      <td>17:30</td>\n",
       "      <td>Matchweek 3</td>\n",
       "      <td>Sun</td>\n",
       "      <td>Away</td>\n",
       "      <td>W</td>\n",
       "      <td>7</td>\n",
       "      <td>0</td>\n",
       "      <td>Bochum</td>\n",
       "      <td>2.9</td>\n",
       "      <td>0.7</td>\n",
       "      <td>64.0</td>\n",
       "      <td>26000.0</td>\n",
       "      <td>Manuel Neuer</td>\n",
       "      <td>4-4-2</td>\n",
       "      <td>Daniel Siebert</td>\n",
       "      <td>21.0</td>\n",
       "      <td>11.0</td>\n",
       "      <td>18.3</td>\n",
       "      <td>1.0</td>\n",
       "      <td>1.0</td>\n",
       "      <td>1.0</td>\n",
       "      <td>7.0</td>\n",
       "      <td>7.0</td>\n",
       "      <td>0.0</td>\n",
       "      <td>0.0</td>\n",
       "      <td>462.0</td>\n",
       "      <td>545.0</td>\n",
       "      <td>7943.0</td>\n",
       "      <td>3056.0</td>\n",
       "      <td>498.0</td>\n",
       "      <td>42.0</td>\n",
       "      <td>3.0</td>\n",
       "      <td>2.0</td>\n",
       "      <td>10.0</td>\n",
       "      <td>16.0</td>\n",
       "      <td>5.0</td>\n",
       "      <td>2022-2023</td>\n",
       "      <td>Bayern Munich</td>\n",
       "    </tr>\n",
       "    <tr>\n",
       "      <th>3</th>\n",
       "      <td>2022-08-27</td>\n",
       "      <td>18:30</td>\n",
       "      <td>Matchweek 4</td>\n",
       "      <td>Sat</td>\n",
       "      <td>Home</td>\n",
       "      <td>D</td>\n",
       "      <td>1</td>\n",
       "      <td>1</td>\n",
       "      <td>M'Gladbach</td>\n",
       "      <td>2.8</td>\n",
       "      <td>0.5</td>\n",
       "      <td>69.0</td>\n",
       "      <td>75000.0</td>\n",
       "      <td>Manuel Neuer</td>\n",
       "      <td>4-2-2-2</td>\n",
       "      <td>Daniel Schlager</td>\n",
       "      <td>33.0</td>\n",
       "      <td>20.0</td>\n",
       "      <td>17.4</td>\n",
       "      <td>1.0</td>\n",
       "      <td>0.0</td>\n",
       "      <td>0.0</td>\n",
       "      <td>3.0</td>\n",
       "      <td>2.0</td>\n",
       "      <td>0.0</td>\n",
       "      <td>0.0</td>\n",
       "      <td>576.0</td>\n",
       "      <td>675.0</td>\n",
       "      <td>9943.0</td>\n",
       "      <td>3614.0</td>\n",
       "      <td>621.0</td>\n",
       "      <td>47.0</td>\n",
       "      <td>1.0</td>\n",
       "      <td>7.0</td>\n",
       "      <td>33.0</td>\n",
       "      <td>20.0</td>\n",
       "      <td>14.0</td>\n",
       "      <td>2022-2023</td>\n",
       "      <td>Bayern Munich</td>\n",
       "    </tr>\n",
       "    <tr>\n",
       "      <th>4</th>\n",
       "      <td>2022-09-03</td>\n",
       "      <td>15:30</td>\n",
       "      <td>Matchweek 5</td>\n",
       "      <td>Sat</td>\n",
       "      <td>Away</td>\n",
       "      <td>D</td>\n",
       "      <td>1</td>\n",
       "      <td>1</td>\n",
       "      <td>Union Berlin</td>\n",
       "      <td>1.5</td>\n",
       "      <td>0.3</td>\n",
       "      <td>74.0</td>\n",
       "      <td>22012.0</td>\n",
       "      <td>Manuel Neuer</td>\n",
       "      <td>4-2-3-1</td>\n",
       "      <td>Frank Willenborg</td>\n",
       "      <td>21.0</td>\n",
       "      <td>6.0</td>\n",
       "      <td>18.1</td>\n",
       "      <td>0.0</td>\n",
       "      <td>0.0</td>\n",
       "      <td>0.0</td>\n",
       "      <td>2.0</td>\n",
       "      <td>1.0</td>\n",
       "      <td>0.0</td>\n",
       "      <td>0.0</td>\n",
       "      <td>657.0</td>\n",
       "      <td>762.0</td>\n",
       "      <td>10395.0</td>\n",
       "      <td>3464.0</td>\n",
       "      <td>710.0</td>\n",
       "      <td>50.0</td>\n",
       "      <td>6.0</td>\n",
       "      <td>2.0</td>\n",
       "      <td>17.0</td>\n",
       "      <td>17.0</td>\n",
       "      <td>7.0</td>\n",
       "      <td>2022-2023</td>\n",
       "      <td>Bayern Munich</td>\n",
       "    </tr>\n",
       "  </tbody>\n",
       "</table>\n",
       "</div>"
      ],
      "text/plain": [
       "        date   time        round  day venue result  gf  ga        opponent  \\\n",
       "0 2022-08-05  20:30  Matchweek 1  Fri  Away      W   6   1  Eint Frankfurt   \n",
       "1 2022-08-14  17:30  Matchweek 2  Sun  Home      W   2   0       Wolfsburg   \n",
       "2 2022-08-21  17:30  Matchweek 3  Sun  Away      W   7   0          Bochum   \n",
       "3 2022-08-27  18:30  Matchweek 4  Sat  Home      D   1   1      M'Gladbach   \n",
       "4 2022-09-03  15:30  Matchweek 5  Sat  Away      D   1   1    Union Berlin   \n",
       "\n",
       "    xg  xga  poss  attendance       captain formation           referee    sh  \\\n",
       "0  4.0  0.9  63.0     51500.0  Manuel Neuer     4-4-2     Deniz Aytekin  23.0   \n",
       "1  2.0  0.5  68.0     75000.0  Manuel Neuer   4-2-3-1       Harm Osmers  24.0   \n",
       "2  2.9  0.7  64.0     26000.0  Manuel Neuer     4-4-2    Daniel Siebert  21.0   \n",
       "3  2.8  0.5  69.0     75000.0  Manuel Neuer   4-2-2-2   Daniel Schlager  33.0   \n",
       "4  1.5  0.3  74.0     22012.0  Manuel Neuer   4-2-3-1  Frank Willenborg  21.0   \n",
       "\n",
       "    sot  dist   fk   pk  pkatt  sota  saves  pka  pksv    cmp    att  totdist  \\\n",
       "0  10.0  16.6  1.0  0.0    0.0   2.0    1.0  0.0   0.0  572.0  661.0  10072.0   \n",
       "1   8.0  18.4  0.0  0.0    0.0   2.0    2.0  0.0   0.0  549.0  648.0   9680.0   \n",
       "2  11.0  18.3  1.0  1.0    1.0   7.0    7.0  0.0   0.0  462.0  545.0   7943.0   \n",
       "3  20.0  17.4  1.0  0.0    0.0   3.0    2.0  0.0   0.0  576.0  675.0   9943.0   \n",
       "4   6.0  18.1  0.0  0.0    0.0   2.0    1.0  0.0   0.0  657.0  762.0  10395.0   \n",
       "\n",
       "   prgdist   live  dead   tb   sw   crs    ti    ck     season           team  \n",
       "0   3374.0  623.0  35.0  7.0  4.0  14.0  11.0   6.0  2022-2023  Bayern Munich  \n",
       "1   3508.0  592.0  50.0  1.0  5.0  20.0  23.0   8.0  2022-2023  Bayern Munich  \n",
       "2   3056.0  498.0  42.0  3.0  2.0  10.0  16.0   5.0  2022-2023  Bayern Munich  \n",
       "3   3614.0  621.0  47.0  1.0  7.0  33.0  20.0  14.0  2022-2023  Bayern Munich  \n",
       "4   3464.0  710.0  50.0  6.0  2.0  17.0  17.0   7.0  2022-2023  Bayern Munich  "
      ]
     },
     "execution_count": 7,
     "metadata": {},
     "output_type": "execute_result"
    }
   ],
   "source": [
    "pd.set_option('display.max_columns', None)\n",
    "df.head()"
   ]
  },
  {
   "cell_type": "markdown",
   "metadata": {},
   "source": [
    "There are inconsistencies in the team names in `team` and `opponent` columns; below we look at the different occurences of the same team, and standardize the names."
   ]
  },
  {
   "cell_type": "code",
   "execution_count": 8,
   "metadata": {},
   "outputs": [
    {
     "data": {
      "text/plain": [
       "{'Bayer Leverkusen',\n",
       " 'Dusseldorf',\n",
       " 'Düsseldorf',\n",
       " 'Eint Frankfurt',\n",
       " 'Eintracht Frankfurt',\n",
       " 'Greuther Furth',\n",
       " 'Greuther Fürth',\n",
       " 'Koln',\n",
       " 'Köln',\n",
       " 'Leverkusen',\n",
       " \"M'Gladbach\",\n",
       " 'Monchengladbach',\n",
       " 'Nurnberg',\n",
       " 'Nürnberg'}"
      ]
     },
     "execution_count": 8,
     "metadata": {},
     "output_type": "execute_result"
    }
   ],
   "source": [
    "team_set = set(df['team'].unique())\n",
    "opp_set = set(df['opponent'].unique())\n",
    "\n",
    "diff = (team_set - opp_set) | (opp_set - team_set)\n",
    "diff\n"
   ]
  },
  {
   "cell_type": "code",
   "execution_count": 9,
   "metadata": {},
   "outputs": [],
   "source": [
    "class MissingDict(dict):\n",
    "    __missing__ = lambda self, key: key\n",
    "\n",
    "map_values = {\n",
    "    'Koln':'Köln',\n",
    "    'Leverkusen': 'Bayer Leverkusen',\n",
    "    'Dusseldorf': 'Düsseldorf',\n",
    "    'Eint Frankfurt': 'Eintracht Frankfurt',\n",
    "    'Greuther Furth': 'Greuther Fürth',\n",
    "    \"M'Gladbach\": 'Monchengladbach',\n",
    "    'Nurnberg': 'Nürnberg'\n",
    "}\n",
    "\n",
    "mapping = MissingDict(**map_values)"
   ]
  },
  {
   "cell_type": "code",
   "execution_count": 10,
   "metadata": {},
   "outputs": [],
   "source": [
    "df['team'] = df['team'].map(mapping)"
   ]
  },
  {
   "cell_type": "code",
   "execution_count": 11,
   "metadata": {},
   "outputs": [],
   "source": [
    "df['opponent'] = df['opponent'].map(mapping)"
   ]
  },
  {
   "cell_type": "markdown",
   "metadata": {},
   "source": [
    "We need to take care of null values in order to use most machine learning models. Below we observe that the `attendance` column has a lot of null values. We remove this column altogether since it is not necessary for our purposes. We also observe that all other null values appear in three rows, which we also remove."
   ]
  },
  {
   "cell_type": "code",
   "execution_count": 12,
   "metadata": {},
   "outputs": [
    {
     "data": {
      "text/plain": [
       "attendance    744\n",
       "dist            3\n",
       "fk              2\n",
       "xg              2\n",
       "cmp             2\n",
       "att             2\n",
       "totdist         2\n",
       "prgdist         2\n",
       "live            2\n",
       "xga             2\n",
       "dead            2\n",
       "tb              2\n",
       "sw              2\n",
       "ti              2\n",
       "ck              2\n",
       "sota            0\n",
       "crs             0\n",
       "pksv            0\n",
       "season          0\n",
       "pka             0\n",
       "saves           0\n",
       "date            0\n",
       "pkatt           0\n",
       "opponent        0\n",
       "round           0\n",
       "day             0\n",
       "venue           0\n",
       "result          0\n",
       "gf              0\n",
       "ga              0\n",
       "poss            0\n",
       "pk              0\n",
       "captain         0\n",
       "formation       0\n",
       "referee         0\n",
       "sh              0\n",
       "sot             0\n",
       "time            0\n",
       "team            0\n",
       "dtype: int64"
      ]
     },
     "execution_count": 12,
     "metadata": {},
     "output_type": "execute_result"
    }
   ],
   "source": [
    "df.isna().sum().sort_values(ascending=False)"
   ]
  },
  {
   "cell_type": "code",
   "execution_count": 13,
   "metadata": {},
   "outputs": [],
   "source": [
    "df.drop('attendance', axis=1, inplace=True)"
   ]
  },
  {
   "cell_type": "code",
   "execution_count": 14,
   "metadata": {},
   "outputs": [
    {
     "data": {
      "text/html": [
       "<div>\n",
       "<style scoped>\n",
       "    .dataframe tbody tr th:only-of-type {\n",
       "        vertical-align: middle;\n",
       "    }\n",
       "\n",
       "    .dataframe tbody tr th {\n",
       "        vertical-align: top;\n",
       "    }\n",
       "\n",
       "    .dataframe thead th {\n",
       "        text-align: right;\n",
       "    }\n",
       "</style>\n",
       "<table border=\"1\" class=\"dataframe\">\n",
       "  <thead>\n",
       "    <tr style=\"text-align: right;\">\n",
       "      <th></th>\n",
       "      <th>date</th>\n",
       "      <th>time</th>\n",
       "      <th>round</th>\n",
       "      <th>day</th>\n",
       "      <th>venue</th>\n",
       "      <th>result</th>\n",
       "      <th>gf</th>\n",
       "      <th>ga</th>\n",
       "      <th>opponent</th>\n",
       "      <th>xg</th>\n",
       "      <th>xga</th>\n",
       "      <th>poss</th>\n",
       "      <th>captain</th>\n",
       "      <th>formation</th>\n",
       "      <th>referee</th>\n",
       "      <th>sh</th>\n",
       "      <th>sot</th>\n",
       "      <th>dist</th>\n",
       "      <th>fk</th>\n",
       "      <th>pk</th>\n",
       "      <th>pkatt</th>\n",
       "      <th>sota</th>\n",
       "      <th>saves</th>\n",
       "      <th>pka</th>\n",
       "      <th>pksv</th>\n",
       "      <th>cmp</th>\n",
       "      <th>att</th>\n",
       "      <th>totdist</th>\n",
       "      <th>prgdist</th>\n",
       "      <th>live</th>\n",
       "      <th>dead</th>\n",
       "      <th>tb</th>\n",
       "      <th>sw</th>\n",
       "      <th>crs</th>\n",
       "      <th>ti</th>\n",
       "      <th>ck</th>\n",
       "      <th>season</th>\n",
       "      <th>team</th>\n",
       "    </tr>\n",
       "  </thead>\n",
       "  <tbody>\n",
       "    <tr>\n",
       "      <th>944</th>\n",
       "      <td>2022-03-18</td>\n",
       "      <td>20:30</td>\n",
       "      <td>Matchweek 27</td>\n",
       "      <td>Fri</td>\n",
       "      <td>Away</td>\n",
       "      <td>W</td>\n",
       "      <td>2</td>\n",
       "      <td>0</td>\n",
       "      <td>Bochum</td>\n",
       "      <td>NaN</td>\n",
       "      <td>NaN</td>\n",
       "      <td>49.0</td>\n",
       "      <td>Yann Sommer</td>\n",
       "      <td>3-4-3</td>\n",
       "      <td>Benjamin Cortus</td>\n",
       "      <td>8.0</td>\n",
       "      <td>5.0</td>\n",
       "      <td>NaN</td>\n",
       "      <td>NaN</td>\n",
       "      <td>0.0</td>\n",
       "      <td>0.0</td>\n",
       "      <td>7.0</td>\n",
       "      <td>7.0</td>\n",
       "      <td>0.0</td>\n",
       "      <td>0.0</td>\n",
       "      <td>NaN</td>\n",
       "      <td>NaN</td>\n",
       "      <td>NaN</td>\n",
       "      <td>NaN</td>\n",
       "      <td>NaN</td>\n",
       "      <td>NaN</td>\n",
       "      <td>NaN</td>\n",
       "      <td>NaN</td>\n",
       "      <td>8.0</td>\n",
       "      <td>NaN</td>\n",
       "      <td>NaN</td>\n",
       "      <td>2021-2022</td>\n",
       "      <td>Monchengladbach</td>\n",
       "    </tr>\n",
       "    <tr>\n",
       "      <th>1046</th>\n",
       "      <td>2022-03-18</td>\n",
       "      <td>20:30</td>\n",
       "      <td>Matchweek 27</td>\n",
       "      <td>Fri</td>\n",
       "      <td>Home</td>\n",
       "      <td>L</td>\n",
       "      <td>0</td>\n",
       "      <td>2</td>\n",
       "      <td>Monchengladbach</td>\n",
       "      <td>NaN</td>\n",
       "      <td>NaN</td>\n",
       "      <td>51.0</td>\n",
       "      <td>Anthony Losilla</td>\n",
       "      <td>4-3-3</td>\n",
       "      <td>Benjamin Cortus</td>\n",
       "      <td>16.0</td>\n",
       "      <td>7.0</td>\n",
       "      <td>NaN</td>\n",
       "      <td>NaN</td>\n",
       "      <td>0.0</td>\n",
       "      <td>0.0</td>\n",
       "      <td>5.0</td>\n",
       "      <td>3.0</td>\n",
       "      <td>0.0</td>\n",
       "      <td>0.0</td>\n",
       "      <td>NaN</td>\n",
       "      <td>NaN</td>\n",
       "      <td>NaN</td>\n",
       "      <td>NaN</td>\n",
       "      <td>NaN</td>\n",
       "      <td>NaN</td>\n",
       "      <td>NaN</td>\n",
       "      <td>NaN</td>\n",
       "      <td>26.0</td>\n",
       "      <td>NaN</td>\n",
       "      <td>NaN</td>\n",
       "      <td>2021-2022</td>\n",
       "      <td>Bochum</td>\n",
       "    </tr>\n",
       "    <tr>\n",
       "      <th>1707</th>\n",
       "      <td>2020-11-21</td>\n",
       "      <td>15:30</td>\n",
       "      <td>Matchweek 8</td>\n",
       "      <td>Sat</td>\n",
       "      <td>Home</td>\n",
       "      <td>L</td>\n",
       "      <td>1</td>\n",
       "      <td>2</td>\n",
       "      <td>Bayer Leverkusen</td>\n",
       "      <td>0.0</td>\n",
       "      <td>1.2</td>\n",
       "      <td>31.0</td>\n",
       "      <td>Fabian Klos</td>\n",
       "      <td>4-1-4-1</td>\n",
       "      <td>Felix Brych</td>\n",
       "      <td>0.0</td>\n",
       "      <td>0.0</td>\n",
       "      <td>NaN</td>\n",
       "      <td>0.0</td>\n",
       "      <td>0.0</td>\n",
       "      <td>0.0</td>\n",
       "      <td>4.0</td>\n",
       "      <td>2.0</td>\n",
       "      <td>0.0</td>\n",
       "      <td>0.0</td>\n",
       "      <td>239.0</td>\n",
       "      <td>365.0</td>\n",
       "      <td>4896.0</td>\n",
       "      <td>2155.0</td>\n",
       "      <td>326.0</td>\n",
       "      <td>36.0</td>\n",
       "      <td>0.0</td>\n",
       "      <td>1.0</td>\n",
       "      <td>9.0</td>\n",
       "      <td>18.0</td>\n",
       "      <td>0.0</td>\n",
       "      <td>2020-2021</td>\n",
       "      <td>Arminia</td>\n",
       "    </tr>\n",
       "  </tbody>\n",
       "</table>\n",
       "</div>"
      ],
      "text/plain": [
       "           date   time         round  day venue result  gf  ga  \\\n",
       "944  2022-03-18  20:30  Matchweek 27  Fri  Away      W   2   0   \n",
       "1046 2022-03-18  20:30  Matchweek 27  Fri  Home      L   0   2   \n",
       "1707 2020-11-21  15:30   Matchweek 8  Sat  Home      L   1   2   \n",
       "\n",
       "              opponent   xg  xga  poss          captain formation  \\\n",
       "944             Bochum  NaN  NaN  49.0      Yann Sommer     3-4-3   \n",
       "1046   Monchengladbach  NaN  NaN  51.0  Anthony Losilla     4-3-3   \n",
       "1707  Bayer Leverkusen  0.0  1.2  31.0      Fabian Klos   4-1-4-1   \n",
       "\n",
       "              referee    sh  sot  dist   fk   pk  pkatt  sota  saves  pka  \\\n",
       "944   Benjamin Cortus   8.0  5.0   NaN  NaN  0.0    0.0   7.0    7.0  0.0   \n",
       "1046  Benjamin Cortus  16.0  7.0   NaN  NaN  0.0    0.0   5.0    3.0  0.0   \n",
       "1707      Felix Brych   0.0  0.0   NaN  0.0  0.0    0.0   4.0    2.0  0.0   \n",
       "\n",
       "      pksv    cmp    att  totdist  prgdist   live  dead   tb   sw   crs    ti  \\\n",
       "944    0.0    NaN    NaN      NaN      NaN    NaN   NaN  NaN  NaN   8.0   NaN   \n",
       "1046   0.0    NaN    NaN      NaN      NaN    NaN   NaN  NaN  NaN  26.0   NaN   \n",
       "1707   0.0  239.0  365.0   4896.0   2155.0  326.0  36.0  0.0  1.0   9.0  18.0   \n",
       "\n",
       "       ck     season             team  \n",
       "944   NaN  2021-2022  Monchengladbach  \n",
       "1046  NaN  2021-2022           Bochum  \n",
       "1707  0.0  2020-2021          Arminia  "
      ]
     },
     "execution_count": 14,
     "metadata": {},
     "output_type": "execute_result"
    }
   ],
   "source": [
    "df[df['dist'].isna()]"
   ]
  },
  {
   "cell_type": "code",
   "execution_count": 15,
   "metadata": {},
   "outputs": [],
   "source": [
    "df.drop(df[df['dist'].isna()].index, inplace=True)\n"
   ]
  },
  {
   "cell_type": "code",
   "execution_count": 16,
   "metadata": {},
   "outputs": [
    {
     "data": {
      "text/plain": [
       "0"
      ]
     },
     "execution_count": 16,
     "metadata": {},
     "output_type": "execute_result"
    }
   ],
   "source": [
    "# Check total number of null values\n",
    "df.isna().sum().sum()"
   ]
  },
  {
   "cell_type": "markdown",
   "metadata": {},
   "source": [
    "## Selecting features\n",
    "\n",
    "The values in our target column consist of three categories: W(in), D(raw), and L(ose). We'll simplify our target into two categories corresponding to whether the team has won or not."
   ]
  },
  {
   "cell_type": "code",
   "execution_count": 17,
   "metadata": {},
   "outputs": [],
   "source": [
    "df['target'] = (df['result'] == 'W').astype(int)"
   ]
  },
  {
   "cell_type": "code",
   "execution_count": 18,
   "metadata": {},
   "outputs": [
    {
     "data": {
      "text/plain": [
       "0    2287\n",
       "1    1382\n",
       "Name: target, dtype: int64"
      ]
     },
     "execution_count": 18,
     "metadata": {},
     "output_type": "execute_result"
    }
   ],
   "source": [
    "df['target'].value_counts()"
   ]
  },
  {
   "cell_type": "markdown",
   "metadata": {},
   "source": [
    "There are a couple of columns containing categorical data that are relevant for our purposes. Below we encode these columns into a numerical format. We also simplify a couple of time related columns."
   ]
  },
  {
   "cell_type": "code",
   "execution_count": 19,
   "metadata": {},
   "outputs": [],
   "source": [
    "df['venue_code'] = (df['venue'] == 'Home').astype(int)"
   ]
  },
  {
   "cell_type": "code",
   "execution_count": 20,
   "metadata": {},
   "outputs": [],
   "source": [
    "df['opp_code'] = df['opponent'].astype('category').cat.codes"
   ]
  },
  {
   "cell_type": "code",
   "execution_count": 21,
   "metadata": {},
   "outputs": [],
   "source": [
    "df['hour'] = df['time'].str.replace(r\":.+\", '', regex=True).astype(int)"
   ]
  },
  {
   "cell_type": "code",
   "execution_count": 22,
   "metadata": {},
   "outputs": [],
   "source": [
    "df['day_code'] = df['date'].dt.dayofweek"
   ]
  },
  {
   "cell_type": "code",
   "execution_count": 23,
   "metadata": {},
   "outputs": [
    {
     "data": {
      "text/html": [
       "<div>\n",
       "<style scoped>\n",
       "    .dataframe tbody tr th:only-of-type {\n",
       "        vertical-align: middle;\n",
       "    }\n",
       "\n",
       "    .dataframe tbody tr th {\n",
       "        vertical-align: top;\n",
       "    }\n",
       "\n",
       "    .dataframe thead th {\n",
       "        text-align: right;\n",
       "    }\n",
       "</style>\n",
       "<table border=\"1\" class=\"dataframe\">\n",
       "  <thead>\n",
       "    <tr style=\"text-align: right;\">\n",
       "      <th></th>\n",
       "      <th>date</th>\n",
       "      <th>time</th>\n",
       "      <th>round</th>\n",
       "      <th>day</th>\n",
       "      <th>venue</th>\n",
       "      <th>result</th>\n",
       "      <th>gf</th>\n",
       "      <th>ga</th>\n",
       "      <th>opponent</th>\n",
       "      <th>xg</th>\n",
       "      <th>xga</th>\n",
       "      <th>poss</th>\n",
       "      <th>captain</th>\n",
       "      <th>formation</th>\n",
       "      <th>referee</th>\n",
       "      <th>sh</th>\n",
       "      <th>sot</th>\n",
       "      <th>dist</th>\n",
       "      <th>fk</th>\n",
       "      <th>pk</th>\n",
       "      <th>pkatt</th>\n",
       "      <th>sota</th>\n",
       "      <th>saves</th>\n",
       "      <th>pka</th>\n",
       "      <th>pksv</th>\n",
       "      <th>cmp</th>\n",
       "      <th>att</th>\n",
       "      <th>totdist</th>\n",
       "      <th>prgdist</th>\n",
       "      <th>live</th>\n",
       "      <th>dead</th>\n",
       "      <th>tb</th>\n",
       "      <th>sw</th>\n",
       "      <th>crs</th>\n",
       "      <th>ti</th>\n",
       "      <th>ck</th>\n",
       "      <th>season</th>\n",
       "      <th>team</th>\n",
       "      <th>target</th>\n",
       "      <th>venue_code</th>\n",
       "      <th>opp_code</th>\n",
       "      <th>hour</th>\n",
       "      <th>day_code</th>\n",
       "    </tr>\n",
       "  </thead>\n",
       "  <tbody>\n",
       "    <tr>\n",
       "      <th>0</th>\n",
       "      <td>2022-08-05</td>\n",
       "      <td>20:30</td>\n",
       "      <td>Matchweek 1</td>\n",
       "      <td>Fri</td>\n",
       "      <td>Away</td>\n",
       "      <td>W</td>\n",
       "      <td>6</td>\n",
       "      <td>1</td>\n",
       "      <td>Eintracht Frankfurt</td>\n",
       "      <td>4.0</td>\n",
       "      <td>0.9</td>\n",
       "      <td>63.0</td>\n",
       "      <td>Manuel Neuer</td>\n",
       "      <td>4-4-2</td>\n",
       "      <td>Deniz Aytekin</td>\n",
       "      <td>23.0</td>\n",
       "      <td>10.0</td>\n",
       "      <td>16.6</td>\n",
       "      <td>1.0</td>\n",
       "      <td>0.0</td>\n",
       "      <td>0.0</td>\n",
       "      <td>2.0</td>\n",
       "      <td>1.0</td>\n",
       "      <td>0.0</td>\n",
       "      <td>0.0</td>\n",
       "      <td>572.0</td>\n",
       "      <td>661.0</td>\n",
       "      <td>10072.0</td>\n",
       "      <td>3374.0</td>\n",
       "      <td>623.0</td>\n",
       "      <td>35.0</td>\n",
       "      <td>7.0</td>\n",
       "      <td>4.0</td>\n",
       "      <td>14.0</td>\n",
       "      <td>11.0</td>\n",
       "      <td>6.0</td>\n",
       "      <td>2022-2023</td>\n",
       "      <td>Bayern Munich</td>\n",
       "      <td>1</td>\n",
       "      <td>0</td>\n",
       "      <td>7</td>\n",
       "      <td>20</td>\n",
       "      <td>4</td>\n",
       "    </tr>\n",
       "    <tr>\n",
       "      <th>1</th>\n",
       "      <td>2022-08-14</td>\n",
       "      <td>17:30</td>\n",
       "      <td>Matchweek 2</td>\n",
       "      <td>Sun</td>\n",
       "      <td>Home</td>\n",
       "      <td>W</td>\n",
       "      <td>2</td>\n",
       "      <td>0</td>\n",
       "      <td>Wolfsburg</td>\n",
       "      <td>2.0</td>\n",
       "      <td>0.5</td>\n",
       "      <td>68.0</td>\n",
       "      <td>Manuel Neuer</td>\n",
       "      <td>4-2-3-1</td>\n",
       "      <td>Harm Osmers</td>\n",
       "      <td>24.0</td>\n",
       "      <td>8.0</td>\n",
       "      <td>18.4</td>\n",
       "      <td>0.0</td>\n",
       "      <td>0.0</td>\n",
       "      <td>0.0</td>\n",
       "      <td>2.0</td>\n",
       "      <td>2.0</td>\n",
       "      <td>0.0</td>\n",
       "      <td>0.0</td>\n",
       "      <td>549.0</td>\n",
       "      <td>648.0</td>\n",
       "      <td>9680.0</td>\n",
       "      <td>3508.0</td>\n",
       "      <td>592.0</td>\n",
       "      <td>50.0</td>\n",
       "      <td>1.0</td>\n",
       "      <td>5.0</td>\n",
       "      <td>20.0</td>\n",
       "      <td>23.0</td>\n",
       "      <td>8.0</td>\n",
       "      <td>2022-2023</td>\n",
       "      <td>Bayern Munich</td>\n",
       "      <td>1</td>\n",
       "      <td>1</td>\n",
       "      <td>24</td>\n",
       "      <td>17</td>\n",
       "      <td>6</td>\n",
       "    </tr>\n",
       "    <tr>\n",
       "      <th>2</th>\n",
       "      <td>2022-08-21</td>\n",
       "      <td>17:30</td>\n",
       "      <td>Matchweek 3</td>\n",
       "      <td>Sun</td>\n",
       "      <td>Away</td>\n",
       "      <td>W</td>\n",
       "      <td>7</td>\n",
       "      <td>0</td>\n",
       "      <td>Bochum</td>\n",
       "      <td>2.9</td>\n",
       "      <td>0.7</td>\n",
       "      <td>64.0</td>\n",
       "      <td>Manuel Neuer</td>\n",
       "      <td>4-4-2</td>\n",
       "      <td>Daniel Siebert</td>\n",
       "      <td>21.0</td>\n",
       "      <td>11.0</td>\n",
       "      <td>18.3</td>\n",
       "      <td>1.0</td>\n",
       "      <td>1.0</td>\n",
       "      <td>1.0</td>\n",
       "      <td>7.0</td>\n",
       "      <td>7.0</td>\n",
       "      <td>0.0</td>\n",
       "      <td>0.0</td>\n",
       "      <td>462.0</td>\n",
       "      <td>545.0</td>\n",
       "      <td>7943.0</td>\n",
       "      <td>3056.0</td>\n",
       "      <td>498.0</td>\n",
       "      <td>42.0</td>\n",
       "      <td>3.0</td>\n",
       "      <td>2.0</td>\n",
       "      <td>10.0</td>\n",
       "      <td>16.0</td>\n",
       "      <td>5.0</td>\n",
       "      <td>2022-2023</td>\n",
       "      <td>Bayern Munich</td>\n",
       "      <td>1</td>\n",
       "      <td>0</td>\n",
       "      <td>4</td>\n",
       "      <td>17</td>\n",
       "      <td>6</td>\n",
       "    </tr>\n",
       "    <tr>\n",
       "      <th>3</th>\n",
       "      <td>2022-08-27</td>\n",
       "      <td>18:30</td>\n",
       "      <td>Matchweek 4</td>\n",
       "      <td>Sat</td>\n",
       "      <td>Home</td>\n",
       "      <td>D</td>\n",
       "      <td>1</td>\n",
       "      <td>1</td>\n",
       "      <td>Monchengladbach</td>\n",
       "      <td>2.8</td>\n",
       "      <td>0.5</td>\n",
       "      <td>69.0</td>\n",
       "      <td>Manuel Neuer</td>\n",
       "      <td>4-2-2-2</td>\n",
       "      <td>Daniel Schlager</td>\n",
       "      <td>33.0</td>\n",
       "      <td>20.0</td>\n",
       "      <td>17.4</td>\n",
       "      <td>1.0</td>\n",
       "      <td>0.0</td>\n",
       "      <td>0.0</td>\n",
       "      <td>3.0</td>\n",
       "      <td>2.0</td>\n",
       "      <td>0.0</td>\n",
       "      <td>0.0</td>\n",
       "      <td>576.0</td>\n",
       "      <td>675.0</td>\n",
       "      <td>9943.0</td>\n",
       "      <td>3614.0</td>\n",
       "      <td>621.0</td>\n",
       "      <td>47.0</td>\n",
       "      <td>1.0</td>\n",
       "      <td>7.0</td>\n",
       "      <td>33.0</td>\n",
       "      <td>20.0</td>\n",
       "      <td>14.0</td>\n",
       "      <td>2022-2023</td>\n",
       "      <td>Bayern Munich</td>\n",
       "      <td>0</td>\n",
       "      <td>1</td>\n",
       "      <td>16</td>\n",
       "      <td>18</td>\n",
       "      <td>5</td>\n",
       "    </tr>\n",
       "    <tr>\n",
       "      <th>4</th>\n",
       "      <td>2022-09-03</td>\n",
       "      <td>15:30</td>\n",
       "      <td>Matchweek 5</td>\n",
       "      <td>Sat</td>\n",
       "      <td>Away</td>\n",
       "      <td>D</td>\n",
       "      <td>1</td>\n",
       "      <td>1</td>\n",
       "      <td>Union Berlin</td>\n",
       "      <td>1.5</td>\n",
       "      <td>0.3</td>\n",
       "      <td>74.0</td>\n",
       "      <td>Manuel Neuer</td>\n",
       "      <td>4-2-3-1</td>\n",
       "      <td>Frank Willenborg</td>\n",
       "      <td>21.0</td>\n",
       "      <td>6.0</td>\n",
       "      <td>18.1</td>\n",
       "      <td>0.0</td>\n",
       "      <td>0.0</td>\n",
       "      <td>0.0</td>\n",
       "      <td>2.0</td>\n",
       "      <td>1.0</td>\n",
       "      <td>0.0</td>\n",
       "      <td>0.0</td>\n",
       "      <td>657.0</td>\n",
       "      <td>762.0</td>\n",
       "      <td>10395.0</td>\n",
       "      <td>3464.0</td>\n",
       "      <td>710.0</td>\n",
       "      <td>50.0</td>\n",
       "      <td>6.0</td>\n",
       "      <td>2.0</td>\n",
       "      <td>17.0</td>\n",
       "      <td>17.0</td>\n",
       "      <td>7.0</td>\n",
       "      <td>2022-2023</td>\n",
       "      <td>Bayern Munich</td>\n",
       "      <td>0</td>\n",
       "      <td>0</td>\n",
       "      <td>22</td>\n",
       "      <td>15</td>\n",
       "      <td>5</td>\n",
       "    </tr>\n",
       "  </tbody>\n",
       "</table>\n",
       "</div>"
      ],
      "text/plain": [
       "        date   time        round  day venue result  gf  ga  \\\n",
       "0 2022-08-05  20:30  Matchweek 1  Fri  Away      W   6   1   \n",
       "1 2022-08-14  17:30  Matchweek 2  Sun  Home      W   2   0   \n",
       "2 2022-08-21  17:30  Matchweek 3  Sun  Away      W   7   0   \n",
       "3 2022-08-27  18:30  Matchweek 4  Sat  Home      D   1   1   \n",
       "4 2022-09-03  15:30  Matchweek 5  Sat  Away      D   1   1   \n",
       "\n",
       "              opponent   xg  xga  poss       captain formation  \\\n",
       "0  Eintracht Frankfurt  4.0  0.9  63.0  Manuel Neuer     4-4-2   \n",
       "1            Wolfsburg  2.0  0.5  68.0  Manuel Neuer   4-2-3-1   \n",
       "2               Bochum  2.9  0.7  64.0  Manuel Neuer     4-4-2   \n",
       "3      Monchengladbach  2.8  0.5  69.0  Manuel Neuer   4-2-2-2   \n",
       "4         Union Berlin  1.5  0.3  74.0  Manuel Neuer   4-2-3-1   \n",
       "\n",
       "            referee    sh   sot  dist   fk   pk  pkatt  sota  saves  pka  \\\n",
       "0     Deniz Aytekin  23.0  10.0  16.6  1.0  0.0    0.0   2.0    1.0  0.0   \n",
       "1       Harm Osmers  24.0   8.0  18.4  0.0  0.0    0.0   2.0    2.0  0.0   \n",
       "2    Daniel Siebert  21.0  11.0  18.3  1.0  1.0    1.0   7.0    7.0  0.0   \n",
       "3   Daniel Schlager  33.0  20.0  17.4  1.0  0.0    0.0   3.0    2.0  0.0   \n",
       "4  Frank Willenborg  21.0   6.0  18.1  0.0  0.0    0.0   2.0    1.0  0.0   \n",
       "\n",
       "   pksv    cmp    att  totdist  prgdist   live  dead   tb   sw   crs    ti  \\\n",
       "0   0.0  572.0  661.0  10072.0   3374.0  623.0  35.0  7.0  4.0  14.0  11.0   \n",
       "1   0.0  549.0  648.0   9680.0   3508.0  592.0  50.0  1.0  5.0  20.0  23.0   \n",
       "2   0.0  462.0  545.0   7943.0   3056.0  498.0  42.0  3.0  2.0  10.0  16.0   \n",
       "3   0.0  576.0  675.0   9943.0   3614.0  621.0  47.0  1.0  7.0  33.0  20.0   \n",
       "4   0.0  657.0  762.0  10395.0   3464.0  710.0  50.0  6.0  2.0  17.0  17.0   \n",
       "\n",
       "     ck     season           team  target  venue_code  opp_code  hour  \\\n",
       "0   6.0  2022-2023  Bayern Munich       1           0         7    20   \n",
       "1   8.0  2022-2023  Bayern Munich       1           1        24    17   \n",
       "2   5.0  2022-2023  Bayern Munich       1           0         4    17   \n",
       "3  14.0  2022-2023  Bayern Munich       0           1        16    18   \n",
       "4   7.0  2022-2023  Bayern Munich       0           0        22    15   \n",
       "\n",
       "   day_code  \n",
       "0         4  \n",
       "1         6  \n",
       "2         6  \n",
       "3         5  \n",
       "4         5  "
      ]
     },
     "execution_count": 23,
     "metadata": {},
     "output_type": "execute_result"
    }
   ],
   "source": [
    "df.head()"
   ]
  },
  {
   "cell_type": "markdown",
   "metadata": {},
   "source": [
    "Aside from the four features above, we'll use some numerical features in our models. These columns were obtained from several tables we scraped from links on each team page in a separate notebook."
   ]
  },
  {
   "cell_type": "code",
   "execution_count": 24,
   "metadata": {},
   "outputs": [],
   "source": [
    "cols = ['sh', 'sot', 'dist', 'fk', 'pk', 'pkatt', 'sota', 'saves', 'pka',\n",
    "       'pksv', 'cmp', 'att', 'totdist', 'prgdist', 'live', 'dead', 'tb', 'sw',\n",
    "       'crs', 'ti', 'ck']\n",
    "\n",
    "predictors = ['venue_code', 'opp_code', 'hour', 'day_code'] + cols"
   ]
  },
  {
   "cell_type": "markdown",
   "metadata": {},
   "source": [
    "## Models\n",
    "\n",
    "In order to make sure we use previous match logs to predict later matches, we will use time series cross validation in our models. We'll visualize the splits in each iteration as a sanity check."
   ]
  },
  {
   "cell_type": "code",
   "execution_count": 25,
   "metadata": {},
   "outputs": [
    {
     "data": {
      "image/png": "[encoded data removed]",
      "text/plain": [
       "<Figure size 640x480 with 1 Axes>"
      ]
     },
     "metadata": {},
     "output_type": "display_data"
    }
   ],
   "source": [
    "X = df[predictors]\n",
    "y = df['target']\n",
    "\n",
    "tscv = TimeSeriesSplit(n_splits=5)\n",
    "\n",
    "fig, ax = plt.subplots()\n",
    "for ii, (tr, tt) in enumerate(tscv.split(X, y)):\n",
    "    l1 = ax.scatter(tr, [ii] * len(tr), c='tab:blue',\n",
    "                    marker='_', lw=6)\n",
    "    l2 = ax.scatter(tt, [ii] * len(tt), c='tab:orange',\n",
    "                    marker='_', lw=6)\n",
    "ax.set(ylim=[5, -1],\n",
    "       title='TimeSeriesSplit behavior',\n",
    "       xlabel='data index', ylabel='tscv iteration')\n",
    "ax.legend([l1, l2], ['Training', 'Validation'])\n",
    "plt.show()"
   ]
  },
  {
   "cell_type": "code",
   "execution_count": 26,
   "metadata": {},
   "outputs": [],
   "source": [
    "def scores(model, X, y):\n",
    "    scores = cross_validate(model, X, y, cv=tscv, scoring=('roc_auc', 'f1'))\n",
    "    print(f\"area under ROC: {scores['test_roc_auc']}\")\n",
    "    print(f\"mean area under ROC: {scores['test_roc_auc'].mean()}\", end='\\n\\n')\n",
    "    print(f\"F1: {scores['test_f1']}\")\n",
    "    print(f\"mean F1: {scores['test_f1'].mean()}\")"
   ]
  },
  {
   "cell_type": "markdown",
   "metadata": {},
   "source": [
    "### Model 1: K-nearest neighbors -- mean roc_auc: 0.8, mean f1: 0.659"
   ]
  },
  {
   "cell_type": "code",
   "execution_count": 27,
   "metadata": {},
   "outputs": [
    {
     "data": {
      "text/plain": [
       "SequentialFeatureSelector(cv=TimeSeriesSplit(gap=0, max_train_size=None, n_splits=5, test_size=None),\n",
       "                          estimator=KNeighborsClassifier(n_neighbors=3),\n",
       "                          n_features_to_select=10, n_jobs=1, scoring='roc_auc')"
      ]
     },
     "execution_count": 27,
     "metadata": {},
     "output_type": "execute_result"
    }
   ],
   "source": [
    "knn = KNeighborsClassifier(n_neighbors=3)\n",
    "sfs = SequentialFeatureSelector(knn, \n",
    "                                n_features_to_select=10, \n",
    "                                direction=\"forward\",\n",
    "                                cv=tscv,\n",
    "                                scoring='roc_auc',\n",
    "                                n_jobs=1\n",
    "                               )\n",
    "sfs.fit(X, y)"
   ]
  },
  {
   "cell_type": "code",
   "execution_count": 28,
   "metadata": {},
   "outputs": [
    {
     "name": "stdout",
     "output_type": "stream",
     "text": [
      "area under ROC: [0.76160956 0.80239493 0.79577354 0.81848217 0.82293476]\n",
      "mean area under ROC: 0.8002389907744625\n",
      "\n",
      "F1: [0.61502347 0.64622642 0.65296804 0.69130435 0.68949772]\n",
      "mean F1: 0.6590039981046976\n"
     ]
    }
   ],
   "source": [
    "predictors_knn = list(np.array(predictors)[sfs.get_support()])\n",
    "\n",
    "scores(knn, df[predictors_knn], df['target'])"
   ]
  },
  {
   "cell_type": "markdown",
   "metadata": {},
   "source": [
    "### Model 2: Random forest -- mean roc_auc: 0.877, mean f1: 0.712"
   ]
  },
  {
   "cell_type": "code",
   "execution_count": 29,
   "metadata": {},
   "outputs": [
    {
     "data": {
      "text/plain": [
       "SequentialFeatureSelector(cv=TimeSeriesSplit(gap=0, max_train_size=None, n_splits=5, test_size=None),\n",
       "                          estimator=RandomForestClassifier(min_samples_split=10,\n",
       "                                                           n_estimators=50,\n",
       "                                                           random_state=1),\n",
       "                          n_features_to_select=10, n_jobs=1, scoring='roc_auc')"
      ]
     },
     "execution_count": 29,
     "metadata": {},
     "output_type": "execute_result"
    }
   ],
   "source": [
    "rf = RandomForestClassifier(n_estimators=50,\n",
    "                            min_samples_split=10,\n",
    "                            random_state=1)\n",
    "sfs = SequentialFeatureSelector(rf, \n",
    "                                n_features_to_select=10, \n",
    "                                direction=\"forward\",\n",
    "                                cv=tscv,\n",
    "                                scoring='roc_auc',\n",
    "                                n_jobs=1\n",
    "                               )\n",
    "sfs.fit(X, y)"
   ]
  },
  {
   "cell_type": "code",
   "execution_count": 30,
   "metadata": {},
   "outputs": [
    {
     "name": "stdout",
     "output_type": "stream",
     "text": [
      "area under ROC: [0.84457388 0.88147381 0.87704733 0.89945182 0.88312606]\n",
      "mean area under ROC: 0.8771345802025401\n",
      "\n",
      "F1: [0.66992665 0.70673077 0.69194313 0.76388889 0.72941176]\n",
      "mean F1: 0.7123802402308748\n"
     ]
    }
   ],
   "source": [
    "predictors_rf = list(np.array(predictors)[sfs.get_support()])\n",
    "\n",
    "scores(rf, df[predictors_rf], df['target'])"
   ]
  },
  {
   "cell_type": "markdown",
   "metadata": {},
   "source": [
    "### Model 3: Ridge classifier -- mean roc_auc: 0.917, mean f1: 0.773"
   ]
  },
  {
   "cell_type": "code",
   "execution_count": 31,
   "metadata": {},
   "outputs": [
    {
     "data": {
      "text/plain": [
       "SequentialFeatureSelector(cv=TimeSeriesSplit(gap=0, max_train_size=None, n_splits=5, test_size=None),\n",
       "                          estimator=RidgeClassifier(alpha=0.1),\n",
       "                          n_features_to_select=10, n_jobs=1, scoring='roc_auc')"
      ]
     },
     "execution_count": 31,
     "metadata": {},
     "output_type": "execute_result"
    }
   ],
   "source": [
    "rc = RidgeClassifier(alpha=0.1)\n",
    "sfs = SequentialFeatureSelector(rc, \n",
    "                                n_features_to_select=10, \n",
    "                                direction=\"forward\",\n",
    "                                cv=tscv,\n",
    "                                scoring='roc_auc',\n",
    "                                n_jobs=1\n",
    "                               )\n",
    "sfs.fit(X, y)"
   ]
  },
  {
   "cell_type": "code",
   "execution_count": 32,
   "metadata": {},
   "outputs": [
    {
     "name": "stdout",
     "output_type": "stream",
     "text": [
      "area under ROC: [0.89649613 0.91839954 0.92005542 0.93456009 0.91627875]\n",
      "mean area under ROC: 0.9171579861119727\n",
      "\n",
      "F1: [0.74439462 0.77958237 0.76781609 0.78800857 0.78733032]\n",
      "mean F1: 0.7734263918860009\n"
     ]
    }
   ],
   "source": [
    "predictors_rc = list(np.array(predictors)[sfs.get_support()])\n",
    "\n",
    "scores(rc, df[predictors_rc], df['target'])"
   ]
  },
  {
   "cell_type": "markdown",
   "metadata": {},
   "source": [
    "### Model 4: Support vector classifier -- mean roc_auc: 0.898, mean f1: 0.728"
   ]
  },
  {
   "cell_type": "code",
   "execution_count": 33,
   "metadata": {},
   "outputs": [
    {
     "data": {
      "text/plain": [
       "SequentialFeatureSelector(cv=TimeSeriesSplit(gap=0, max_train_size=None, n_splits=5, test_size=None),\n",
       "                          estimator=SVC(), n_features_to_select=10, n_jobs=1,\n",
       "                          scoring='roc_auc')"
      ]
     },
     "execution_count": 33,
     "metadata": {},
     "output_type": "execute_result"
    }
   ],
   "source": [
    "from sklearn.svm import SVC\n",
    "\n",
    "svc = SVC()\n",
    "sfs = SequentialFeatureSelector(svc, \n",
    "                                n_features_to_select=10, \n",
    "                                direction=\"forward\",\n",
    "                                cv=tscv,\n",
    "                                scoring='roc_auc',\n",
    "                                n_jobs=1\n",
    "                               )\n",
    "sfs.fit(X, y)"
   ]
  },
  {
   "cell_type": "code",
   "execution_count": 34,
   "metadata": {},
   "outputs": [
    {
     "name": "stdout",
     "output_type": "stream",
     "text": [
      "area under ROC: [0.86181506 0.90014968 0.90232501 0.92611    0.90199518]\n",
      "mean area under ROC: 0.8984789869939223\n",
      "\n",
      "F1: [0.6797066  0.6962963  0.73903002 0.78867102 0.73563218]\n",
      "mean F1: 0.7278672257462329\n"
     ]
    }
   ],
   "source": [
    "predictors_svc = list(np.array(predictors)[sfs.get_support()])\n",
    "\n",
    "scores(svc, df[predictors_svc], df['target'])"
   ]
  },
  {
   "cell_type": "markdown",
   "metadata": {},
   "source": [
    "## Tuning hyperprameters"
   ]
  },
  {
   "cell_type": "code",
   "execution_count": 35,
   "metadata": {},
   "outputs": [
    {
     "data": {
      "text/plain": [
       "GridSearchCV(cv=TimeSeriesSplit(gap=0, max_train_size=None, n_splits=5, test_size=None),\n",
       "             estimator=RidgeClassifier(alpha=0.1),\n",
       "             param_grid={'alpha': [0.1, 0.2, 0.3, 0.4, 0.5, 0.6, 0.7, 0.8, 0.9,\n",
       "                                   1.0]},\n",
       "             scoring='roc_auc')"
      ]
     },
     "execution_count": 35,
     "metadata": {},
     "output_type": "execute_result"
    }
   ],
   "source": [
    "params = {'alpha': [round(a * 0.1, 1) for a in range(1, 11)]}\n",
    "\n",
    "gs = GridSearchCV(rc,\n",
    "                  param_grid=params,\n",
    "                  scoring='roc_auc',\n",
    "                  cv=tscv)\n",
    "gs.fit(X[predictors_rc], y)"
   ]
  },
  {
   "cell_type": "code",
   "execution_count": 36,
   "metadata": {},
   "outputs": [
    {
     "data": {
      "text/plain": [
       "{'alpha': 0.3}"
      ]
     },
     "execution_count": 36,
     "metadata": {},
     "output_type": "execute_result"
    }
   ],
   "source": [
    "gs.best_params_"
   ]
  },
  {
   "cell_type": "markdown",
   "metadata": {},
   "source": [
    "## Conclusion\n",
    "\n",
    "As a final note, we'll look at how well our best model can predict the last season of Bundesliga using the previous five seasons."
   ]
  },
  {
   "cell_type": "code",
   "execution_count": 37,
   "metadata": {},
   "outputs": [
    {
     "name": "stdout",
     "output_type": "stream",
     "text": [
      "area under ROC: [0.80747016 0.90830592 0.89277601 0.94048181 0.92239859]\n",
      "mean area under ROC: 0.8942864985568137\n",
      "\n",
      "F1: [0.75213675 0.79012346 0.76712329 0.75471698 0.69767442]\n",
      "mean F1: 0.752354979266967\n"
     ]
    }
   ],
   "source": [
    "rc = RidgeClassifier(alpha=0.3)\n",
    "\n",
    "train = df[df['date'] < '2022-07-01']\n",
    "test = df[df['date'] > '2022-07-01']\n",
    "\n",
    "rc.fit(train[predictors_rc], train['target'])\n",
    "\n",
    "scores(rc, test[predictors_rc], test['target'])"
   ]
  },
  {
   "cell_type": "code",
   "execution_count": 38,
   "metadata": {},
   "outputs": [
    {
     "data": {
      "image/png": "[encoded data removed]",
      "text/plain": [
       "<Figure size 640x480 with 1 Axes>"
      ]
     },
     "metadata": {},
     "output_type": "display_data"
    }
   ],
   "source": [
    "plot_roc_curve(rc, test[predictors_rc], test['target'])\n",
    "plt.show()"
   ]
  },
  {
   "cell_type": "code",
   "execution_count": 39,
   "metadata": {},
   "outputs": [
    {
     "name": "stdout",
     "output_type": "stream",
     "text": [
      "              precision    recall  f1-score   support\n",
      "\n",
      "           0       0.88      0.86      0.87       381\n",
      "           1       0.78      0.80      0.79       231\n",
      "\n",
      "    accuracy                           0.84       612\n",
      "   macro avg       0.83      0.83      0.83       612\n",
      "weighted avg       0.84      0.84      0.84       612\n",
      "\n"
     ]
    }
   ],
   "source": [
    "print(classification_report(test['target'],\n",
    "                            rc.predict(test[predictors_rc]))\n",
    ")"
   ]
  },
  {
   "cell_type": "code",
   "execution_count": 40,
   "metadata": {},
   "outputs": [
    {
     "data": {
      "text/plain": [
       "0    2287\n",
       "1    1382\n",
       "Name: target, dtype: int64"
      ]
     },
     "execution_count": 40,
     "metadata": {},
     "output_type": "execute_result"
    }
   ],
   "source": [
    "df['target'].value_counts()"
   ]
  },
  {
   "cell_type": "markdown",
   "metadata": {},
   "source": [
    "Our model seems to be doing better when it comes to negative prediction. This makes sense since our target set contains much more negative outcomes than positive ones as a result of our labeling both draws and losses as 0's."
   ]
  }
 ],
 "metadata": {
  "kernelspec": {
   "display_name": "base",
   "language": "python",
   "name": "python3"
  },
  "language_info": {
   "codemirror_mode": {
    "name": "ipython",
    "version": 3
   },
   "file_extension": ".py",
   "mimetype": "text/x-python",
   "name": "python",
   "nbconvert_exporter": "python",
   "pygments_lexer": "ipython3",
   "version": "3.8.13"
  },
  "orig_nbformat": 4
 },
 "nbformat": 4,
 "nbformat_minor": 2
}
