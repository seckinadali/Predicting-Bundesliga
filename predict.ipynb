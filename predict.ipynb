{
 "cells": [
  {
   "cell_type": "markdown",
   "metadata": {},
   "source": [
    "# Predicting Bundesliga Match Results\n",
    "\n",
    "In this project, we'll use Bundesliga match logs to build a model on predicting the winner of a match. We have scraped data from [https://fbref.com](https://fbref.com) and created a csv file in a separate notebook.\n",
    "\n",
    "Our data spans six full seasons. We'll compare the performances of random forest, ridge and support vector classifiers on our data set."
   ]
  },
  {
   "cell_type": "markdown",
   "metadata": {},
   "source": [
    "## Cleaning the data set"
   ]
  },
  {
   "cell_type": "code",
   "execution_count": 1,
   "metadata": {},
   "outputs": [],
   "source": [
    "import warnings\n",
    "warnings.simplefilter(action='ignore', category=FutureWarning)\n",
    "\n",
    "import numpy as np\n",
    "import pandas as pd\n",
    "from sklearn.linear_model import RidgeClassifier\n",
    "from sklearn.ensemble import RandomForestClassifier\n",
    "from sklearn.svm import SVC\n",
    "from sklearn.feature_selection import SequentialFeatureSelector, SelectKBest\n",
    "from sklearn.model_selection import TimeSeriesSplit, cross_val_score, GridSearchCV\n",
    "from sklearn.pipeline import Pipeline\n",
    "from sklearn.metrics import f1_score, make_scorer, confusion_matrix, RocCurveDisplay\n",
    "import matplotlib.pyplot as plt\n",
    "import seaborn as sns\n",
    "%matplotlib inline"
   ]
  },
  {
   "cell_type": "code",
   "execution_count": 2,
   "metadata": {},
   "outputs": [
    {
     "data": {
      "text/plain": [
       "(3672, 40)"
      ]
     },
     "execution_count": 2,
     "metadata": {},
     "output_type": "execute_result"
    }
   ],
   "source": [
    "df = pd.read_csv('match_data.csv')\n",
    "df.shape"
   ]
  },
  {
   "cell_type": "code",
   "execution_count": 3,
   "metadata": {},
   "outputs": [
    {
     "data": {
      "text/html": [
       "<div>\n",
       "<style scoped>\n",
       "    .dataframe tbody tr th:only-of-type {\n",
       "        vertical-align: middle;\n",
       "    }\n",
       "\n",
       "    .dataframe tbody tr th {\n",
       "        vertical-align: top;\n",
       "    }\n",
       "\n",
       "    .dataframe thead th {\n",
       "        text-align: right;\n",
       "    }\n",
       "</style>\n",
       "<table border=\"1\" class=\"dataframe\">\n",
       "  <thead>\n",
       "    <tr style=\"text-align: right;\">\n",
       "      <th></th>\n",
       "      <th>Unnamed: 0</th>\n",
       "      <th>date</th>\n",
       "      <th>time</th>\n",
       "      <th>round</th>\n",
       "      <th>day</th>\n",
       "      <th>venue</th>\n",
       "      <th>result</th>\n",
       "      <th>gf</th>\n",
       "      <th>ga</th>\n",
       "      <th>opponent</th>\n",
       "      <th>...</th>\n",
       "      <th>prgdist</th>\n",
       "      <th>live</th>\n",
       "      <th>dead</th>\n",
       "      <th>tb</th>\n",
       "      <th>sw</th>\n",
       "      <th>crs</th>\n",
       "      <th>ti</th>\n",
       "      <th>ck</th>\n",
       "      <th>season</th>\n",
       "      <th>team</th>\n",
       "    </tr>\n",
       "  </thead>\n",
       "  <tbody>\n",
       "    <tr>\n",
       "      <th>0</th>\n",
       "      <td>1</td>\n",
       "      <td>2022-08-05</td>\n",
       "      <td>20:30</td>\n",
       "      <td>Matchweek 1</td>\n",
       "      <td>Fri</td>\n",
       "      <td>Away</td>\n",
       "      <td>W</td>\n",
       "      <td>6</td>\n",
       "      <td>1</td>\n",
       "      <td>Eint Frankfurt</td>\n",
       "      <td>...</td>\n",
       "      <td>3374.0</td>\n",
       "      <td>623.0</td>\n",
       "      <td>35.0</td>\n",
       "      <td>7.0</td>\n",
       "      <td>4.0</td>\n",
       "      <td>14.0</td>\n",
       "      <td>11.0</td>\n",
       "      <td>6.0</td>\n",
       "      <td>2022-2023</td>\n",
       "      <td>Bayern Munich</td>\n",
       "    </tr>\n",
       "    <tr>\n",
       "      <th>1</th>\n",
       "      <td>2</td>\n",
       "      <td>2022-08-14</td>\n",
       "      <td>17:30</td>\n",
       "      <td>Matchweek 2</td>\n",
       "      <td>Sun</td>\n",
       "      <td>Home</td>\n",
       "      <td>W</td>\n",
       "      <td>2</td>\n",
       "      <td>0</td>\n",
       "      <td>Wolfsburg</td>\n",
       "      <td>...</td>\n",
       "      <td>3508.0</td>\n",
       "      <td>592.0</td>\n",
       "      <td>50.0</td>\n",
       "      <td>1.0</td>\n",
       "      <td>5.0</td>\n",
       "      <td>20.0</td>\n",
       "      <td>23.0</td>\n",
       "      <td>8.0</td>\n",
       "      <td>2022-2023</td>\n",
       "      <td>Bayern Munich</td>\n",
       "    </tr>\n",
       "    <tr>\n",
       "      <th>2</th>\n",
       "      <td>3</td>\n",
       "      <td>2022-08-21</td>\n",
       "      <td>17:30</td>\n",
       "      <td>Matchweek 3</td>\n",
       "      <td>Sun</td>\n",
       "      <td>Away</td>\n",
       "      <td>W</td>\n",
       "      <td>7</td>\n",
       "      <td>0</td>\n",
       "      <td>Bochum</td>\n",
       "      <td>...</td>\n",
       "      <td>3056.0</td>\n",
       "      <td>498.0</td>\n",
       "      <td>42.0</td>\n",
       "      <td>3.0</td>\n",
       "      <td>2.0</td>\n",
       "      <td>10.0</td>\n",
       "      <td>16.0</td>\n",
       "      <td>5.0</td>\n",
       "      <td>2022-2023</td>\n",
       "      <td>Bayern Munich</td>\n",
       "    </tr>\n",
       "    <tr>\n",
       "      <th>3</th>\n",
       "      <td>4</td>\n",
       "      <td>2022-08-27</td>\n",
       "      <td>18:30</td>\n",
       "      <td>Matchweek 4</td>\n",
       "      <td>Sat</td>\n",
       "      <td>Home</td>\n",
       "      <td>D</td>\n",
       "      <td>1</td>\n",
       "      <td>1</td>\n",
       "      <td>M'Gladbach</td>\n",
       "      <td>...</td>\n",
       "      <td>3614.0</td>\n",
       "      <td>621.0</td>\n",
       "      <td>47.0</td>\n",
       "      <td>1.0</td>\n",
       "      <td>7.0</td>\n",
       "      <td>33.0</td>\n",
       "      <td>20.0</td>\n",
       "      <td>14.0</td>\n",
       "      <td>2022-2023</td>\n",
       "      <td>Bayern Munich</td>\n",
       "    </tr>\n",
       "    <tr>\n",
       "      <th>4</th>\n",
       "      <td>6</td>\n",
       "      <td>2022-09-03</td>\n",
       "      <td>15:30</td>\n",
       "      <td>Matchweek 5</td>\n",
       "      <td>Sat</td>\n",
       "      <td>Away</td>\n",
       "      <td>D</td>\n",
       "      <td>1</td>\n",
       "      <td>1</td>\n",
       "      <td>Union Berlin</td>\n",
       "      <td>...</td>\n",
       "      <td>3464.0</td>\n",
       "      <td>710.0</td>\n",
       "      <td>50.0</td>\n",
       "      <td>6.0</td>\n",
       "      <td>2.0</td>\n",
       "      <td>17.0</td>\n",
       "      <td>17.0</td>\n",
       "      <td>7.0</td>\n",
       "      <td>2022-2023</td>\n",
       "      <td>Bayern Munich</td>\n",
       "    </tr>\n",
       "  </tbody>\n",
       "</table>\n",
       "<p>5 rows × 40 columns</p>\n",
       "</div>"
      ],
      "text/plain": [
       "   Unnamed: 0        date   time        round  day venue result  gf  ga  \\\n",
       "0           1  2022-08-05  20:30  Matchweek 1  Fri  Away      W   6   1   \n",
       "1           2  2022-08-14  17:30  Matchweek 2  Sun  Home      W   2   0   \n",
       "2           3  2022-08-21  17:30  Matchweek 3  Sun  Away      W   7   0   \n",
       "3           4  2022-08-27  18:30  Matchweek 4  Sat  Home      D   1   1   \n",
       "4           6  2022-09-03  15:30  Matchweek 5  Sat  Away      D   1   1   \n",
       "\n",
       "         opponent  ...  prgdist   live  dead   tb   sw   crs    ti    ck  \\\n",
       "0  Eint Frankfurt  ...   3374.0  623.0  35.0  7.0  4.0  14.0  11.0   6.0   \n",
       "1       Wolfsburg  ...   3508.0  592.0  50.0  1.0  5.0  20.0  23.0   8.0   \n",
       "2          Bochum  ...   3056.0  498.0  42.0  3.0  2.0  10.0  16.0   5.0   \n",
       "3      M'Gladbach  ...   3614.0  621.0  47.0  1.0  7.0  33.0  20.0  14.0   \n",
       "4    Union Berlin  ...   3464.0  710.0  50.0  6.0  2.0  17.0  17.0   7.0   \n",
       "\n",
       "      season           team  \n",
       "0  2022-2023  Bayern Munich  \n",
       "1  2022-2023  Bayern Munich  \n",
       "2  2022-2023  Bayern Munich  \n",
       "3  2022-2023  Bayern Munich  \n",
       "4  2022-2023  Bayern Munich  \n",
       "\n",
       "[5 rows x 40 columns]"
      ]
     },
     "execution_count": 3,
     "metadata": {},
     "output_type": "execute_result"
    }
   ],
   "source": [
    "df.head()"
   ]
  },
  {
   "cell_type": "code",
   "execution_count": 4,
   "metadata": {},
   "outputs": [],
   "source": [
    "df.drop('Unnamed: 0', axis=1, inplace=True)"
   ]
  },
  {
   "cell_type": "code",
   "execution_count": 5,
   "metadata": {},
   "outputs": [
    {
     "data": {
      "text/plain": [
       "Matchweek 1     108\n",
       "Matchweek 4     108\n",
       "Matchweek 5     108\n",
       "Matchweek 6     108\n",
       "Matchweek 7     108\n",
       "Matchweek 8     108\n",
       "Matchweek 9     108\n",
       "Matchweek 10    108\n",
       "Matchweek 11    108\n",
       "Matchweek 12    108\n",
       "Matchweek 13    108\n",
       "Matchweek 14    108\n",
       "Matchweek 15    108\n",
       "Matchweek 16    108\n",
       "Matchweek 17    108\n",
       "Matchweek 18    108\n",
       "Matchweek 19    108\n",
       "Matchweek 33    108\n",
       "Matchweek 26    108\n",
       "Matchweek 20    108\n",
       "Matchweek 21    108\n",
       "Matchweek 22    108\n",
       "Matchweek 23    108\n",
       "Matchweek 24    108\n",
       "Matchweek 3     108\n",
       "Matchweek 25    108\n",
       "Matchweek 2     108\n",
       "Matchweek 28    108\n",
       "Matchweek 29    108\n",
       "Matchweek 30    108\n",
       "Matchweek 31    108\n",
       "Matchweek 32    108\n",
       "Matchweek 27    108\n",
       "Matchweek 34    108\n",
       "Name: round, dtype: int64"
      ]
     },
     "execution_count": 5,
     "metadata": {},
     "output_type": "execute_result"
    }
   ],
   "source": [
    "# Check if there are any missing matches\n",
    "df['round'].value_counts().sort_values()"
   ]
  },
  {
   "cell_type": "code",
   "execution_count": 6,
   "metadata": {},
   "outputs": [],
   "source": [
    "df['date'] = pd.to_datetime(df['date'])"
   ]
  },
  {
   "cell_type": "code",
   "execution_count": 7,
   "metadata": {},
   "outputs": [
    {
     "data": {
      "text/html": [
       "<div>\n",
       "<style scoped>\n",
       "    .dataframe tbody tr th:only-of-type {\n",
       "        vertical-align: middle;\n",
       "    }\n",
       "\n",
       "    .dataframe tbody tr th {\n",
       "        vertical-align: top;\n",
       "    }\n",
       "\n",
       "    .dataframe thead th {\n",
       "        text-align: right;\n",
       "    }\n",
       "</style>\n",
       "<table border=\"1\" class=\"dataframe\">\n",
       "  <thead>\n",
       "    <tr style=\"text-align: right;\">\n",
       "      <th></th>\n",
       "      <th>date</th>\n",
       "      <th>time</th>\n",
       "      <th>round</th>\n",
       "      <th>day</th>\n",
       "      <th>venue</th>\n",
       "      <th>result</th>\n",
       "      <th>gf</th>\n",
       "      <th>ga</th>\n",
       "      <th>opponent</th>\n",
       "      <th>xg</th>\n",
       "      <th>xga</th>\n",
       "      <th>poss</th>\n",
       "      <th>attendance</th>\n",
       "      <th>captain</th>\n",
       "      <th>formation</th>\n",
       "      <th>referee</th>\n",
       "      <th>sh</th>\n",
       "      <th>sot</th>\n",
       "      <th>dist</th>\n",
       "      <th>fk</th>\n",
       "      <th>pk</th>\n",
       "      <th>pkatt</th>\n",
       "      <th>sota</th>\n",
       "      <th>saves</th>\n",
       "      <th>pka</th>\n",
       "      <th>pksv</th>\n",
       "      <th>cmp</th>\n",
       "      <th>att</th>\n",
       "      <th>totdist</th>\n",
       "      <th>prgdist</th>\n",
       "      <th>live</th>\n",
       "      <th>dead</th>\n",
       "      <th>tb</th>\n",
       "      <th>sw</th>\n",
       "      <th>crs</th>\n",
       "      <th>ti</th>\n",
       "      <th>ck</th>\n",
       "      <th>season</th>\n",
       "      <th>team</th>\n",
       "    </tr>\n",
       "  </thead>\n",
       "  <tbody>\n",
       "    <tr>\n",
       "      <th>0</th>\n",
       "      <td>2022-08-05</td>\n",
       "      <td>20:30</td>\n",
       "      <td>Matchweek 1</td>\n",
       "      <td>Fri</td>\n",
       "      <td>Away</td>\n",
       "      <td>W</td>\n",
       "      <td>6</td>\n",
       "      <td>1</td>\n",
       "      <td>Eint Frankfurt</td>\n",
       "      <td>4.0</td>\n",
       "      <td>0.9</td>\n",
       "      <td>63.0</td>\n",
       "      <td>51500.0</td>\n",
       "      <td>Manuel Neuer</td>\n",
       "      <td>4-4-2</td>\n",
       "      <td>Deniz Aytekin</td>\n",
       "      <td>23.0</td>\n",
       "      <td>10.0</td>\n",
       "      <td>16.6</td>\n",
       "      <td>1.0</td>\n",
       "      <td>0.0</td>\n",
       "      <td>0.0</td>\n",
       "      <td>2.0</td>\n",
       "      <td>1.0</td>\n",
       "      <td>0.0</td>\n",
       "      <td>0.0</td>\n",
       "      <td>572.0</td>\n",
       "      <td>661.0</td>\n",
       "      <td>10072.0</td>\n",
       "      <td>3374.0</td>\n",
       "      <td>623.0</td>\n",
       "      <td>35.0</td>\n",
       "      <td>7.0</td>\n",
       "      <td>4.0</td>\n",
       "      <td>14.0</td>\n",
       "      <td>11.0</td>\n",
       "      <td>6.0</td>\n",
       "      <td>2022-2023</td>\n",
       "      <td>Bayern Munich</td>\n",
       "    </tr>\n",
       "    <tr>\n",
       "      <th>1</th>\n",
       "      <td>2022-08-14</td>\n",
       "      <td>17:30</td>\n",
       "      <td>Matchweek 2</td>\n",
       "      <td>Sun</td>\n",
       "      <td>Home</td>\n",
       "      <td>W</td>\n",
       "      <td>2</td>\n",
       "      <td>0</td>\n",
       "      <td>Wolfsburg</td>\n",
       "      <td>2.0</td>\n",
       "      <td>0.5</td>\n",
       "      <td>68.0</td>\n",
       "      <td>75000.0</td>\n",
       "      <td>Manuel Neuer</td>\n",
       "      <td>4-2-3-1</td>\n",
       "      <td>Harm Osmers</td>\n",
       "      <td>24.0</td>\n",
       "      <td>8.0</td>\n",
       "      <td>18.4</td>\n",
       "      <td>0.0</td>\n",
       "      <td>0.0</td>\n",
       "      <td>0.0</td>\n",
       "      <td>2.0</td>\n",
       "      <td>2.0</td>\n",
       "      <td>0.0</td>\n",
       "      <td>0.0</td>\n",
       "      <td>549.0</td>\n",
       "      <td>648.0</td>\n",
       "      <td>9680.0</td>\n",
       "      <td>3508.0</td>\n",
       "      <td>592.0</td>\n",
       "      <td>50.0</td>\n",
       "      <td>1.0</td>\n",
       "      <td>5.0</td>\n",
       "      <td>20.0</td>\n",
       "      <td>23.0</td>\n",
       "      <td>8.0</td>\n",
       "      <td>2022-2023</td>\n",
       "      <td>Bayern Munich</td>\n",
       "    </tr>\n",
       "    <tr>\n",
       "      <th>2</th>\n",
       "      <td>2022-08-21</td>\n",
       "      <td>17:30</td>\n",
       "      <td>Matchweek 3</td>\n",
       "      <td>Sun</td>\n",
       "      <td>Away</td>\n",
       "      <td>W</td>\n",
       "      <td>7</td>\n",
       "      <td>0</td>\n",
       "      <td>Bochum</td>\n",
       "      <td>2.9</td>\n",
       "      <td>0.7</td>\n",
       "      <td>64.0</td>\n",
       "      <td>26000.0</td>\n",
       "      <td>Manuel Neuer</td>\n",
       "      <td>4-4-2</td>\n",
       "      <td>Daniel Siebert</td>\n",
       "      <td>21.0</td>\n",
       "      <td>11.0</td>\n",
       "      <td>18.3</td>\n",
       "      <td>1.0</td>\n",
       "      <td>1.0</td>\n",
       "      <td>1.0</td>\n",
       "      <td>7.0</td>\n",
       "      <td>7.0</td>\n",
       "      <td>0.0</td>\n",
       "      <td>0.0</td>\n",
       "      <td>462.0</td>\n",
       "      <td>545.0</td>\n",
       "      <td>7943.0</td>\n",
       "      <td>3056.0</td>\n",
       "      <td>498.0</td>\n",
       "      <td>42.0</td>\n",
       "      <td>3.0</td>\n",
       "      <td>2.0</td>\n",
       "      <td>10.0</td>\n",
       "      <td>16.0</td>\n",
       "      <td>5.0</td>\n",
       "      <td>2022-2023</td>\n",
       "      <td>Bayern Munich</td>\n",
       "    </tr>\n",
       "    <tr>\n",
       "      <th>3</th>\n",
       "      <td>2022-08-27</td>\n",
       "      <td>18:30</td>\n",
       "      <td>Matchweek 4</td>\n",
       "      <td>Sat</td>\n",
       "      <td>Home</td>\n",
       "      <td>D</td>\n",
       "      <td>1</td>\n",
       "      <td>1</td>\n",
       "      <td>M'Gladbach</td>\n",
       "      <td>2.8</td>\n",
       "      <td>0.5</td>\n",
       "      <td>69.0</td>\n",
       "      <td>75000.0</td>\n",
       "      <td>Manuel Neuer</td>\n",
       "      <td>4-2-2-2</td>\n",
       "      <td>Daniel Schlager</td>\n",
       "      <td>33.0</td>\n",
       "      <td>20.0</td>\n",
       "      <td>17.4</td>\n",
       "      <td>1.0</td>\n",
       "      <td>0.0</td>\n",
       "      <td>0.0</td>\n",
       "      <td>3.0</td>\n",
       "      <td>2.0</td>\n",
       "      <td>0.0</td>\n",
       "      <td>0.0</td>\n",
       "      <td>576.0</td>\n",
       "      <td>675.0</td>\n",
       "      <td>9943.0</td>\n",
       "      <td>3614.0</td>\n",
       "      <td>621.0</td>\n",
       "      <td>47.0</td>\n",
       "      <td>1.0</td>\n",
       "      <td>7.0</td>\n",
       "      <td>33.0</td>\n",
       "      <td>20.0</td>\n",
       "      <td>14.0</td>\n",
       "      <td>2022-2023</td>\n",
       "      <td>Bayern Munich</td>\n",
       "    </tr>\n",
       "    <tr>\n",
       "      <th>4</th>\n",
       "      <td>2022-09-03</td>\n",
       "      <td>15:30</td>\n",
       "      <td>Matchweek 5</td>\n",
       "      <td>Sat</td>\n",
       "      <td>Away</td>\n",
       "      <td>D</td>\n",
       "      <td>1</td>\n",
       "      <td>1</td>\n",
       "      <td>Union Berlin</td>\n",
       "      <td>1.5</td>\n",
       "      <td>0.3</td>\n",
       "      <td>74.0</td>\n",
       "      <td>22012.0</td>\n",
       "      <td>Manuel Neuer</td>\n",
       "      <td>4-2-3-1</td>\n",
       "      <td>Frank Willenborg</td>\n",
       "      <td>21.0</td>\n",
       "      <td>6.0</td>\n",
       "      <td>18.1</td>\n",
       "      <td>0.0</td>\n",
       "      <td>0.0</td>\n",
       "      <td>0.0</td>\n",
       "      <td>2.0</td>\n",
       "      <td>1.0</td>\n",
       "      <td>0.0</td>\n",
       "      <td>0.0</td>\n",
       "      <td>657.0</td>\n",
       "      <td>762.0</td>\n",
       "      <td>10395.0</td>\n",
       "      <td>3464.0</td>\n",
       "      <td>710.0</td>\n",
       "      <td>50.0</td>\n",
       "      <td>6.0</td>\n",
       "      <td>2.0</td>\n",
       "      <td>17.0</td>\n",
       "      <td>17.0</td>\n",
       "      <td>7.0</td>\n",
       "      <td>2022-2023</td>\n",
       "      <td>Bayern Munich</td>\n",
       "    </tr>\n",
       "  </tbody>\n",
       "</table>\n",
       "</div>"
      ],
      "text/plain": [
       "        date   time        round  day venue result  gf  ga        opponent  \\\n",
       "0 2022-08-05  20:30  Matchweek 1  Fri  Away      W   6   1  Eint Frankfurt   \n",
       "1 2022-08-14  17:30  Matchweek 2  Sun  Home      W   2   0       Wolfsburg   \n",
       "2 2022-08-21  17:30  Matchweek 3  Sun  Away      W   7   0          Bochum   \n",
       "3 2022-08-27  18:30  Matchweek 4  Sat  Home      D   1   1      M'Gladbach   \n",
       "4 2022-09-03  15:30  Matchweek 5  Sat  Away      D   1   1    Union Berlin   \n",
       "\n",
       "    xg  xga  poss  attendance       captain formation           referee    sh  \\\n",
       "0  4.0  0.9  63.0     51500.0  Manuel Neuer     4-4-2     Deniz Aytekin  23.0   \n",
       "1  2.0  0.5  68.0     75000.0  Manuel Neuer   4-2-3-1       Harm Osmers  24.0   \n",
       "2  2.9  0.7  64.0     26000.0  Manuel Neuer     4-4-2    Daniel Siebert  21.0   \n",
       "3  2.8  0.5  69.0     75000.0  Manuel Neuer   4-2-2-2   Daniel Schlager  33.0   \n",
       "4  1.5  0.3  74.0     22012.0  Manuel Neuer   4-2-3-1  Frank Willenborg  21.0   \n",
       "\n",
       "    sot  dist   fk   pk  pkatt  sota  saves  pka  pksv    cmp    att  totdist  \\\n",
       "0  10.0  16.6  1.0  0.0    0.0   2.0    1.0  0.0   0.0  572.0  661.0  10072.0   \n",
       "1   8.0  18.4  0.0  0.0    0.0   2.0    2.0  0.0   0.0  549.0  648.0   9680.0   \n",
       "2  11.0  18.3  1.0  1.0    1.0   7.0    7.0  0.0   0.0  462.0  545.0   7943.0   \n",
       "3  20.0  17.4  1.0  0.0    0.0   3.0    2.0  0.0   0.0  576.0  675.0   9943.0   \n",
       "4   6.0  18.1  0.0  0.0    0.0   2.0    1.0  0.0   0.0  657.0  762.0  10395.0   \n",
       "\n",
       "   prgdist   live  dead   tb   sw   crs    ti    ck     season           team  \n",
       "0   3374.0  623.0  35.0  7.0  4.0  14.0  11.0   6.0  2022-2023  Bayern Munich  \n",
       "1   3508.0  592.0  50.0  1.0  5.0  20.0  23.0   8.0  2022-2023  Bayern Munich  \n",
       "2   3056.0  498.0  42.0  3.0  2.0  10.0  16.0   5.0  2022-2023  Bayern Munich  \n",
       "3   3614.0  621.0  47.0  1.0  7.0  33.0  20.0  14.0  2022-2023  Bayern Munich  \n",
       "4   3464.0  710.0  50.0  6.0  2.0  17.0  17.0   7.0  2022-2023  Bayern Munich  "
      ]
     },
     "execution_count": 7,
     "metadata": {},
     "output_type": "execute_result"
    }
   ],
   "source": [
    "pd.set_option('display.max_columns', None)\n",
    "df.head()"
   ]
  },
  {
   "cell_type": "markdown",
   "metadata": {},
   "source": [
    "There are inconsistencies in the team names in `team` and `opponent` columns; below we look at the different occurences of the same team, and standardize the names."
   ]
  },
  {
   "cell_type": "code",
   "execution_count": 8,
   "metadata": {},
   "outputs": [
    {
     "data": {
      "text/plain": [
       "{'Bayer Leverkusen',\n",
       " 'Dusseldorf',\n",
       " 'Düsseldorf',\n",
       " 'Eint Frankfurt',\n",
       " 'Eintracht Frankfurt',\n",
       " 'Greuther Furth',\n",
       " 'Greuther Fürth',\n",
       " 'Koln',\n",
       " 'Köln',\n",
       " 'Leverkusen',\n",
       " \"M'Gladbach\",\n",
       " 'Monchengladbach',\n",
       " 'Nurnberg',\n",
       " 'Nürnberg'}"
      ]
     },
     "execution_count": 8,
     "metadata": {},
     "output_type": "execute_result"
    }
   ],
   "source": [
    "team_set = set(df['team'].unique())\n",
    "opp_set = set(df['opponent'].unique())\n",
    "\n",
    "diff = (team_set - opp_set) | (opp_set - team_set)\n",
    "diff\n"
   ]
  },
  {
   "cell_type": "code",
   "execution_count": 9,
   "metadata": {},
   "outputs": [],
   "source": [
    "class MissingDict(dict):\n",
    "    __missing__ = lambda self, key: key\n",
    "\n",
    "map_values = {\n",
    "    'Koln':'Köln',\n",
    "    'Leverkusen': 'Bayer Leverkusen',\n",
    "    'Dusseldorf': 'Düsseldorf',\n",
    "    'Eint Frankfurt': 'Eintracht Frankfurt',\n",
    "    'Greuther Furth': 'Greuther Fürth',\n",
    "    \"M'Gladbach\": 'Monchengladbach',\n",
    "    'Nurnberg': 'Nürnberg'\n",
    "}\n",
    "\n",
    "mapping = MissingDict(**map_values)"
   ]
  },
  {
   "cell_type": "code",
   "execution_count": 10,
   "metadata": {},
   "outputs": [],
   "source": [
    "df['team'] = df['team'].map(mapping)"
   ]
  },
  {
   "cell_type": "code",
   "execution_count": 11,
   "metadata": {},
   "outputs": [],
   "source": [
    "df['opponent'] = df['opponent'].map(mapping)"
   ]
  },
  {
   "cell_type": "markdown",
   "metadata": {},
   "source": [
    "We need to take care of null values in order to use most machine learning models. Below we observe that the `attendance` column has a lot of null values. We remove this column altogether since it is not necessary for our purposes. We also observe that all other null values appear in three rows, which we also remove."
   ]
  },
  {
   "cell_type": "code",
   "execution_count": 12,
   "metadata": {},
   "outputs": [
    {
     "data": {
      "text/plain": [
       "attendance    744\n",
       "dist            3\n",
       "fk              2\n",
       "xg              2\n",
       "cmp             2\n",
       "att             2\n",
       "totdist         2\n",
       "prgdist         2\n",
       "live            2\n",
       "xga             2\n",
       "dead            2\n",
       "tb              2\n",
       "sw              2\n",
       "ti              2\n",
       "ck              2\n",
       "sota            0\n",
       "crs             0\n",
       "pksv            0\n",
       "season          0\n",
       "pka             0\n",
       "saves           0\n",
       "date            0\n",
       "pkatt           0\n",
       "opponent        0\n",
       "round           0\n",
       "day             0\n",
       "venue           0\n",
       "result          0\n",
       "gf              0\n",
       "ga              0\n",
       "poss            0\n",
       "pk              0\n",
       "captain         0\n",
       "formation       0\n",
       "referee         0\n",
       "sh              0\n",
       "sot             0\n",
       "time            0\n",
       "team            0\n",
       "dtype: int64"
      ]
     },
     "execution_count": 12,
     "metadata": {},
     "output_type": "execute_result"
    }
   ],
   "source": [
    "df.isna().sum().sort_values(ascending=False)"
   ]
  },
  {
   "cell_type": "code",
   "execution_count": 13,
   "metadata": {},
   "outputs": [],
   "source": [
    "df.drop('attendance', axis=1, inplace=True)"
   ]
  },
  {
   "cell_type": "code",
   "execution_count": 14,
   "metadata": {},
   "outputs": [
    {
     "data": {
      "text/html": [
       "<div>\n",
       "<style scoped>\n",
       "    .dataframe tbody tr th:only-of-type {\n",
       "        vertical-align: middle;\n",
       "    }\n",
       "\n",
       "    .dataframe tbody tr th {\n",
       "        vertical-align: top;\n",
       "    }\n",
       "\n",
       "    .dataframe thead th {\n",
       "        text-align: right;\n",
       "    }\n",
       "</style>\n",
       "<table border=\"1\" class=\"dataframe\">\n",
       "  <thead>\n",
       "    <tr style=\"text-align: right;\">\n",
       "      <th></th>\n",
       "      <th>date</th>\n",
       "      <th>time</th>\n",
       "      <th>round</th>\n",
       "      <th>day</th>\n",
       "      <th>venue</th>\n",
       "      <th>result</th>\n",
       "      <th>gf</th>\n",
       "      <th>ga</th>\n",
       "      <th>opponent</th>\n",
       "      <th>xg</th>\n",
       "      <th>xga</th>\n",
       "      <th>poss</th>\n",
       "      <th>captain</th>\n",
       "      <th>formation</th>\n",
       "      <th>referee</th>\n",
       "      <th>sh</th>\n",
       "      <th>sot</th>\n",
       "      <th>dist</th>\n",
       "      <th>fk</th>\n",
       "      <th>pk</th>\n",
       "      <th>pkatt</th>\n",
       "      <th>sota</th>\n",
       "      <th>saves</th>\n",
       "      <th>pka</th>\n",
       "      <th>pksv</th>\n",
       "      <th>cmp</th>\n",
       "      <th>att</th>\n",
       "      <th>totdist</th>\n",
       "      <th>prgdist</th>\n",
       "      <th>live</th>\n",
       "      <th>dead</th>\n",
       "      <th>tb</th>\n",
       "      <th>sw</th>\n",
       "      <th>crs</th>\n",
       "      <th>ti</th>\n",
       "      <th>ck</th>\n",
       "      <th>season</th>\n",
       "      <th>team</th>\n",
       "    </tr>\n",
       "  </thead>\n",
       "  <tbody>\n",
       "    <tr>\n",
       "      <th>944</th>\n",
       "      <td>2022-03-18</td>\n",
       "      <td>20:30</td>\n",
       "      <td>Matchweek 27</td>\n",
       "      <td>Fri</td>\n",
       "      <td>Away</td>\n",
       "      <td>W</td>\n",
       "      <td>2</td>\n",
       "      <td>0</td>\n",
       "      <td>Bochum</td>\n",
       "      <td>NaN</td>\n",
       "      <td>NaN</td>\n",
       "      <td>49.0</td>\n",
       "      <td>Yann Sommer</td>\n",
       "      <td>3-4-3</td>\n",
       "      <td>Benjamin Cortus</td>\n",
       "      <td>8.0</td>\n",
       "      <td>5.0</td>\n",
       "      <td>NaN</td>\n",
       "      <td>NaN</td>\n",
       "      <td>0.0</td>\n",
       "      <td>0.0</td>\n",
       "      <td>7.0</td>\n",
       "      <td>7.0</td>\n",
       "      <td>0.0</td>\n",
       "      <td>0.0</td>\n",
       "      <td>NaN</td>\n",
       "      <td>NaN</td>\n",
       "      <td>NaN</td>\n",
       "      <td>NaN</td>\n",
       "      <td>NaN</td>\n",
       "      <td>NaN</td>\n",
       "      <td>NaN</td>\n",
       "      <td>NaN</td>\n",
       "      <td>8.0</td>\n",
       "      <td>NaN</td>\n",
       "      <td>NaN</td>\n",
       "      <td>2021-2022</td>\n",
       "      <td>Monchengladbach</td>\n",
       "    </tr>\n",
       "    <tr>\n",
       "      <th>1046</th>\n",
       "      <td>2022-03-18</td>\n",
       "      <td>20:30</td>\n",
       "      <td>Matchweek 27</td>\n",
       "      <td>Fri</td>\n",
       "      <td>Home</td>\n",
       "      <td>L</td>\n",
       "      <td>0</td>\n",
       "      <td>2</td>\n",
       "      <td>Monchengladbach</td>\n",
       "      <td>NaN</td>\n",
       "      <td>NaN</td>\n",
       "      <td>51.0</td>\n",
       "      <td>Anthony Losilla</td>\n",
       "      <td>4-3-3</td>\n",
       "      <td>Benjamin Cortus</td>\n",
       "      <td>16.0</td>\n",
       "      <td>7.0</td>\n",
       "      <td>NaN</td>\n",
       "      <td>NaN</td>\n",
       "      <td>0.0</td>\n",
       "      <td>0.0</td>\n",
       "      <td>5.0</td>\n",
       "      <td>3.0</td>\n",
       "      <td>0.0</td>\n",
       "      <td>0.0</td>\n",
       "      <td>NaN</td>\n",
       "      <td>NaN</td>\n",
       "      <td>NaN</td>\n",
       "      <td>NaN</td>\n",
       "      <td>NaN</td>\n",
       "      <td>NaN</td>\n",
       "      <td>NaN</td>\n",
       "      <td>NaN</td>\n",
       "      <td>26.0</td>\n",
       "      <td>NaN</td>\n",
       "      <td>NaN</td>\n",
       "      <td>2021-2022</td>\n",
       "      <td>Bochum</td>\n",
       "    </tr>\n",
       "    <tr>\n",
       "      <th>1707</th>\n",
       "      <td>2020-11-21</td>\n",
       "      <td>15:30</td>\n",
       "      <td>Matchweek 8</td>\n",
       "      <td>Sat</td>\n",
       "      <td>Home</td>\n",
       "      <td>L</td>\n",
       "      <td>1</td>\n",
       "      <td>2</td>\n",
       "      <td>Bayer Leverkusen</td>\n",
       "      <td>0.0</td>\n",
       "      <td>1.2</td>\n",
       "      <td>31.0</td>\n",
       "      <td>Fabian Klos</td>\n",
       "      <td>4-1-4-1</td>\n",
       "      <td>Felix Brych</td>\n",
       "      <td>0.0</td>\n",
       "      <td>0.0</td>\n",
       "      <td>NaN</td>\n",
       "      <td>0.0</td>\n",
       "      <td>0.0</td>\n",
       "      <td>0.0</td>\n",
       "      <td>4.0</td>\n",
       "      <td>2.0</td>\n",
       "      <td>0.0</td>\n",
       "      <td>0.0</td>\n",
       "      <td>239.0</td>\n",
       "      <td>365.0</td>\n",
       "      <td>4896.0</td>\n",
       "      <td>2155.0</td>\n",
       "      <td>326.0</td>\n",
       "      <td>36.0</td>\n",
       "      <td>0.0</td>\n",
       "      <td>1.0</td>\n",
       "      <td>9.0</td>\n",
       "      <td>18.0</td>\n",
       "      <td>0.0</td>\n",
       "      <td>2020-2021</td>\n",
       "      <td>Arminia</td>\n",
       "    </tr>\n",
       "  </tbody>\n",
       "</table>\n",
       "</div>"
      ],
      "text/plain": [
       "           date   time         round  day venue result  gf  ga  \\\n",
       "944  2022-03-18  20:30  Matchweek 27  Fri  Away      W   2   0   \n",
       "1046 2022-03-18  20:30  Matchweek 27  Fri  Home      L   0   2   \n",
       "1707 2020-11-21  15:30   Matchweek 8  Sat  Home      L   1   2   \n",
       "\n",
       "              opponent   xg  xga  poss          captain formation  \\\n",
       "944             Bochum  NaN  NaN  49.0      Yann Sommer     3-4-3   \n",
       "1046   Monchengladbach  NaN  NaN  51.0  Anthony Losilla     4-3-3   \n",
       "1707  Bayer Leverkusen  0.0  1.2  31.0      Fabian Klos   4-1-4-1   \n",
       "\n",
       "              referee    sh  sot  dist   fk   pk  pkatt  sota  saves  pka  \\\n",
       "944   Benjamin Cortus   8.0  5.0   NaN  NaN  0.0    0.0   7.0    7.0  0.0   \n",
       "1046  Benjamin Cortus  16.0  7.0   NaN  NaN  0.0    0.0   5.0    3.0  0.0   \n",
       "1707      Felix Brych   0.0  0.0   NaN  0.0  0.0    0.0   4.0    2.0  0.0   \n",
       "\n",
       "      pksv    cmp    att  totdist  prgdist   live  dead   tb   sw   crs    ti  \\\n",
       "944    0.0    NaN    NaN      NaN      NaN    NaN   NaN  NaN  NaN   8.0   NaN   \n",
       "1046   0.0    NaN    NaN      NaN      NaN    NaN   NaN  NaN  NaN  26.0   NaN   \n",
       "1707   0.0  239.0  365.0   4896.0   2155.0  326.0  36.0  0.0  1.0   9.0  18.0   \n",
       "\n",
       "       ck     season             team  \n",
       "944   NaN  2021-2022  Monchengladbach  \n",
       "1046  NaN  2021-2022           Bochum  \n",
       "1707  0.0  2020-2021          Arminia  "
      ]
     },
     "execution_count": 14,
     "metadata": {},
     "output_type": "execute_result"
    }
   ],
   "source": [
    "df[df['dist'].isna()]"
   ]
  },
  {
   "cell_type": "code",
   "execution_count": 15,
   "metadata": {},
   "outputs": [],
   "source": [
    "df.drop(df[df['dist'].isna()].index, inplace=True)\n"
   ]
  },
  {
   "cell_type": "code",
   "execution_count": 16,
   "metadata": {},
   "outputs": [
    {
     "data": {
      "text/plain": [
       "0"
      ]
     },
     "execution_count": 16,
     "metadata": {},
     "output_type": "execute_result"
    }
   ],
   "source": [
    "# Check total number of null values\n",
    "df.isna().sum().sum()"
   ]
  },
  {
   "cell_type": "markdown",
   "metadata": {},
   "source": [
    "## Selecting features\n",
    "\n",
    "The values in our target column consist of three categories: W(in), D(raw), and L(ose). We'll simplify our target into two categories corresponding to whether the team has won or not."
   ]
  },
  {
   "cell_type": "code",
   "execution_count": 17,
   "metadata": {},
   "outputs": [],
   "source": [
    "df['target'] = (df['result'] == 'W').astype(int)"
   ]
  },
  {
   "cell_type": "code",
   "execution_count": 18,
   "metadata": {},
   "outputs": [
    {
     "data": {
      "text/plain": [
       "0    2287\n",
       "1    1382\n",
       "Name: target, dtype: int64"
      ]
     },
     "execution_count": 18,
     "metadata": {},
     "output_type": "execute_result"
    }
   ],
   "source": [
    "df['target'].value_counts()"
   ]
  },
  {
   "cell_type": "markdown",
   "metadata": {},
   "source": [
    "There are a couple of columns containing categorical data that are relevant for our purposes. Below we encode these columns into a numerical format. We also simplify a couple of time related columns."
   ]
  },
  {
   "cell_type": "code",
   "execution_count": 19,
   "metadata": {},
   "outputs": [],
   "source": [
    "df['venue_code'] = (df['venue'] == 'Home').astype(int)"
   ]
  },
  {
   "cell_type": "code",
   "execution_count": 20,
   "metadata": {},
   "outputs": [],
   "source": [
    "df['opp_code'] = df['opponent'].astype('category').cat.codes"
   ]
  },
  {
   "cell_type": "code",
   "execution_count": 21,
   "metadata": {},
   "outputs": [],
   "source": [
    "df['hour'] = df['time'].str.replace(r\":.+\", '', regex=True).astype(int)"
   ]
  },
  {
   "cell_type": "code",
   "execution_count": 22,
   "metadata": {},
   "outputs": [],
   "source": [
    "df['day_code'] = df['date'].dt.dayofweek"
   ]
  },
  {
   "cell_type": "code",
   "execution_count": 23,
   "metadata": {},
   "outputs": [
    {
     "data": {
      "text/html": [
       "<div>\n",
       "<style scoped>\n",
       "    .dataframe tbody tr th:only-of-type {\n",
       "        vertical-align: middle;\n",
       "    }\n",
       "\n",
       "    .dataframe tbody tr th {\n",
       "        vertical-align: top;\n",
       "    }\n",
       "\n",
       "    .dataframe thead th {\n",
       "        text-align: right;\n",
       "    }\n",
       "</style>\n",
       "<table border=\"1\" class=\"dataframe\">\n",
       "  <thead>\n",
       "    <tr style=\"text-align: right;\">\n",
       "      <th></th>\n",
       "      <th>date</th>\n",
       "      <th>time</th>\n",
       "      <th>round</th>\n",
       "      <th>day</th>\n",
       "      <th>venue</th>\n",
       "      <th>result</th>\n",
       "      <th>gf</th>\n",
       "      <th>ga</th>\n",
       "      <th>opponent</th>\n",
       "      <th>xg</th>\n",
       "      <th>xga</th>\n",
       "      <th>poss</th>\n",
       "      <th>captain</th>\n",
       "      <th>formation</th>\n",
       "      <th>referee</th>\n",
       "      <th>sh</th>\n",
       "      <th>sot</th>\n",
       "      <th>dist</th>\n",
       "      <th>fk</th>\n",
       "      <th>pk</th>\n",
       "      <th>pkatt</th>\n",
       "      <th>sota</th>\n",
       "      <th>saves</th>\n",
       "      <th>pka</th>\n",
       "      <th>pksv</th>\n",
       "      <th>cmp</th>\n",
       "      <th>att</th>\n",
       "      <th>totdist</th>\n",
       "      <th>prgdist</th>\n",
       "      <th>live</th>\n",
       "      <th>dead</th>\n",
       "      <th>tb</th>\n",
       "      <th>sw</th>\n",
       "      <th>crs</th>\n",
       "      <th>ti</th>\n",
       "      <th>ck</th>\n",
       "      <th>season</th>\n",
       "      <th>team</th>\n",
       "      <th>target</th>\n",
       "      <th>venue_code</th>\n",
       "      <th>opp_code</th>\n",
       "      <th>hour</th>\n",
       "      <th>day_code</th>\n",
       "    </tr>\n",
       "  </thead>\n",
       "  <tbody>\n",
       "    <tr>\n",
       "      <th>0</th>\n",
       "      <td>2022-08-05</td>\n",
       "      <td>20:30</td>\n",
       "      <td>Matchweek 1</td>\n",
       "      <td>Fri</td>\n",
       "      <td>Away</td>\n",
       "      <td>W</td>\n",
       "      <td>6</td>\n",
       "      <td>1</td>\n",
       "      <td>Eintracht Frankfurt</td>\n",
       "      <td>4.0</td>\n",
       "      <td>0.9</td>\n",
       "      <td>63.0</td>\n",
       "      <td>Manuel Neuer</td>\n",
       "      <td>4-4-2</td>\n",
       "      <td>Deniz Aytekin</td>\n",
       "      <td>23.0</td>\n",
       "      <td>10.0</td>\n",
       "      <td>16.6</td>\n",
       "      <td>1.0</td>\n",
       "      <td>0.0</td>\n",
       "      <td>0.0</td>\n",
       "      <td>2.0</td>\n",
       "      <td>1.0</td>\n",
       "      <td>0.0</td>\n",
       "      <td>0.0</td>\n",
       "      <td>572.0</td>\n",
       "      <td>661.0</td>\n",
       "      <td>10072.0</td>\n",
       "      <td>3374.0</td>\n",
       "      <td>623.0</td>\n",
       "      <td>35.0</td>\n",
       "      <td>7.0</td>\n",
       "      <td>4.0</td>\n",
       "      <td>14.0</td>\n",
       "      <td>11.0</td>\n",
       "      <td>6.0</td>\n",
       "      <td>2022-2023</td>\n",
       "      <td>Bayern Munich</td>\n",
       "      <td>1</td>\n",
       "      <td>0</td>\n",
       "      <td>7</td>\n",
       "      <td>20</td>\n",
       "      <td>4</td>\n",
       "    </tr>\n",
       "    <tr>\n",
       "      <th>1</th>\n",
       "      <td>2022-08-14</td>\n",
       "      <td>17:30</td>\n",
       "      <td>Matchweek 2</td>\n",
       "      <td>Sun</td>\n",
       "      <td>Home</td>\n",
       "      <td>W</td>\n",
       "      <td>2</td>\n",
       "      <td>0</td>\n",
       "      <td>Wolfsburg</td>\n",
       "      <td>2.0</td>\n",
       "      <td>0.5</td>\n",
       "      <td>68.0</td>\n",
       "      <td>Manuel Neuer</td>\n",
       "      <td>4-2-3-1</td>\n",
       "      <td>Harm Osmers</td>\n",
       "      <td>24.0</td>\n",
       "      <td>8.0</td>\n",
       "      <td>18.4</td>\n",
       "      <td>0.0</td>\n",
       "      <td>0.0</td>\n",
       "      <td>0.0</td>\n",
       "      <td>2.0</td>\n",
       "      <td>2.0</td>\n",
       "      <td>0.0</td>\n",
       "      <td>0.0</td>\n",
       "      <td>549.0</td>\n",
       "      <td>648.0</td>\n",
       "      <td>9680.0</td>\n",
       "      <td>3508.0</td>\n",
       "      <td>592.0</td>\n",
       "      <td>50.0</td>\n",
       "      <td>1.0</td>\n",
       "      <td>5.0</td>\n",
       "      <td>20.0</td>\n",
       "      <td>23.0</td>\n",
       "      <td>8.0</td>\n",
       "      <td>2022-2023</td>\n",
       "      <td>Bayern Munich</td>\n",
       "      <td>1</td>\n",
       "      <td>1</td>\n",
       "      <td>24</td>\n",
       "      <td>17</td>\n",
       "      <td>6</td>\n",
       "    </tr>\n",
       "    <tr>\n",
       "      <th>2</th>\n",
       "      <td>2022-08-21</td>\n",
       "      <td>17:30</td>\n",
       "      <td>Matchweek 3</td>\n",
       "      <td>Sun</td>\n",
       "      <td>Away</td>\n",
       "      <td>W</td>\n",
       "      <td>7</td>\n",
       "      <td>0</td>\n",
       "      <td>Bochum</td>\n",
       "      <td>2.9</td>\n",
       "      <td>0.7</td>\n",
       "      <td>64.0</td>\n",
       "      <td>Manuel Neuer</td>\n",
       "      <td>4-4-2</td>\n",
       "      <td>Daniel Siebert</td>\n",
       "      <td>21.0</td>\n",
       "      <td>11.0</td>\n",
       "      <td>18.3</td>\n",
       "      <td>1.0</td>\n",
       "      <td>1.0</td>\n",
       "      <td>1.0</td>\n",
       "      <td>7.0</td>\n",
       "      <td>7.0</td>\n",
       "      <td>0.0</td>\n",
       "      <td>0.0</td>\n",
       "      <td>462.0</td>\n",
       "      <td>545.0</td>\n",
       "      <td>7943.0</td>\n",
       "      <td>3056.0</td>\n",
       "      <td>498.0</td>\n",
       "      <td>42.0</td>\n",
       "      <td>3.0</td>\n",
       "      <td>2.0</td>\n",
       "      <td>10.0</td>\n",
       "      <td>16.0</td>\n",
       "      <td>5.0</td>\n",
       "      <td>2022-2023</td>\n",
       "      <td>Bayern Munich</td>\n",
       "      <td>1</td>\n",
       "      <td>0</td>\n",
       "      <td>4</td>\n",
       "      <td>17</td>\n",
       "      <td>6</td>\n",
       "    </tr>\n",
       "    <tr>\n",
       "      <th>3</th>\n",
       "      <td>2022-08-27</td>\n",
       "      <td>18:30</td>\n",
       "      <td>Matchweek 4</td>\n",
       "      <td>Sat</td>\n",
       "      <td>Home</td>\n",
       "      <td>D</td>\n",
       "      <td>1</td>\n",
       "      <td>1</td>\n",
       "      <td>Monchengladbach</td>\n",
       "      <td>2.8</td>\n",
       "      <td>0.5</td>\n",
       "      <td>69.0</td>\n",
       "      <td>Manuel Neuer</td>\n",
       "      <td>4-2-2-2</td>\n",
       "      <td>Daniel Schlager</td>\n",
       "      <td>33.0</td>\n",
       "      <td>20.0</td>\n",
       "      <td>17.4</td>\n",
       "      <td>1.0</td>\n",
       "      <td>0.0</td>\n",
       "      <td>0.0</td>\n",
       "      <td>3.0</td>\n",
       "      <td>2.0</td>\n",
       "      <td>0.0</td>\n",
       "      <td>0.0</td>\n",
       "      <td>576.0</td>\n",
       "      <td>675.0</td>\n",
       "      <td>9943.0</td>\n",
       "      <td>3614.0</td>\n",
       "      <td>621.0</td>\n",
       "      <td>47.0</td>\n",
       "      <td>1.0</td>\n",
       "      <td>7.0</td>\n",
       "      <td>33.0</td>\n",
       "      <td>20.0</td>\n",
       "      <td>14.0</td>\n",
       "      <td>2022-2023</td>\n",
       "      <td>Bayern Munich</td>\n",
       "      <td>0</td>\n",
       "      <td>1</td>\n",
       "      <td>16</td>\n",
       "      <td>18</td>\n",
       "      <td>5</td>\n",
       "    </tr>\n",
       "    <tr>\n",
       "      <th>4</th>\n",
       "      <td>2022-09-03</td>\n",
       "      <td>15:30</td>\n",
       "      <td>Matchweek 5</td>\n",
       "      <td>Sat</td>\n",
       "      <td>Away</td>\n",
       "      <td>D</td>\n",
       "      <td>1</td>\n",
       "      <td>1</td>\n",
       "      <td>Union Berlin</td>\n",
       "      <td>1.5</td>\n",
       "      <td>0.3</td>\n",
       "      <td>74.0</td>\n",
       "      <td>Manuel Neuer</td>\n",
       "      <td>4-2-3-1</td>\n",
       "      <td>Frank Willenborg</td>\n",
       "      <td>21.0</td>\n",
       "      <td>6.0</td>\n",
       "      <td>18.1</td>\n",
       "      <td>0.0</td>\n",
       "      <td>0.0</td>\n",
       "      <td>0.0</td>\n",
       "      <td>2.0</td>\n",
       "      <td>1.0</td>\n",
       "      <td>0.0</td>\n",
       "      <td>0.0</td>\n",
       "      <td>657.0</td>\n",
       "      <td>762.0</td>\n",
       "      <td>10395.0</td>\n",
       "      <td>3464.0</td>\n",
       "      <td>710.0</td>\n",
       "      <td>50.0</td>\n",
       "      <td>6.0</td>\n",
       "      <td>2.0</td>\n",
       "      <td>17.0</td>\n",
       "      <td>17.0</td>\n",
       "      <td>7.0</td>\n",
       "      <td>2022-2023</td>\n",
       "      <td>Bayern Munich</td>\n",
       "      <td>0</td>\n",
       "      <td>0</td>\n",
       "      <td>22</td>\n",
       "      <td>15</td>\n",
       "      <td>5</td>\n",
       "    </tr>\n",
       "  </tbody>\n",
       "</table>\n",
       "</div>"
      ],
      "text/plain": [
       "        date   time        round  day venue result  gf  ga  \\\n",
       "0 2022-08-05  20:30  Matchweek 1  Fri  Away      W   6   1   \n",
       "1 2022-08-14  17:30  Matchweek 2  Sun  Home      W   2   0   \n",
       "2 2022-08-21  17:30  Matchweek 3  Sun  Away      W   7   0   \n",
       "3 2022-08-27  18:30  Matchweek 4  Sat  Home      D   1   1   \n",
       "4 2022-09-03  15:30  Matchweek 5  Sat  Away      D   1   1   \n",
       "\n",
       "              opponent   xg  xga  poss       captain formation  \\\n",
       "0  Eintracht Frankfurt  4.0  0.9  63.0  Manuel Neuer     4-4-2   \n",
       "1            Wolfsburg  2.0  0.5  68.0  Manuel Neuer   4-2-3-1   \n",
       "2               Bochum  2.9  0.7  64.0  Manuel Neuer     4-4-2   \n",
       "3      Monchengladbach  2.8  0.5  69.0  Manuel Neuer   4-2-2-2   \n",
       "4         Union Berlin  1.5  0.3  74.0  Manuel Neuer   4-2-3-1   \n",
       "\n",
       "            referee    sh   sot  dist   fk   pk  pkatt  sota  saves  pka  \\\n",
       "0     Deniz Aytekin  23.0  10.0  16.6  1.0  0.0    0.0   2.0    1.0  0.0   \n",
       "1       Harm Osmers  24.0   8.0  18.4  0.0  0.0    0.0   2.0    2.0  0.0   \n",
       "2    Daniel Siebert  21.0  11.0  18.3  1.0  1.0    1.0   7.0    7.0  0.0   \n",
       "3   Daniel Schlager  33.0  20.0  17.4  1.0  0.0    0.0   3.0    2.0  0.0   \n",
       "4  Frank Willenborg  21.0   6.0  18.1  0.0  0.0    0.0   2.0    1.0  0.0   \n",
       "\n",
       "   pksv    cmp    att  totdist  prgdist   live  dead   tb   sw   crs    ti  \\\n",
       "0   0.0  572.0  661.0  10072.0   3374.0  623.0  35.0  7.0  4.0  14.0  11.0   \n",
       "1   0.0  549.0  648.0   9680.0   3508.0  592.0  50.0  1.0  5.0  20.0  23.0   \n",
       "2   0.0  462.0  545.0   7943.0   3056.0  498.0  42.0  3.0  2.0  10.0  16.0   \n",
       "3   0.0  576.0  675.0   9943.0   3614.0  621.0  47.0  1.0  7.0  33.0  20.0   \n",
       "4   0.0  657.0  762.0  10395.0   3464.0  710.0  50.0  6.0  2.0  17.0  17.0   \n",
       "\n",
       "     ck     season           team  target  venue_code  opp_code  hour  \\\n",
       "0   6.0  2022-2023  Bayern Munich       1           0         7    20   \n",
       "1   8.0  2022-2023  Bayern Munich       1           1        24    17   \n",
       "2   5.0  2022-2023  Bayern Munich       1           0         4    17   \n",
       "3  14.0  2022-2023  Bayern Munich       0           1        16    18   \n",
       "4   7.0  2022-2023  Bayern Munich       0           0        22    15   \n",
       "\n",
       "   day_code  \n",
       "0         4  \n",
       "1         6  \n",
       "2         6  \n",
       "3         5  \n",
       "4         5  "
      ]
     },
     "execution_count": 23,
     "metadata": {},
     "output_type": "execute_result"
    }
   ],
   "source": [
    "df.head()"
   ]
  },
  {
   "cell_type": "markdown",
   "metadata": {},
   "source": [
    "Aside from the four features above, we'll use some numerical features in our models. These columns were obtained from several tables we scraped from links on each team page in a separate notebook."
   ]
  },
  {
   "cell_type": "code",
   "execution_count": 24,
   "metadata": {},
   "outputs": [],
   "source": [
    "num_cols = ['sh', 'sot', 'dist', 'fk', 'pk', 'pkatt', 'sota', 'saves', 'pka',\n",
    "       'pksv', 'cmp', 'att', 'totdist', 'prgdist', 'live', 'dead', 'tb', 'sw',\n",
    "       'crs', 'ti', 'ck']\n",
    "\n",
    "predictors = ['venue_code', 'opp_code', 'hour', 'day_code'] + num_cols"
   ]
  },
  {
   "cell_type": "markdown",
   "metadata": {},
   "source": [
    "## Models\n",
    "\n",
    "We'll keep the last season as our validation set, and the previous seaons will be our training set. In order to make sure we use previous match logs to predict later matches, we will use time series cross validation on our training set."
   ]
  },
  {
   "cell_type": "code",
   "execution_count": 25,
   "metadata": {},
   "outputs": [],
   "source": [
    "train = df[df['date'] < '2022-07-01']\n",
    "val = df[df['date'] > '2022-07-01']\n",
    "\n",
    "X = train[predictors]\n",
    "y = train['target']\n",
    "\n",
    "X_val = val[predictors]\n",
    "y_val = val['target']"
   ]
  },
  {
   "cell_type": "code",
   "execution_count": 26,
   "metadata": {},
   "outputs": [
    {
     "data": {
      "image/png": "[encoded data removed]",
      "text/plain": [
       "<Figure size 640x480 with 1 Axes>"
      ]
     },
     "metadata": {},
     "output_type": "display_data"
    }
   ],
   "source": [
    "tscv = TimeSeriesSplit(n_splits=5)\n",
    "\n",
    "# Visualize the splits as a sanity check\n",
    "fig, ax = plt.subplots()\n",
    "for ii, (tr, tt) in enumerate(tscv.split(X, y)):\n",
    "    l1 = ax.scatter(tr, [ii] * len(tr), c='tab:blue',\n",
    "                    marker='_', lw=6)\n",
    "    l2 = ax.scatter(tt, [ii] * len(tt), c='tab:orange',\n",
    "                    marker='_', lw=6)\n",
    "ax.set(ylim=[5, -1],\n",
    "       title='TimeSeriesSplit behavior',\n",
    "       xlabel='data index', ylabel='tscv iteration')\n",
    "ax.legend([l1, l2], ['Training', 'Test'])\n",
    "plt.show()"
   ]
  },
  {
   "cell_type": "markdown",
   "metadata": {},
   "source": [
    "We will use f1 score as our main metric."
   ]
  },
  {
   "cell_type": "code",
   "execution_count": 27,
   "metadata": {},
   "outputs": [],
   "source": [
    "f1_scorer = make_scorer(f1_score)\n",
    "\n",
    "def scores(model, features):\n",
    "    f1 = cross_val_score(model, X[features], y, cv=tscv, scoring=f1_scorer)\n",
    "    print(\"Cross validation on training set:\")\n",
    "    print(f\"f1 scores: {f1}\")\n",
    "    print(f\"mean f1 score: {np.mean(f1)}\")\n",
    "    print(f\"standard deviation of f1 scores: {np.std(f1)}\", end='\\n\\n')\n",
    "\n",
    "    model.fit(X[features], y)\n",
    "    f1 = f1_score(y_val, model.predict(X_val[features]))\n",
    "    print(\"Validation set:\")\n",
    "    print(f\"f1 score: {f1}\")\n",
    "\n",
    "    cm = confusion_matrix(y_val, model.predict(X_val[features]))\n",
    "    names = ['True Neg','False Pos','False Neg','True Pos']\n",
    "    counts = ['{0:0.0f}'.format(v) for v in cm.flatten()]\n",
    "    percentages = ['{0:.2%}'.format(v) for v in cm.flatten()/np.sum(cm)]\n",
    "    labels = [f'{v1}\\n{v2}\\n{v3}' for v1, v2, v3 in zip(names, counts, percentages)]\n",
    "    labels = np.asarray(labels).reshape(2, 2)\n",
    "    sns.heatmap(cm, annot=labels, cmap='Blues', fmt='')\n",
    "    plt.show()"
   ]
  },
  {
   "cell_type": "markdown",
   "metadata": {},
   "source": [
    "We'll apply a few machine learning models on our data set. For each model, we'll do the following:\n",
    "\n",
    "1. Use training set and a pipeline to\n",
    "\n",
    "    - determine the number of features to use\n",
    "    - select these features\n",
    "    - tune the parameters of the model using grid search  \n",
    "<br>\n",
    "\n",
    "2. Use training set and sequential feature selection with the parameters of the previuos step\n",
    "\n",
    "3. Note the performance of the resulting model on both training and validation sets"
   ]
  },
  {
   "cell_type": "markdown",
   "metadata": {},
   "source": [
    "### Model 1: Random forest classifier"
   ]
  },
  {
   "cell_type": "code",
   "execution_count": 28,
   "metadata": {},
   "outputs": [
    {
     "data": {
      "text/plain": [
       "GridSearchCV(cv=TimeSeriesSplit(gap=0, max_train_size=None, n_splits=5, test_size=None),\n",
       "             estimator=Pipeline(steps=[('feature_selection', SelectKBest()),\n",
       "                                       ('classifier',\n",
       "                                        RandomForestClassifier(random_state=1))]),\n",
       "             param_grid={'classifier__max_depth': range(3, 8),\n",
       "                         'classifier__min_samples_split': range(2, 11, 2),\n",
       "                         'classifier__n_estimators': [50, 100],\n",
       "                         'feature_selection__k': [5, 10, 15, 20]},\n",
       "             scoring=make_scorer(f1_score))"
      ]
     },
     "execution_count": 28,
     "metadata": {},
     "output_type": "execute_result"
    }
   ],
   "source": [
    "pipe = Pipeline([\n",
    "    ('feature_selection', SelectKBest()),\n",
    "    ('classifier', RandomForestClassifier(random_state=1))\n",
    "])\n",
    "\n",
    "params = dict(\n",
    "    feature_selection__k = list(range(5, 21, 5)),\n",
    "    classifier__n_estimators = [50, 100],\n",
    "    classifier__min_samples_split = range(2, 11, 2),\n",
    "    classifier__max_depth = range(3, 8)\n",
    ")\n",
    "\n",
    "gs = GridSearchCV(pipe,\n",
    "                  param_grid=params,\n",
    "                  cv=tscv,\n",
    "                  scoring=f1_scorer\n",
    "                  )\n",
    "\n",
    "gs.fit(X, y)"
   ]
  },
  {
   "cell_type": "code",
   "execution_count": 29,
   "metadata": {},
   "outputs": [
    {
     "data": {
      "text/plain": [
       "{'classifier__max_depth': 7,\n",
       " 'classifier__min_samples_split': 4,\n",
       " 'classifier__n_estimators': 50,\n",
       " 'feature_selection__k': 20}"
      ]
     },
     "execution_count": 29,
     "metadata": {},
     "output_type": "execute_result"
    }
   ],
   "source": [
    "gs.best_params_"
   ]
  },
  {
   "cell_type": "code",
   "execution_count": 30,
   "metadata": {},
   "outputs": [
    {
     "data": {
      "text/plain": [
       "SequentialFeatureSelector(cv=TimeSeriesSplit(gap=0, max_train_size=None, n_splits=5, test_size=None),\n",
       "                          estimator=RandomForestClassifier(max_depth=7,\n",
       "                                                           min_samples_split=4,\n",
       "                                                           n_estimators=50,\n",
       "                                                           random_state=1),\n",
       "                          n_features_to_select=20, n_jobs=1,\n",
       "                          scoring=make_scorer(f1_score))"
      ]
     },
     "execution_count": 30,
     "metadata": {},
     "output_type": "execute_result"
    }
   ],
   "source": [
    "rf = RandomForestClassifier(n_estimators=50,\n",
    "                            min_samples_split=4,\n",
    "                            max_depth=7,\n",
    "                            random_state=1)\n",
    "sfs = SequentialFeatureSelector(rf, \n",
    "                                n_features_to_select=20, \n",
    "                                direction=\"forward\",\n",
    "                                cv=tscv,\n",
    "                                scoring=f1_scorer,\n",
    "                                n_jobs=1\n",
    "                               )\n",
    "sfs.fit(X, y)"
   ]
  },
  {
   "cell_type": "code",
   "execution_count": 31,
   "metadata": {},
   "outputs": [
    {
     "name": "stdout",
     "output_type": "stream",
     "text": [
      "Cross validation on training set:\n",
      "f1 scores: [0.62395543 0.63253012 0.67058824 0.71111111 0.56060606]\n",
      "mean f1 score: 0.6397581918496182\n",
      "standard deviation of f1 scores: 0.05021705445091866\n",
      "\n",
      "Validation set:\n",
      "f1 score: 0.6437346437346437\n"
     ]
    },
    {
     "data": {
      "image/png": "[encoded data removed]",
      "text/plain": [
       "<Figure size 640x480 with 2 Axes>"
      ]
     },
     "metadata": {},
     "output_type": "display_data"
    }
   ],
   "source": [
    "predictors_rf = list(np.array(predictors)[sfs.get_support()])\n",
    "\n",
    "scores(rf, predictors_rf)"
   ]
  },
  {
   "cell_type": "markdown",
   "metadata": {},
   "source": [
    "### Model 2: Ridge classifier"
   ]
  },
  {
   "cell_type": "code",
   "execution_count": 32,
   "metadata": {},
   "outputs": [
    {
     "data": {
      "text/plain": [
       "GridSearchCV(cv=TimeSeriesSplit(gap=0, max_train_size=None, n_splits=5, test_size=None),\n",
       "             estimator=Pipeline(steps=[('feature_selection', SelectKBest()),\n",
       "                                       ('classifier', RidgeClassifier())]),\n",
       "             param_grid={'classifier__alpha': [0.1, 0.2, 0.3, 0.4, 0.5, 0.6,\n",
       "                                               0.7, 0.8, 0.9, 1.0],\n",
       "                         'feature_selection__k': [5, 10, 15, 20]},\n",
       "             scoring=make_scorer(f1_score))"
      ]
     },
     "execution_count": 32,
     "metadata": {},
     "output_type": "execute_result"
    }
   ],
   "source": [
    "pipe = Pipeline([\n",
    "    ('feature_selection', SelectKBest()),\n",
    "    ('classifier', RidgeClassifier())\n",
    "])\n",
    "\n",
    "params = dict(\n",
    "    feature_selection__k = list(range(5, 21, 5)),\n",
    "    classifier__alpha = [round(a * 0.1, 1) for a in range(1, 11)]\n",
    ")\n",
    "\n",
    "gs = GridSearchCV(pipe,\n",
    "                  param_grid=params,\n",
    "                  cv=tscv,\n",
    "                  scoring=f1_scorer\n",
    "                  )\n",
    "\n",
    "gs.fit(X, y)"
   ]
  },
  {
   "cell_type": "code",
   "execution_count": 33,
   "metadata": {},
   "outputs": [
    {
     "data": {
      "text/plain": [
       "{'classifier__alpha': 0.9, 'feature_selection__k': 20}"
      ]
     },
     "execution_count": 33,
     "metadata": {},
     "output_type": "execute_result"
    }
   ],
   "source": [
    "gs.best_params_"
   ]
  },
  {
   "cell_type": "code",
   "execution_count": 34,
   "metadata": {},
   "outputs": [
    {
     "data": {
      "text/plain": [
       "SequentialFeatureSelector(cv=TimeSeriesSplit(gap=0, max_train_size=None, n_splits=5, test_size=None),\n",
       "                          estimator=RidgeClassifier(alpha=0.9),\n",
       "                          n_features_to_select=20, n_jobs=1,\n",
       "                          scoring=make_scorer(f1_score))"
      ]
     },
     "execution_count": 34,
     "metadata": {},
     "output_type": "execute_result"
    }
   ],
   "source": [
    "rc = RidgeClassifier(alpha=0.9)\n",
    "sfs = SequentialFeatureSelector(rc, \n",
    "                                n_features_to_select=20, \n",
    "                                direction=\"forward\",\n",
    "                                cv=tscv,\n",
    "                                scoring=f1_scorer,\n",
    "                                n_jobs=1\n",
    "                               )\n",
    "sfs.fit(X, y)"
   ]
  },
  {
   "cell_type": "code",
   "execution_count": 35,
   "metadata": {},
   "outputs": [
    {
     "name": "stdout",
     "output_type": "stream",
     "text": [
      "Cross validation on training set:\n",
      "f1 scores: [0.8        0.77002584 0.80851064 0.8021978  0.76452599]\n",
      "mean f1 score: 0.7890520548345495\n",
      "standard deviation of f1 scores: 0.01808219661457157\n",
      "\n",
      "Validation set:\n",
      "f1 score: 0.7854077253218884\n"
     ]
    },
    {
     "data": {
      "image/png": "[encoded data removed]",
      "text/plain": [
       "<Figure size 640x480 with 2 Axes>"
      ]
     },
     "metadata": {},
     "output_type": "display_data"
    }
   ],
   "source": [
    "predictors_rc = list(np.array(predictors)[sfs.get_support()])\n",
    "\n",
    "scores(rc, predictors_rc)"
   ]
  },
  {
   "cell_type": "markdown",
   "metadata": {},
   "source": [
    "### Model 3: Support vector classifier"
   ]
  },
  {
   "cell_type": "code",
   "execution_count": 36,
   "metadata": {},
   "outputs": [
    {
     "data": {
      "text/plain": [
       "GridSearchCV(cv=TimeSeriesSplit(gap=0, max_train_size=None, n_splits=5, test_size=None),\n",
       "             estimator=Pipeline(steps=[('feature_selection', SelectKBest()),\n",
       "                                       ('classifier', SVC())]),\n",
       "             param_grid={'classifier__C': [0.1, 1, 10],\n",
       "                         'feature_selection__k': [5, 10, 15, 20]},\n",
       "             scoring=make_scorer(f1_score))"
      ]
     },
     "execution_count": 36,
     "metadata": {},
     "output_type": "execute_result"
    }
   ],
   "source": [
    "pipe = Pipeline([\n",
    "    ('feature_selection', SelectKBest()),\n",
    "    ('classifier', SVC())\n",
    "])\n",
    "\n",
    "params = dict(\n",
    "    feature_selection__k = list(range(5, 21, 5)),\n",
    "    classifier__C = [0.1, 1, 10]\n",
    "    # classifier__kernel = ['linear', 'poly', 'rbf']\n",
    ")\n",
    "\n",
    "gs = GridSearchCV(pipe,\n",
    "                  param_grid=params,\n",
    "                  cv=tscv,\n",
    "                  scoring=f1_scorer\n",
    "                  )\n",
    "\n",
    "gs.fit(X, y)"
   ]
  },
  {
   "cell_type": "code",
   "execution_count": 37,
   "metadata": {},
   "outputs": [
    {
     "data": {
      "text/plain": [
       "{'classifier__C': 1, 'feature_selection__k': 5}"
      ]
     },
     "execution_count": 37,
     "metadata": {},
     "output_type": "execute_result"
    }
   ],
   "source": [
    "gs.best_params_"
   ]
  },
  {
   "cell_type": "code",
   "execution_count": 38,
   "metadata": {},
   "outputs": [
    {
     "data": {
      "text/plain": [
       "SequentialFeatureSelector(cv=TimeSeriesSplit(gap=0, max_train_size=None, n_splits=5, test_size=None),\n",
       "                          estimator=SVC(C=1), n_features_to_select=5, n_jobs=1,\n",
       "                          scoring=make_scorer(f1_score))"
      ]
     },
     "execution_count": 38,
     "metadata": {},
     "output_type": "execute_result"
    }
   ],
   "source": [
    "svc = SVC(C=1)\n",
    "\n",
    "sfs = SequentialFeatureSelector(svc, \n",
    "                                n_features_to_select=5, \n",
    "                                direction=\"forward\",\n",
    "                                cv=tscv,\n",
    "                                scoring=f1_scorer,\n",
    "                                n_jobs=1\n",
    "                               )\n",
    "sfs.fit(X, y)"
   ]
  },
  {
   "cell_type": "code",
   "execution_count": 39,
   "metadata": {},
   "outputs": [
    {
     "name": "stdout",
     "output_type": "stream",
     "text": [
      "Cross validation on training set:\n",
      "f1 scores: [0.76070529 0.73658537 0.80506329 0.77747989 0.70930233]\n",
      "mean f1 score: 0.7578272330016464\n",
      "standard deviation of f1 scores: 0.03295948723596347\n",
      "\n",
      "Validation set:\n",
      "f1 score: 0.743362831858407\n"
     ]
    },
    {
     "data": {
      "image/png": "[encoded data removed]",
      "text/plain": [
       "<Figure size 640x480 with 2 Axes>"
      ]
     },
     "metadata": {},
     "output_type": "display_data"
    }
   ],
   "source": [
    "predictors_svc = list(np.array(predictors)[sfs.get_support()])\n",
    "\n",
    "scores(svc, predictors_svc)"
   ]
  },
  {
   "cell_type": "markdown",
   "metadata": {},
   "source": [
    "## Conclusion"
   ]
  },
  {
   "cell_type": "code",
   "execution_count": 40,
   "metadata": {},
   "outputs": [
    {
     "data": {
      "image/png": "[encoded data removed]",
      "text/plain": [
       "<Figure size 640x480 with 1 Axes>"
      ]
     },
     "metadata": {},
     "output_type": "display_data"
    }
   ],
   "source": [
    "disp = RocCurveDisplay.from_estimator(rf, X_val[predictors_rf], y_val)\n",
    "RocCurveDisplay.from_estimator(rc, X_val[predictors_rc], y_val, ax=disp.ax_)\n",
    "RocCurveDisplay.from_estimator(svc, X_val[predictors_svc], y_val, ax=disp.ax_)\n",
    "plt.show()"
   ]
  },
  {
   "cell_type": "markdown",
   "metadata": {},
   "source": [
    "F1 scores tells us that ridge classifier is the best model we have, and support vector classifier is the second best. Plotting roc curves suggests the same conclusion.\n",
    "\n",
    "We can see by looking at the confusion matrices that ridge performs better than svc on matches whose actual label is 1, while both perform similarly where the actual label is 0.\n",
    "\n",
    "Before concluding, it is necessary to note that our data set is small, and our target is imbalanced towards 0 (partly as a result of our combining losses and draws as 0), so our models may not be as trustworthy as the metric scores suggest."
   ]
  }
 ],
 "metadata": {
  "kernelspec": {
   "display_name": "base",
   "language": "python",
   "name": "python3"
  },
  "language_info": {
   "codemirror_mode": {
    "name": "ipython",
    "version": 3
   },
   "file_extension": ".py",
   "mimetype": "text/x-python",
   "name": "python",
   "nbconvert_exporter": "python",
   "pygments_lexer": "ipython3",
   "version": "3.8.13"
  },
  "orig_nbformat": 4
 },
 "nbformat": 4,
 "nbformat_minor": 2
}
