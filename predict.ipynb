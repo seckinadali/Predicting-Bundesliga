{
 "cells": [
  {
   "cell_type": "markdown",
   "metadata": {},
   "source": [
    "# Predicting Bundesliga Match Results\n",
    "\n",
    "In this project, we'll use Bundesliga match logs to build a model on predicting the winner of a match. We have scraped data from [https://fbref.com](https://fbref.com) and created a csv file in a separate notebook.\n",
    "\n",
    "Our data spans six full seasons. We'll compare the performances of random forest, ridge and support vector classifiers from sklearn and xgboost classifier on our data set."
   ]
  },
  {
   "cell_type": "markdown",
   "metadata": {},
   "source": [
    "## Cleaning the data set"
   ]
  },
  {
   "cell_type": "code",
   "execution_count": 1,
   "metadata": {},
   "outputs": [],
   "source": [
    "import warnings\n",
    "warnings.simplefilter(action='ignore', category=FutureWarning)\n",
    "\n",
    "import numpy as np\n",
    "import pandas as pd\n",
    "from sklearn.linear_model import RidgeClassifier\n",
    "from sklearn.ensemble import RandomForestClassifier\n",
    "from sklearn.svm import SVC\n",
    "from sklearn.model_selection import TimeSeriesSplit, cross_val_score, GridSearchCV\n",
    "from sklearn.metrics import f1_score, accuracy_score, roc_auc_score, make_scorer, confusion_matrix, RocCurveDisplay\n",
    "from xgboost import XGBClassifier\n",
    "\n",
    "import matplotlib.pyplot as plt\n",
    "import seaborn as sns\n",
    "%matplotlib inline"
   ]
  },
  {
   "cell_type": "code",
   "execution_count": 2,
   "metadata": {},
   "outputs": [
    {
     "data": {
      "text/plain": [
       "(3672, 40)"
      ]
     },
     "execution_count": 2,
     "metadata": {},
     "output_type": "execute_result"
    }
   ],
   "source": [
    "df = pd.read_csv('match_data.csv')\n",
    "df.shape"
   ]
  },
  {
   "cell_type": "code",
   "execution_count": 3,
   "metadata": {},
   "outputs": [
    {
     "data": {
      "text/html": [
       "<div>\n",
       "<style scoped>\n",
       "    .dataframe tbody tr th:only-of-type {\n",
       "        vertical-align: middle;\n",
       "    }\n",
       "\n",
       "    .dataframe tbody tr th {\n",
       "        vertical-align: top;\n",
       "    }\n",
       "\n",
       "    .dataframe thead th {\n",
       "        text-align: right;\n",
       "    }\n",
       "</style>\n",
       "<table border=\"1\" class=\"dataframe\">\n",
       "  <thead>\n",
       "    <tr style=\"text-align: right;\">\n",
       "      <th></th>\n",
       "      <th>Unnamed: 0</th>\n",
       "      <th>date</th>\n",
       "      <th>time</th>\n",
       "      <th>round</th>\n",
       "      <th>day</th>\n",
       "      <th>venue</th>\n",
       "      <th>result</th>\n",
       "      <th>gf</th>\n",
       "      <th>ga</th>\n",
       "      <th>opponent</th>\n",
       "      <th>...</th>\n",
       "      <th>prgdist</th>\n",
       "      <th>live</th>\n",
       "      <th>dead</th>\n",
       "      <th>tb</th>\n",
       "      <th>sw</th>\n",
       "      <th>crs</th>\n",
       "      <th>ti</th>\n",
       "      <th>ck</th>\n",
       "      <th>season</th>\n",
       "      <th>team</th>\n",
       "    </tr>\n",
       "  </thead>\n",
       "  <tbody>\n",
       "    <tr>\n",
       "      <th>0</th>\n",
       "      <td>1</td>\n",
       "      <td>2022-08-05</td>\n",
       "      <td>20:30</td>\n",
       "      <td>Matchweek 1</td>\n",
       "      <td>Fri</td>\n",
       "      <td>Away</td>\n",
       "      <td>W</td>\n",
       "      <td>6</td>\n",
       "      <td>1</td>\n",
       "      <td>Eint Frankfurt</td>\n",
       "      <td>...</td>\n",
       "      <td>3374.0</td>\n",
       "      <td>623.0</td>\n",
       "      <td>35.0</td>\n",
       "      <td>7.0</td>\n",
       "      <td>4.0</td>\n",
       "      <td>14.0</td>\n",
       "      <td>11.0</td>\n",
       "      <td>6.0</td>\n",
       "      <td>2022-2023</td>\n",
       "      <td>Bayern Munich</td>\n",
       "    </tr>\n",
       "    <tr>\n",
       "      <th>1</th>\n",
       "      <td>2</td>\n",
       "      <td>2022-08-14</td>\n",
       "      <td>17:30</td>\n",
       "      <td>Matchweek 2</td>\n",
       "      <td>Sun</td>\n",
       "      <td>Home</td>\n",
       "      <td>W</td>\n",
       "      <td>2</td>\n",
       "      <td>0</td>\n",
       "      <td>Wolfsburg</td>\n",
       "      <td>...</td>\n",
       "      <td>3508.0</td>\n",
       "      <td>592.0</td>\n",
       "      <td>50.0</td>\n",
       "      <td>1.0</td>\n",
       "      <td>5.0</td>\n",
       "      <td>20.0</td>\n",
       "      <td>23.0</td>\n",
       "      <td>8.0</td>\n",
       "      <td>2022-2023</td>\n",
       "      <td>Bayern Munich</td>\n",
       "    </tr>\n",
       "    <tr>\n",
       "      <th>2</th>\n",
       "      <td>3</td>\n",
       "      <td>2022-08-21</td>\n",
       "      <td>17:30</td>\n",
       "      <td>Matchweek 3</td>\n",
       "      <td>Sun</td>\n",
       "      <td>Away</td>\n",
       "      <td>W</td>\n",
       "      <td>7</td>\n",
       "      <td>0</td>\n",
       "      <td>Bochum</td>\n",
       "      <td>...</td>\n",
       "      <td>3056.0</td>\n",
       "      <td>498.0</td>\n",
       "      <td>42.0</td>\n",
       "      <td>3.0</td>\n",
       "      <td>2.0</td>\n",
       "      <td>10.0</td>\n",
       "      <td>16.0</td>\n",
       "      <td>5.0</td>\n",
       "      <td>2022-2023</td>\n",
       "      <td>Bayern Munich</td>\n",
       "    </tr>\n",
       "    <tr>\n",
       "      <th>3</th>\n",
       "      <td>4</td>\n",
       "      <td>2022-08-27</td>\n",
       "      <td>18:30</td>\n",
       "      <td>Matchweek 4</td>\n",
       "      <td>Sat</td>\n",
       "      <td>Home</td>\n",
       "      <td>D</td>\n",
       "      <td>1</td>\n",
       "      <td>1</td>\n",
       "      <td>M'Gladbach</td>\n",
       "      <td>...</td>\n",
       "      <td>3614.0</td>\n",
       "      <td>621.0</td>\n",
       "      <td>47.0</td>\n",
       "      <td>1.0</td>\n",
       "      <td>7.0</td>\n",
       "      <td>33.0</td>\n",
       "      <td>20.0</td>\n",
       "      <td>14.0</td>\n",
       "      <td>2022-2023</td>\n",
       "      <td>Bayern Munich</td>\n",
       "    </tr>\n",
       "    <tr>\n",
       "      <th>4</th>\n",
       "      <td>6</td>\n",
       "      <td>2022-09-03</td>\n",
       "      <td>15:30</td>\n",
       "      <td>Matchweek 5</td>\n",
       "      <td>Sat</td>\n",
       "      <td>Away</td>\n",
       "      <td>D</td>\n",
       "      <td>1</td>\n",
       "      <td>1</td>\n",
       "      <td>Union Berlin</td>\n",
       "      <td>...</td>\n",
       "      <td>3464.0</td>\n",
       "      <td>710.0</td>\n",
       "      <td>50.0</td>\n",
       "      <td>6.0</td>\n",
       "      <td>2.0</td>\n",
       "      <td>17.0</td>\n",
       "      <td>17.0</td>\n",
       "      <td>7.0</td>\n",
       "      <td>2022-2023</td>\n",
       "      <td>Bayern Munich</td>\n",
       "    </tr>\n",
       "  </tbody>\n",
       "</table>\n",
       "<p>5 rows × 40 columns</p>\n",
       "</div>"
      ],
      "text/plain": [
       "   Unnamed: 0        date   time        round  day venue result  gf  ga  \\\n",
       "0           1  2022-08-05  20:30  Matchweek 1  Fri  Away      W   6   1   \n",
       "1           2  2022-08-14  17:30  Matchweek 2  Sun  Home      W   2   0   \n",
       "2           3  2022-08-21  17:30  Matchweek 3  Sun  Away      W   7   0   \n",
       "3           4  2022-08-27  18:30  Matchweek 4  Sat  Home      D   1   1   \n",
       "4           6  2022-09-03  15:30  Matchweek 5  Sat  Away      D   1   1   \n",
       "\n",
       "         opponent  ...  prgdist   live  dead   tb   sw   crs    ti    ck  \\\n",
       "0  Eint Frankfurt  ...   3374.0  623.0  35.0  7.0  4.0  14.0  11.0   6.0   \n",
       "1       Wolfsburg  ...   3508.0  592.0  50.0  1.0  5.0  20.0  23.0   8.0   \n",
       "2          Bochum  ...   3056.0  498.0  42.0  3.0  2.0  10.0  16.0   5.0   \n",
       "3      M'Gladbach  ...   3614.0  621.0  47.0  1.0  7.0  33.0  20.0  14.0   \n",
       "4    Union Berlin  ...   3464.0  710.0  50.0  6.0  2.0  17.0  17.0   7.0   \n",
       "\n",
       "      season           team  \n",
       "0  2022-2023  Bayern Munich  \n",
       "1  2022-2023  Bayern Munich  \n",
       "2  2022-2023  Bayern Munich  \n",
       "3  2022-2023  Bayern Munich  \n",
       "4  2022-2023  Bayern Munich  \n",
       "\n",
       "[5 rows x 40 columns]"
      ]
     },
     "execution_count": 3,
     "metadata": {},
     "output_type": "execute_result"
    }
   ],
   "source": [
    "df.head()"
   ]
  },
  {
   "cell_type": "code",
   "execution_count": 4,
   "metadata": {},
   "outputs": [],
   "source": [
    "df.drop('Unnamed: 0', axis=1, inplace=True)"
   ]
  },
  {
   "cell_type": "code",
   "execution_count": 5,
   "metadata": {},
   "outputs": [
    {
     "data": {
      "text/plain": [
       "round\n",
       "Matchweek 1     108\n",
       "Matchweek 4     108\n",
       "Matchweek 5     108\n",
       "Matchweek 6     108\n",
       "Matchweek 7     108\n",
       "Matchweek 8     108\n",
       "Matchweek 9     108\n",
       "Matchweek 10    108\n",
       "Matchweek 11    108\n",
       "Matchweek 12    108\n",
       "Matchweek 13    108\n",
       "Matchweek 14    108\n",
       "Matchweek 15    108\n",
       "Matchweek 16    108\n",
       "Matchweek 17    108\n",
       "Matchweek 18    108\n",
       "Matchweek 19    108\n",
       "Matchweek 33    108\n",
       "Matchweek 26    108\n",
       "Matchweek 20    108\n",
       "Matchweek 21    108\n",
       "Matchweek 22    108\n",
       "Matchweek 23    108\n",
       "Matchweek 24    108\n",
       "Matchweek 3     108\n",
       "Matchweek 25    108\n",
       "Matchweek 2     108\n",
       "Matchweek 28    108\n",
       "Matchweek 29    108\n",
       "Matchweek 30    108\n",
       "Matchweek 31    108\n",
       "Matchweek 32    108\n",
       "Matchweek 27    108\n",
       "Matchweek 34    108\n",
       "Name: count, dtype: int64"
      ]
     },
     "execution_count": 5,
     "metadata": {},
     "output_type": "execute_result"
    }
   ],
   "source": [
    "# Check if there are any missing matches\n",
    "df['round'].value_counts().sort_values()"
   ]
  },
  {
   "cell_type": "markdown",
   "metadata": {},
   "source": [
    "We'll want to use time series cross validation a few steps later, therefore we sort our data set with respect to date and time of the matches."
   ]
  },
  {
   "cell_type": "code",
   "execution_count": 6,
   "metadata": {},
   "outputs": [],
   "source": [
    "df['date'] = pd.to_datetime(df['date'])"
   ]
  },
  {
   "cell_type": "code",
   "execution_count": 7,
   "metadata": {},
   "outputs": [],
   "source": [
    "df = df.copy().sort_values(['date', 'time']).reset_index(drop=True)"
   ]
  },
  {
   "cell_type": "code",
   "execution_count": 8,
   "metadata": {},
   "outputs": [
    {
     "data": {
      "text/html": [
       "<div>\n",
       "<style scoped>\n",
       "    .dataframe tbody tr th:only-of-type {\n",
       "        vertical-align: middle;\n",
       "    }\n",
       "\n",
       "    .dataframe tbody tr th {\n",
       "        vertical-align: top;\n",
       "    }\n",
       "\n",
       "    .dataframe thead th {\n",
       "        text-align: right;\n",
       "    }\n",
       "</style>\n",
       "<table border=\"1\" class=\"dataframe\">\n",
       "  <thead>\n",
       "    <tr style=\"text-align: right;\">\n",
       "      <th></th>\n",
       "      <th>date</th>\n",
       "      <th>time</th>\n",
       "      <th>round</th>\n",
       "      <th>day</th>\n",
       "      <th>venue</th>\n",
       "      <th>result</th>\n",
       "      <th>gf</th>\n",
       "      <th>ga</th>\n",
       "      <th>opponent</th>\n",
       "      <th>xg</th>\n",
       "      <th>xga</th>\n",
       "      <th>poss</th>\n",
       "      <th>attendance</th>\n",
       "      <th>captain</th>\n",
       "      <th>formation</th>\n",
       "      <th>referee</th>\n",
       "      <th>sh</th>\n",
       "      <th>sot</th>\n",
       "      <th>dist</th>\n",
       "      <th>fk</th>\n",
       "      <th>pk</th>\n",
       "      <th>pkatt</th>\n",
       "      <th>sota</th>\n",
       "      <th>saves</th>\n",
       "      <th>pka</th>\n",
       "      <th>pksv</th>\n",
       "      <th>cmp</th>\n",
       "      <th>att</th>\n",
       "      <th>totdist</th>\n",
       "      <th>prgdist</th>\n",
       "      <th>live</th>\n",
       "      <th>dead</th>\n",
       "      <th>tb</th>\n",
       "      <th>sw</th>\n",
       "      <th>crs</th>\n",
       "      <th>ti</th>\n",
       "      <th>ck</th>\n",
       "      <th>season</th>\n",
       "      <th>team</th>\n",
       "    </tr>\n",
       "  </thead>\n",
       "  <tbody>\n",
       "    <tr>\n",
       "      <th>0</th>\n",
       "      <td>2017-08-18</td>\n",
       "      <td>20:30</td>\n",
       "      <td>Matchweek 1</td>\n",
       "      <td>Fri</td>\n",
       "      <td>Home</td>\n",
       "      <td>W</td>\n",
       "      <td>3</td>\n",
       "      <td>1</td>\n",
       "      <td>Leverkusen</td>\n",
       "      <td>2.6</td>\n",
       "      <td>1.6</td>\n",
       "      <td>52.0</td>\n",
       "      <td>75000.0</td>\n",
       "      <td>Thomas Müller</td>\n",
       "      <td>4-3-3</td>\n",
       "      <td>Tobias Stieler</td>\n",
       "      <td>12.0</td>\n",
       "      <td>7.0</td>\n",
       "      <td>16.9</td>\n",
       "      <td>0.0</td>\n",
       "      <td>1.0</td>\n",
       "      <td>1.0</td>\n",
       "      <td>4.0</td>\n",
       "      <td>3.0</td>\n",
       "      <td>0.0</td>\n",
       "      <td>0.0</td>\n",
       "      <td>459.0</td>\n",
       "      <td>547.0</td>\n",
       "      <td>9407.0</td>\n",
       "      <td>3624.0</td>\n",
       "      <td>483.0</td>\n",
       "      <td>59.0</td>\n",
       "      <td>0.0</td>\n",
       "      <td>8.0</td>\n",
       "      <td>14.0</td>\n",
       "      <td>22.0</td>\n",
       "      <td>4.0</td>\n",
       "      <td>2017-2018</td>\n",
       "      <td>Bayern Munich</td>\n",
       "    </tr>\n",
       "    <tr>\n",
       "      <th>1</th>\n",
       "      <td>2017-08-18</td>\n",
       "      <td>20:30</td>\n",
       "      <td>Matchweek 1</td>\n",
       "      <td>Fri</td>\n",
       "      <td>Away</td>\n",
       "      <td>L</td>\n",
       "      <td>1</td>\n",
       "      <td>3</td>\n",
       "      <td>Bayern Munich</td>\n",
       "      <td>1.6</td>\n",
       "      <td>2.6</td>\n",
       "      <td>48.0</td>\n",
       "      <td>75000.0</td>\n",
       "      <td>Bernd Leno</td>\n",
       "      <td>4-2-3-1</td>\n",
       "      <td>Tobias Stieler</td>\n",
       "      <td>19.0</td>\n",
       "      <td>4.0</td>\n",
       "      <td>17.8</td>\n",
       "      <td>1.0</td>\n",
       "      <td>0.0</td>\n",
       "      <td>0.0</td>\n",
       "      <td>8.0</td>\n",
       "      <td>5.0</td>\n",
       "      <td>1.0</td>\n",
       "      <td>0.0</td>\n",
       "      <td>437.0</td>\n",
       "      <td>515.0</td>\n",
       "      <td>7391.0</td>\n",
       "      <td>2588.0</td>\n",
       "      <td>468.0</td>\n",
       "      <td>46.0</td>\n",
       "      <td>5.0</td>\n",
       "      <td>4.0</td>\n",
       "      <td>10.0</td>\n",
       "      <td>12.0</td>\n",
       "      <td>5.0</td>\n",
       "      <td>2017-2018</td>\n",
       "      <td>Bayer Leverkusen</td>\n",
       "    </tr>\n",
       "    <tr>\n",
       "      <th>2</th>\n",
       "      <td>2017-08-19</td>\n",
       "      <td>15:30</td>\n",
       "      <td>Matchweek 1</td>\n",
       "      <td>Sat</td>\n",
       "      <td>Home</td>\n",
       "      <td>W</td>\n",
       "      <td>1</td>\n",
       "      <td>0</td>\n",
       "      <td>Werder Bremen</td>\n",
       "      <td>1.0</td>\n",
       "      <td>0.9</td>\n",
       "      <td>64.0</td>\n",
       "      <td>30150.0</td>\n",
       "      <td>Kevin Vogt</td>\n",
       "      <td>3-1-4-2</td>\n",
       "      <td>Guido Winkmann</td>\n",
       "      <td>14.0</td>\n",
       "      <td>3.0</td>\n",
       "      <td>23.4</td>\n",
       "      <td>1.0</td>\n",
       "      <td>0.0</td>\n",
       "      <td>0.0</td>\n",
       "      <td>2.0</td>\n",
       "      <td>2.0</td>\n",
       "      <td>0.0</td>\n",
       "      <td>0.0</td>\n",
       "      <td>561.0</td>\n",
       "      <td>666.0</td>\n",
       "      <td>10135.0</td>\n",
       "      <td>3589.0</td>\n",
       "      <td>612.0</td>\n",
       "      <td>51.0</td>\n",
       "      <td>1.0</td>\n",
       "      <td>0.0</td>\n",
       "      <td>20.0</td>\n",
       "      <td>24.0</td>\n",
       "      <td>6.0</td>\n",
       "      <td>2017-2018</td>\n",
       "      <td>Hoffenheim</td>\n",
       "    </tr>\n",
       "    <tr>\n",
       "      <th>3</th>\n",
       "      <td>2017-08-19</td>\n",
       "      <td>15:30</td>\n",
       "      <td>Matchweek 1</td>\n",
       "      <td>Sat</td>\n",
       "      <td>Away</td>\n",
       "      <td>W</td>\n",
       "      <td>3</td>\n",
       "      <td>0</td>\n",
       "      <td>Wolfsburg</td>\n",
       "      <td>1.0</td>\n",
       "      <td>0.4</td>\n",
       "      <td>69.0</td>\n",
       "      <td>30000.0</td>\n",
       "      <td>Sokratis Papastathopoulos</td>\n",
       "      <td>4-3-3</td>\n",
       "      <td>Robert Hartmann</td>\n",
       "      <td>13.0</td>\n",
       "      <td>5.0</td>\n",
       "      <td>19.3</td>\n",
       "      <td>0.0</td>\n",
       "      <td>0.0</td>\n",
       "      <td>0.0</td>\n",
       "      <td>0.0</td>\n",
       "      <td>0.0</td>\n",
       "      <td>0.0</td>\n",
       "      <td>0.0</td>\n",
       "      <td>554.0</td>\n",
       "      <td>697.0</td>\n",
       "      <td>10637.0</td>\n",
       "      <td>3830.0</td>\n",
       "      <td>640.0</td>\n",
       "      <td>57.0</td>\n",
       "      <td>0.0</td>\n",
       "      <td>3.0</td>\n",
       "      <td>13.0</td>\n",
       "      <td>33.0</td>\n",
       "      <td>5.0</td>\n",
       "      <td>2017-2018</td>\n",
       "      <td>Dortmund</td>\n",
       "    </tr>\n",
       "    <tr>\n",
       "      <th>4</th>\n",
       "      <td>2017-08-19</td>\n",
       "      <td>15:30</td>\n",
       "      <td>Matchweek 1</td>\n",
       "      <td>Sat</td>\n",
       "      <td>Away</td>\n",
       "      <td>L</td>\n",
       "      <td>0</td>\n",
       "      <td>2</td>\n",
       "      <td>Hertha BSC</td>\n",
       "      <td>1.0</td>\n",
       "      <td>0.5</td>\n",
       "      <td>47.0</td>\n",
       "      <td>44751.0</td>\n",
       "      <td>Christian Gentner</td>\n",
       "      <td>4-4-2</td>\n",
       "      <td>Sascha Stegemann</td>\n",
       "      <td>8.0</td>\n",
       "      <td>2.0</td>\n",
       "      <td>17.3</td>\n",
       "      <td>1.0</td>\n",
       "      <td>0.0</td>\n",
       "      <td>0.0</td>\n",
       "      <td>4.0</td>\n",
       "      <td>2.0</td>\n",
       "      <td>0.0</td>\n",
       "      <td>0.0</td>\n",
       "      <td>388.0</td>\n",
       "      <td>491.0</td>\n",
       "      <td>6661.0</td>\n",
       "      <td>2278.0</td>\n",
       "      <td>437.0</td>\n",
       "      <td>51.0</td>\n",
       "      <td>0.0</td>\n",
       "      <td>2.0</td>\n",
       "      <td>12.0</td>\n",
       "      <td>23.0</td>\n",
       "      <td>1.0</td>\n",
       "      <td>2017-2018</td>\n",
       "      <td>Stuttgart</td>\n",
       "    </tr>\n",
       "  </tbody>\n",
       "</table>\n",
       "</div>"
      ],
      "text/plain": [
       "        date   time        round  day venue result  gf  ga       opponent  \\\n",
       "0 2017-08-18  20:30  Matchweek 1  Fri  Home      W   3   1     Leverkusen   \n",
       "1 2017-08-18  20:30  Matchweek 1  Fri  Away      L   1   3  Bayern Munich   \n",
       "2 2017-08-19  15:30  Matchweek 1  Sat  Home      W   1   0  Werder Bremen   \n",
       "3 2017-08-19  15:30  Matchweek 1  Sat  Away      W   3   0      Wolfsburg   \n",
       "4 2017-08-19  15:30  Matchweek 1  Sat  Away      L   0   2     Hertha BSC   \n",
       "\n",
       "    xg  xga  poss  attendance                    captain formation  \\\n",
       "0  2.6  1.6  52.0     75000.0              Thomas Müller     4-3-3   \n",
       "1  1.6  2.6  48.0     75000.0                 Bernd Leno   4-2-3-1   \n",
       "2  1.0  0.9  64.0     30150.0                 Kevin Vogt   3-1-4-2   \n",
       "3  1.0  0.4  69.0     30000.0  Sokratis Papastathopoulos     4-3-3   \n",
       "4  1.0  0.5  47.0     44751.0          Christian Gentner     4-4-2   \n",
       "\n",
       "            referee    sh  sot  dist   fk   pk  pkatt  sota  saves  pka  pksv  \\\n",
       "0    Tobias Stieler  12.0  7.0  16.9  0.0  1.0    1.0   4.0    3.0  0.0   0.0   \n",
       "1    Tobias Stieler  19.0  4.0  17.8  1.0  0.0    0.0   8.0    5.0  1.0   0.0   \n",
       "2    Guido Winkmann  14.0  3.0  23.4  1.0  0.0    0.0   2.0    2.0  0.0   0.0   \n",
       "3   Robert Hartmann  13.0  5.0  19.3  0.0  0.0    0.0   0.0    0.0  0.0   0.0   \n",
       "4  Sascha Stegemann   8.0  2.0  17.3  1.0  0.0    0.0   4.0    2.0  0.0   0.0   \n",
       "\n",
       "     cmp    att  totdist  prgdist   live  dead   tb   sw   crs    ti   ck  \\\n",
       "0  459.0  547.0   9407.0   3624.0  483.0  59.0  0.0  8.0  14.0  22.0  4.0   \n",
       "1  437.0  515.0   7391.0   2588.0  468.0  46.0  5.0  4.0  10.0  12.0  5.0   \n",
       "2  561.0  666.0  10135.0   3589.0  612.0  51.0  1.0  0.0  20.0  24.0  6.0   \n",
       "3  554.0  697.0  10637.0   3830.0  640.0  57.0  0.0  3.0  13.0  33.0  5.0   \n",
       "4  388.0  491.0   6661.0   2278.0  437.0  51.0  0.0  2.0  12.0  23.0  1.0   \n",
       "\n",
       "      season              team  \n",
       "0  2017-2018     Bayern Munich  \n",
       "1  2017-2018  Bayer Leverkusen  \n",
       "2  2017-2018        Hoffenheim  \n",
       "3  2017-2018          Dortmund  \n",
       "4  2017-2018         Stuttgart  "
      ]
     },
     "execution_count": 8,
     "metadata": {},
     "output_type": "execute_result"
    }
   ],
   "source": [
    "pd.set_option('display.max_columns', None)\n",
    "df.head()"
   ]
  },
  {
   "cell_type": "markdown",
   "metadata": {},
   "source": [
    "There are inconsistencies in the team names in `team` and `opponent` columns; below we look at the different occurences of the same team, and standardize the names."
   ]
  },
  {
   "cell_type": "code",
   "execution_count": 9,
   "metadata": {},
   "outputs": [
    {
     "data": {
      "text/plain": [
       "{'Bayer Leverkusen',\n",
       " 'Dusseldorf',\n",
       " 'Düsseldorf',\n",
       " 'Eint Frankfurt',\n",
       " 'Eintracht Frankfurt',\n",
       " 'Greuther Furth',\n",
       " 'Greuther Fürth',\n",
       " 'Koln',\n",
       " 'Köln',\n",
       " 'Leverkusen',\n",
       " \"M'Gladbach\",\n",
       " 'Monchengladbach',\n",
       " 'Nurnberg',\n",
       " 'Nürnberg'}"
      ]
     },
     "execution_count": 9,
     "metadata": {},
     "output_type": "execute_result"
    }
   ],
   "source": [
    "team_set = set(df['team'].unique())\n",
    "opp_set = set(df['opponent'].unique())\n",
    "\n",
    "diff = (team_set - opp_set) | (opp_set - team_set)\n",
    "diff\n"
   ]
  },
  {
   "cell_type": "code",
   "execution_count": 10,
   "metadata": {},
   "outputs": [],
   "source": [
    "map_values = {\n",
    "    'Koln':'Köln',\n",
    "    'Leverkusen': 'Bayer Leverkusen',\n",
    "    'Dusseldorf': 'Düsseldorf',\n",
    "    'Eint Frankfurt': 'Eintracht Frankfurt',\n",
    "    'Greuther Furth': 'Greuther Fürth',\n",
    "    \"M'Gladbach\": 'Monchengladbach',\n",
    "    'Nurnberg': 'Nürnberg'\n",
    "}\n",
    "\n",
    "df.replace({'team':map_values, 'opponent':map_values}, inplace=True)"
   ]
  },
  {
   "cell_type": "markdown",
   "metadata": {},
   "source": [
    "We need to take care of null values in order to use most machine learning models. Below we observe that the `attendance` column has a lot of null values. We remove this column altogether since it is not necessary for our purposes. We also observe that all other null values appear in three rows, which we also remove."
   ]
  },
  {
   "cell_type": "code",
   "execution_count": 11,
   "metadata": {},
   "outputs": [
    {
     "data": {
      "text/plain": [
       "attendance    744\n",
       "dist            3\n",
       "fk              2\n",
       "xg              2\n",
       "cmp             2\n",
       "att             2\n",
       "totdist         2\n",
       "prgdist         2\n",
       "live            2\n",
       "xga             2\n",
       "dead            2\n",
       "tb              2\n",
       "sw              2\n",
       "ti              2\n",
       "ck              2\n",
       "sota            0\n",
       "crs             0\n",
       "pksv            0\n",
       "season          0\n",
       "pka             0\n",
       "saves           0\n",
       "date            0\n",
       "pkatt           0\n",
       "opponent        0\n",
       "round           0\n",
       "day             0\n",
       "venue           0\n",
       "result          0\n",
       "gf              0\n",
       "ga              0\n",
       "poss            0\n",
       "pk              0\n",
       "captain         0\n",
       "formation       0\n",
       "referee         0\n",
       "sh              0\n",
       "sot             0\n",
       "time            0\n",
       "team            0\n",
       "dtype: int64"
      ]
     },
     "execution_count": 11,
     "metadata": {},
     "output_type": "execute_result"
    }
   ],
   "source": [
    "df.isna().sum().sort_values(ascending=False)"
   ]
  },
  {
   "cell_type": "code",
   "execution_count": 12,
   "metadata": {},
   "outputs": [],
   "source": [
    "df.drop('attendance', axis=1, inplace=True)"
   ]
  },
  {
   "cell_type": "code",
   "execution_count": 13,
   "metadata": {},
   "outputs": [
    {
     "data": {
      "text/html": [
       "<div>\n",
       "<style scoped>\n",
       "    .dataframe tbody tr th:only-of-type {\n",
       "        vertical-align: middle;\n",
       "    }\n",
       "\n",
       "    .dataframe tbody tr th {\n",
       "        vertical-align: top;\n",
       "    }\n",
       "\n",
       "    .dataframe thead th {\n",
       "        text-align: right;\n",
       "    }\n",
       "</style>\n",
       "<table border=\"1\" class=\"dataframe\">\n",
       "  <thead>\n",
       "    <tr style=\"text-align: right;\">\n",
       "      <th></th>\n",
       "      <th>date</th>\n",
       "      <th>time</th>\n",
       "      <th>round</th>\n",
       "      <th>day</th>\n",
       "      <th>venue</th>\n",
       "      <th>result</th>\n",
       "      <th>gf</th>\n",
       "      <th>ga</th>\n",
       "      <th>opponent</th>\n",
       "      <th>xg</th>\n",
       "      <th>xga</th>\n",
       "      <th>poss</th>\n",
       "      <th>captain</th>\n",
       "      <th>formation</th>\n",
       "      <th>referee</th>\n",
       "      <th>sh</th>\n",
       "      <th>sot</th>\n",
       "      <th>dist</th>\n",
       "      <th>fk</th>\n",
       "      <th>pk</th>\n",
       "      <th>pkatt</th>\n",
       "      <th>sota</th>\n",
       "      <th>saves</th>\n",
       "      <th>pka</th>\n",
       "      <th>pksv</th>\n",
       "      <th>cmp</th>\n",
       "      <th>att</th>\n",
       "      <th>totdist</th>\n",
       "      <th>prgdist</th>\n",
       "      <th>live</th>\n",
       "      <th>dead</th>\n",
       "      <th>tb</th>\n",
       "      <th>sw</th>\n",
       "      <th>crs</th>\n",
       "      <th>ti</th>\n",
       "      <th>ck</th>\n",
       "      <th>season</th>\n",
       "      <th>team</th>\n",
       "    </tr>\n",
       "  </thead>\n",
       "  <tbody>\n",
       "    <tr>\n",
       "      <th>1969</th>\n",
       "      <td>2020-11-21</td>\n",
       "      <td>15:30</td>\n",
       "      <td>Matchweek 8</td>\n",
       "      <td>Sat</td>\n",
       "      <td>Home</td>\n",
       "      <td>L</td>\n",
       "      <td>1</td>\n",
       "      <td>2</td>\n",
       "      <td>Bayer Leverkusen</td>\n",
       "      <td>0.0</td>\n",
       "      <td>1.2</td>\n",
       "      <td>31.0</td>\n",
       "      <td>Fabian Klos</td>\n",
       "      <td>4-1-4-1</td>\n",
       "      <td>Felix Brych</td>\n",
       "      <td>0.0</td>\n",
       "      <td>0.0</td>\n",
       "      <td>NaN</td>\n",
       "      <td>0.0</td>\n",
       "      <td>0.0</td>\n",
       "      <td>0.0</td>\n",
       "      <td>4.0</td>\n",
       "      <td>2.0</td>\n",
       "      <td>0.0</td>\n",
       "      <td>0.0</td>\n",
       "      <td>239.0</td>\n",
       "      <td>365.0</td>\n",
       "      <td>4896.0</td>\n",
       "      <td>2155.0</td>\n",
       "      <td>326.0</td>\n",
       "      <td>36.0</td>\n",
       "      <td>0.0</td>\n",
       "      <td>1.0</td>\n",
       "      <td>9.0</td>\n",
       "      <td>18.0</td>\n",
       "      <td>0.0</td>\n",
       "      <td>2020-2021</td>\n",
       "      <td>Arminia</td>\n",
       "    </tr>\n",
       "    <tr>\n",
       "      <th>2914</th>\n",
       "      <td>2022-03-18</td>\n",
       "      <td>20:30</td>\n",
       "      <td>Matchweek 27</td>\n",
       "      <td>Fri</td>\n",
       "      <td>Away</td>\n",
       "      <td>W</td>\n",
       "      <td>2</td>\n",
       "      <td>0</td>\n",
       "      <td>Bochum</td>\n",
       "      <td>NaN</td>\n",
       "      <td>NaN</td>\n",
       "      <td>49.0</td>\n",
       "      <td>Yann Sommer</td>\n",
       "      <td>3-4-3</td>\n",
       "      <td>Benjamin Cortus</td>\n",
       "      <td>8.0</td>\n",
       "      <td>5.0</td>\n",
       "      <td>NaN</td>\n",
       "      <td>NaN</td>\n",
       "      <td>0.0</td>\n",
       "      <td>0.0</td>\n",
       "      <td>7.0</td>\n",
       "      <td>7.0</td>\n",
       "      <td>0.0</td>\n",
       "      <td>0.0</td>\n",
       "      <td>NaN</td>\n",
       "      <td>NaN</td>\n",
       "      <td>NaN</td>\n",
       "      <td>NaN</td>\n",
       "      <td>NaN</td>\n",
       "      <td>NaN</td>\n",
       "      <td>NaN</td>\n",
       "      <td>NaN</td>\n",
       "      <td>8.0</td>\n",
       "      <td>NaN</td>\n",
       "      <td>NaN</td>\n",
       "      <td>2021-2022</td>\n",
       "      <td>Monchengladbach</td>\n",
       "    </tr>\n",
       "    <tr>\n",
       "      <th>2915</th>\n",
       "      <td>2022-03-18</td>\n",
       "      <td>20:30</td>\n",
       "      <td>Matchweek 27</td>\n",
       "      <td>Fri</td>\n",
       "      <td>Home</td>\n",
       "      <td>L</td>\n",
       "      <td>0</td>\n",
       "      <td>2</td>\n",
       "      <td>Monchengladbach</td>\n",
       "      <td>NaN</td>\n",
       "      <td>NaN</td>\n",
       "      <td>51.0</td>\n",
       "      <td>Anthony Losilla</td>\n",
       "      <td>4-3-3</td>\n",
       "      <td>Benjamin Cortus</td>\n",
       "      <td>16.0</td>\n",
       "      <td>7.0</td>\n",
       "      <td>NaN</td>\n",
       "      <td>NaN</td>\n",
       "      <td>0.0</td>\n",
       "      <td>0.0</td>\n",
       "      <td>5.0</td>\n",
       "      <td>3.0</td>\n",
       "      <td>0.0</td>\n",
       "      <td>0.0</td>\n",
       "      <td>NaN</td>\n",
       "      <td>NaN</td>\n",
       "      <td>NaN</td>\n",
       "      <td>NaN</td>\n",
       "      <td>NaN</td>\n",
       "      <td>NaN</td>\n",
       "      <td>NaN</td>\n",
       "      <td>NaN</td>\n",
       "      <td>26.0</td>\n",
       "      <td>NaN</td>\n",
       "      <td>NaN</td>\n",
       "      <td>2021-2022</td>\n",
       "      <td>Bochum</td>\n",
       "    </tr>\n",
       "  </tbody>\n",
       "</table>\n",
       "</div>"
      ],
      "text/plain": [
       "           date   time         round  day venue result  gf  ga  \\\n",
       "1969 2020-11-21  15:30   Matchweek 8  Sat  Home      L   1   2   \n",
       "2914 2022-03-18  20:30  Matchweek 27  Fri  Away      W   2   0   \n",
       "2915 2022-03-18  20:30  Matchweek 27  Fri  Home      L   0   2   \n",
       "\n",
       "              opponent   xg  xga  poss          captain formation  \\\n",
       "1969  Bayer Leverkusen  0.0  1.2  31.0      Fabian Klos   4-1-4-1   \n",
       "2914            Bochum  NaN  NaN  49.0      Yann Sommer     3-4-3   \n",
       "2915   Monchengladbach  NaN  NaN  51.0  Anthony Losilla     4-3-3   \n",
       "\n",
       "              referee    sh  sot  dist   fk   pk  pkatt  sota  saves  pka  \\\n",
       "1969      Felix Brych   0.0  0.0   NaN  0.0  0.0    0.0   4.0    2.0  0.0   \n",
       "2914  Benjamin Cortus   8.0  5.0   NaN  NaN  0.0    0.0   7.0    7.0  0.0   \n",
       "2915  Benjamin Cortus  16.0  7.0   NaN  NaN  0.0    0.0   5.0    3.0  0.0   \n",
       "\n",
       "      pksv    cmp    att  totdist  prgdist   live  dead   tb   sw   crs    ti  \\\n",
       "1969   0.0  239.0  365.0   4896.0   2155.0  326.0  36.0  0.0  1.0   9.0  18.0   \n",
       "2914   0.0    NaN    NaN      NaN      NaN    NaN   NaN  NaN  NaN   8.0   NaN   \n",
       "2915   0.0    NaN    NaN      NaN      NaN    NaN   NaN  NaN  NaN  26.0   NaN   \n",
       "\n",
       "       ck     season             team  \n",
       "1969  0.0  2020-2021          Arminia  \n",
       "2914  NaN  2021-2022  Monchengladbach  \n",
       "2915  NaN  2021-2022           Bochum  "
      ]
     },
     "execution_count": 13,
     "metadata": {},
     "output_type": "execute_result"
    }
   ],
   "source": [
    "df[df['dist'].isna()]"
   ]
  },
  {
   "cell_type": "code",
   "execution_count": 14,
   "metadata": {},
   "outputs": [],
   "source": [
    "df.drop(df[df['dist'].isna()].index, inplace=True)\n"
   ]
  },
  {
   "cell_type": "code",
   "execution_count": 15,
   "metadata": {},
   "outputs": [
    {
     "data": {
      "text/plain": [
       "0"
      ]
     },
     "execution_count": 15,
     "metadata": {},
     "output_type": "execute_result"
    }
   ],
   "source": [
    "# Check total number of null values\n",
    "df.isna().sum().sum()"
   ]
  },
  {
   "cell_type": "code",
   "execution_count": 16,
   "metadata": {},
   "outputs": [
    {
     "data": {
      "text/plain": [
       "(3669, 38)"
      ]
     },
     "execution_count": 16,
     "metadata": {},
     "output_type": "execute_result"
    }
   ],
   "source": [
    "df.shape"
   ]
  },
  {
   "cell_type": "markdown",
   "metadata": {},
   "source": [
    "## Selecting features\n",
    "\n",
    "The values in our target column consist of three categories: W(in), D(raw), and L(ose). We'll simplify our target into two categories corresponding to whether the team has won or not."
   ]
  },
  {
   "cell_type": "code",
   "execution_count": 17,
   "metadata": {},
   "outputs": [],
   "source": [
    "df['target'] = (df['result'] == 'W').astype(int)"
   ]
  },
  {
   "cell_type": "code",
   "execution_count": 18,
   "metadata": {},
   "outputs": [
    {
     "data": {
      "text/plain": [
       "target\n",
       "0    2287\n",
       "1    1382\n",
       "Name: count, dtype: int64"
      ]
     },
     "execution_count": 18,
     "metadata": {},
     "output_type": "execute_result"
    }
   ],
   "source": [
    "df['target'].value_counts()"
   ]
  },
  {
   "cell_type": "markdown",
   "metadata": {},
   "source": [
    "There are a couple of columns containing categorical data that are relevant for our purposes. Below we encode these columns into a numerical format. We also simplify a couple of time related columns."
   ]
  },
  {
   "cell_type": "code",
   "execution_count": 19,
   "metadata": {},
   "outputs": [],
   "source": [
    "df['venue_code'] = (df['venue'] == 'Home').astype(int)"
   ]
  },
  {
   "cell_type": "code",
   "execution_count": 20,
   "metadata": {},
   "outputs": [],
   "source": [
    "df['opp_code'] = df['opponent'].astype('category').cat.codes"
   ]
  },
  {
   "cell_type": "code",
   "execution_count": 21,
   "metadata": {},
   "outputs": [
    {
     "data": {
      "text/html": [
       "<div>\n",
       "<style scoped>\n",
       "    .dataframe tbody tr th:only-of-type {\n",
       "        vertical-align: middle;\n",
       "    }\n",
       "\n",
       "    .dataframe tbody tr th {\n",
       "        vertical-align: top;\n",
       "    }\n",
       "\n",
       "    .dataframe thead th {\n",
       "        text-align: right;\n",
       "    }\n",
       "</style>\n",
       "<table border=\"1\" class=\"dataframe\">\n",
       "  <thead>\n",
       "    <tr style=\"text-align: right;\">\n",
       "      <th></th>\n",
       "      <th>opponent</th>\n",
       "      <th>opp_code</th>\n",
       "    </tr>\n",
       "  </thead>\n",
       "  <tbody>\n",
       "    <tr>\n",
       "      <th>0</th>\n",
       "      <td>Bayer Leverkusen</td>\n",
       "      <td>2</td>\n",
       "    </tr>\n",
       "    <tr>\n",
       "      <th>1</th>\n",
       "      <td>Bayern Munich</td>\n",
       "      <td>3</td>\n",
       "    </tr>\n",
       "    <tr>\n",
       "      <th>2</th>\n",
       "      <td>Werder Bremen</td>\n",
       "      <td>23</td>\n",
       "    </tr>\n",
       "    <tr>\n",
       "      <th>3</th>\n",
       "      <td>Wolfsburg</td>\n",
       "      <td>24</td>\n",
       "    </tr>\n",
       "    <tr>\n",
       "      <th>4</th>\n",
       "      <td>Hertha BSC</td>\n",
       "      <td>12</td>\n",
       "    </tr>\n",
       "    <tr>\n",
       "      <th>5</th>\n",
       "      <td>Stuttgart</td>\n",
       "      <td>21</td>\n",
       "    </tr>\n",
       "    <tr>\n",
       "      <th>6</th>\n",
       "      <td>Hoffenheim</td>\n",
       "      <td>13</td>\n",
       "    </tr>\n",
       "    <tr>\n",
       "      <th>7</th>\n",
       "      <td>Hamburger SV</td>\n",
       "      <td>10</td>\n",
       "    </tr>\n",
       "    <tr>\n",
       "      <th>8</th>\n",
       "      <td>Mainz 05</td>\n",
       "      <td>15</td>\n",
       "    </tr>\n",
       "    <tr>\n",
       "      <th>9</th>\n",
       "      <td>Hannover 96</td>\n",
       "      <td>11</td>\n",
       "    </tr>\n",
       "    <tr>\n",
       "      <th>10</th>\n",
       "      <td>Dortmund</td>\n",
       "      <td>5</td>\n",
       "    </tr>\n",
       "    <tr>\n",
       "      <th>11</th>\n",
       "      <td>Augsburg</td>\n",
       "      <td>1</td>\n",
       "    </tr>\n",
       "    <tr>\n",
       "      <th>12</th>\n",
       "      <td>RB Leipzig</td>\n",
       "      <td>19</td>\n",
       "    </tr>\n",
       "    <tr>\n",
       "      <th>13</th>\n",
       "      <td>Schalke 04</td>\n",
       "      <td>20</td>\n",
       "    </tr>\n",
       "    <tr>\n",
       "      <th>14</th>\n",
       "      <td>Freiburg</td>\n",
       "      <td>8</td>\n",
       "    </tr>\n",
       "    <tr>\n",
       "      <th>15</th>\n",
       "      <td>Eintracht Frankfurt</td>\n",
       "      <td>7</td>\n",
       "    </tr>\n",
       "    <tr>\n",
       "      <th>16</th>\n",
       "      <td>Köln</td>\n",
       "      <td>14</td>\n",
       "    </tr>\n",
       "    <tr>\n",
       "      <th>17</th>\n",
       "      <td>Monchengladbach</td>\n",
       "      <td>16</td>\n",
       "    </tr>\n",
       "    <tr>\n",
       "      <th>618</th>\n",
       "      <td>Nürnberg</td>\n",
       "      <td>17</td>\n",
       "    </tr>\n",
       "    <tr>\n",
       "      <th>621</th>\n",
       "      <td>Düsseldorf</td>\n",
       "      <td>6</td>\n",
       "    </tr>\n",
       "    <tr>\n",
       "      <th>1227</th>\n",
       "      <td>Paderborn 07</td>\n",
       "      <td>18</td>\n",
       "    </tr>\n",
       "    <tr>\n",
       "      <th>1240</th>\n",
       "      <td>Union Berlin</td>\n",
       "      <td>22</td>\n",
       "    </tr>\n",
       "    <tr>\n",
       "      <th>1838</th>\n",
       "      <td>Arminia</td>\n",
       "      <td>0</td>\n",
       "    </tr>\n",
       "    <tr>\n",
       "      <th>2454</th>\n",
       "      <td>Bochum</td>\n",
       "      <td>4</td>\n",
       "    </tr>\n",
       "    <tr>\n",
       "      <th>2457</th>\n",
       "      <td>Greuther Fürth</td>\n",
       "      <td>9</td>\n",
       "    </tr>\n",
       "  </tbody>\n",
       "</table>\n",
       "</div>"
      ],
      "text/plain": [
       "                 opponent  opp_code\n",
       "0        Bayer Leverkusen         2\n",
       "1           Bayern Munich         3\n",
       "2           Werder Bremen        23\n",
       "3               Wolfsburg        24\n",
       "4              Hertha BSC        12\n",
       "5               Stuttgart        21\n",
       "6              Hoffenheim        13\n",
       "7            Hamburger SV        10\n",
       "8                Mainz 05        15\n",
       "9             Hannover 96        11\n",
       "10               Dortmund         5\n",
       "11               Augsburg         1\n",
       "12             RB Leipzig        19\n",
       "13             Schalke 04        20\n",
       "14               Freiburg         8\n",
       "15    Eintracht Frankfurt         7\n",
       "16                   Köln        14\n",
       "17        Monchengladbach        16\n",
       "618              Nürnberg        17\n",
       "621            Düsseldorf         6\n",
       "1227         Paderborn 07        18\n",
       "1240         Union Berlin        22\n",
       "1838              Arminia         0\n",
       "2454               Bochum         4\n",
       "2457       Greuther Fürth         9"
      ]
     },
     "execution_count": 21,
     "metadata": {},
     "output_type": "execute_result"
    }
   ],
   "source": [
    "teams = df[['opponent', 'opp_code']][~df['opponent'].duplicated()]\n",
    "teams"
   ]
  },
  {
   "cell_type": "code",
   "execution_count": 22,
   "metadata": {},
   "outputs": [],
   "source": [
    "# Apply the same category codes as 'opp_code' to 'team_code'\n",
    "teams_dict = dict(zip(teams['opponent'], teams['opp_code']))\n",
    "df['team_code'] = df['team'].map(teams_dict).astype(int)"
   ]
  },
  {
   "cell_type": "code",
   "execution_count": 23,
   "metadata": {},
   "outputs": [],
   "source": [
    "df['hour'] = df['time'].str.replace(r\":.+\", '', regex=True).astype(int)"
   ]
  },
  {
   "cell_type": "code",
   "execution_count": 24,
   "metadata": {},
   "outputs": [],
   "source": [
    "df['day_code'] = df['date'].dt.dayofweek"
   ]
  },
  {
   "cell_type": "code",
   "execution_count": 25,
   "metadata": {},
   "outputs": [
    {
     "data": {
      "text/html": [
       "<div>\n",
       "<style scoped>\n",
       "    .dataframe tbody tr th:only-of-type {\n",
       "        vertical-align: middle;\n",
       "    }\n",
       "\n",
       "    .dataframe tbody tr th {\n",
       "        vertical-align: top;\n",
       "    }\n",
       "\n",
       "    .dataframe thead th {\n",
       "        text-align: right;\n",
       "    }\n",
       "</style>\n",
       "<table border=\"1\" class=\"dataframe\">\n",
       "  <thead>\n",
       "    <tr style=\"text-align: right;\">\n",
       "      <th></th>\n",
       "      <th>date</th>\n",
       "      <th>time</th>\n",
       "      <th>round</th>\n",
       "      <th>day</th>\n",
       "      <th>venue</th>\n",
       "      <th>result</th>\n",
       "      <th>gf</th>\n",
       "      <th>ga</th>\n",
       "      <th>opponent</th>\n",
       "      <th>xg</th>\n",
       "      <th>xga</th>\n",
       "      <th>poss</th>\n",
       "      <th>captain</th>\n",
       "      <th>formation</th>\n",
       "      <th>referee</th>\n",
       "      <th>sh</th>\n",
       "      <th>sot</th>\n",
       "      <th>dist</th>\n",
       "      <th>fk</th>\n",
       "      <th>pk</th>\n",
       "      <th>pkatt</th>\n",
       "      <th>sota</th>\n",
       "      <th>saves</th>\n",
       "      <th>pka</th>\n",
       "      <th>pksv</th>\n",
       "      <th>cmp</th>\n",
       "      <th>att</th>\n",
       "      <th>totdist</th>\n",
       "      <th>prgdist</th>\n",
       "      <th>live</th>\n",
       "      <th>dead</th>\n",
       "      <th>tb</th>\n",
       "      <th>sw</th>\n",
       "      <th>crs</th>\n",
       "      <th>ti</th>\n",
       "      <th>ck</th>\n",
       "      <th>season</th>\n",
       "      <th>team</th>\n",
       "      <th>target</th>\n",
       "      <th>venue_code</th>\n",
       "      <th>opp_code</th>\n",
       "      <th>team_code</th>\n",
       "      <th>hour</th>\n",
       "      <th>day_code</th>\n",
       "    </tr>\n",
       "  </thead>\n",
       "  <tbody>\n",
       "    <tr>\n",
       "      <th>0</th>\n",
       "      <td>2017-08-18</td>\n",
       "      <td>20:30</td>\n",
       "      <td>Matchweek 1</td>\n",
       "      <td>Fri</td>\n",
       "      <td>Home</td>\n",
       "      <td>W</td>\n",
       "      <td>3</td>\n",
       "      <td>1</td>\n",
       "      <td>Bayer Leverkusen</td>\n",
       "      <td>2.6</td>\n",
       "      <td>1.6</td>\n",
       "      <td>52.0</td>\n",
       "      <td>Thomas Müller</td>\n",
       "      <td>4-3-3</td>\n",
       "      <td>Tobias Stieler</td>\n",
       "      <td>12.0</td>\n",
       "      <td>7.0</td>\n",
       "      <td>16.9</td>\n",
       "      <td>0.0</td>\n",
       "      <td>1.0</td>\n",
       "      <td>1.0</td>\n",
       "      <td>4.0</td>\n",
       "      <td>3.0</td>\n",
       "      <td>0.0</td>\n",
       "      <td>0.0</td>\n",
       "      <td>459.0</td>\n",
       "      <td>547.0</td>\n",
       "      <td>9407.0</td>\n",
       "      <td>3624.0</td>\n",
       "      <td>483.0</td>\n",
       "      <td>59.0</td>\n",
       "      <td>0.0</td>\n",
       "      <td>8.0</td>\n",
       "      <td>14.0</td>\n",
       "      <td>22.0</td>\n",
       "      <td>4.0</td>\n",
       "      <td>2017-2018</td>\n",
       "      <td>Bayern Munich</td>\n",
       "      <td>1</td>\n",
       "      <td>1</td>\n",
       "      <td>2</td>\n",
       "      <td>3</td>\n",
       "      <td>20</td>\n",
       "      <td>4</td>\n",
       "    </tr>\n",
       "    <tr>\n",
       "      <th>1</th>\n",
       "      <td>2017-08-18</td>\n",
       "      <td>20:30</td>\n",
       "      <td>Matchweek 1</td>\n",
       "      <td>Fri</td>\n",
       "      <td>Away</td>\n",
       "      <td>L</td>\n",
       "      <td>1</td>\n",
       "      <td>3</td>\n",
       "      <td>Bayern Munich</td>\n",
       "      <td>1.6</td>\n",
       "      <td>2.6</td>\n",
       "      <td>48.0</td>\n",
       "      <td>Bernd Leno</td>\n",
       "      <td>4-2-3-1</td>\n",
       "      <td>Tobias Stieler</td>\n",
       "      <td>19.0</td>\n",
       "      <td>4.0</td>\n",
       "      <td>17.8</td>\n",
       "      <td>1.0</td>\n",
       "      <td>0.0</td>\n",
       "      <td>0.0</td>\n",
       "      <td>8.0</td>\n",
       "      <td>5.0</td>\n",
       "      <td>1.0</td>\n",
       "      <td>0.0</td>\n",
       "      <td>437.0</td>\n",
       "      <td>515.0</td>\n",
       "      <td>7391.0</td>\n",
       "      <td>2588.0</td>\n",
       "      <td>468.0</td>\n",
       "      <td>46.0</td>\n",
       "      <td>5.0</td>\n",
       "      <td>4.0</td>\n",
       "      <td>10.0</td>\n",
       "      <td>12.0</td>\n",
       "      <td>5.0</td>\n",
       "      <td>2017-2018</td>\n",
       "      <td>Bayer Leverkusen</td>\n",
       "      <td>0</td>\n",
       "      <td>0</td>\n",
       "      <td>3</td>\n",
       "      <td>2</td>\n",
       "      <td>20</td>\n",
       "      <td>4</td>\n",
       "    </tr>\n",
       "    <tr>\n",
       "      <th>2</th>\n",
       "      <td>2017-08-19</td>\n",
       "      <td>15:30</td>\n",
       "      <td>Matchweek 1</td>\n",
       "      <td>Sat</td>\n",
       "      <td>Home</td>\n",
       "      <td>W</td>\n",
       "      <td>1</td>\n",
       "      <td>0</td>\n",
       "      <td>Werder Bremen</td>\n",
       "      <td>1.0</td>\n",
       "      <td>0.9</td>\n",
       "      <td>64.0</td>\n",
       "      <td>Kevin Vogt</td>\n",
       "      <td>3-1-4-2</td>\n",
       "      <td>Guido Winkmann</td>\n",
       "      <td>14.0</td>\n",
       "      <td>3.0</td>\n",
       "      <td>23.4</td>\n",
       "      <td>1.0</td>\n",
       "      <td>0.0</td>\n",
       "      <td>0.0</td>\n",
       "      <td>2.0</td>\n",
       "      <td>2.0</td>\n",
       "      <td>0.0</td>\n",
       "      <td>0.0</td>\n",
       "      <td>561.0</td>\n",
       "      <td>666.0</td>\n",
       "      <td>10135.0</td>\n",
       "      <td>3589.0</td>\n",
       "      <td>612.0</td>\n",
       "      <td>51.0</td>\n",
       "      <td>1.0</td>\n",
       "      <td>0.0</td>\n",
       "      <td>20.0</td>\n",
       "      <td>24.0</td>\n",
       "      <td>6.0</td>\n",
       "      <td>2017-2018</td>\n",
       "      <td>Hoffenheim</td>\n",
       "      <td>1</td>\n",
       "      <td>1</td>\n",
       "      <td>23</td>\n",
       "      <td>13</td>\n",
       "      <td>15</td>\n",
       "      <td>5</td>\n",
       "    </tr>\n",
       "    <tr>\n",
       "      <th>3</th>\n",
       "      <td>2017-08-19</td>\n",
       "      <td>15:30</td>\n",
       "      <td>Matchweek 1</td>\n",
       "      <td>Sat</td>\n",
       "      <td>Away</td>\n",
       "      <td>W</td>\n",
       "      <td>3</td>\n",
       "      <td>0</td>\n",
       "      <td>Wolfsburg</td>\n",
       "      <td>1.0</td>\n",
       "      <td>0.4</td>\n",
       "      <td>69.0</td>\n",
       "      <td>Sokratis Papastathopoulos</td>\n",
       "      <td>4-3-3</td>\n",
       "      <td>Robert Hartmann</td>\n",
       "      <td>13.0</td>\n",
       "      <td>5.0</td>\n",
       "      <td>19.3</td>\n",
       "      <td>0.0</td>\n",
       "      <td>0.0</td>\n",
       "      <td>0.0</td>\n",
       "      <td>0.0</td>\n",
       "      <td>0.0</td>\n",
       "      <td>0.0</td>\n",
       "      <td>0.0</td>\n",
       "      <td>554.0</td>\n",
       "      <td>697.0</td>\n",
       "      <td>10637.0</td>\n",
       "      <td>3830.0</td>\n",
       "      <td>640.0</td>\n",
       "      <td>57.0</td>\n",
       "      <td>0.0</td>\n",
       "      <td>3.0</td>\n",
       "      <td>13.0</td>\n",
       "      <td>33.0</td>\n",
       "      <td>5.0</td>\n",
       "      <td>2017-2018</td>\n",
       "      <td>Dortmund</td>\n",
       "      <td>1</td>\n",
       "      <td>0</td>\n",
       "      <td>24</td>\n",
       "      <td>5</td>\n",
       "      <td>15</td>\n",
       "      <td>5</td>\n",
       "    </tr>\n",
       "    <tr>\n",
       "      <th>4</th>\n",
       "      <td>2017-08-19</td>\n",
       "      <td>15:30</td>\n",
       "      <td>Matchweek 1</td>\n",
       "      <td>Sat</td>\n",
       "      <td>Away</td>\n",
       "      <td>L</td>\n",
       "      <td>0</td>\n",
       "      <td>2</td>\n",
       "      <td>Hertha BSC</td>\n",
       "      <td>1.0</td>\n",
       "      <td>0.5</td>\n",
       "      <td>47.0</td>\n",
       "      <td>Christian Gentner</td>\n",
       "      <td>4-4-2</td>\n",
       "      <td>Sascha Stegemann</td>\n",
       "      <td>8.0</td>\n",
       "      <td>2.0</td>\n",
       "      <td>17.3</td>\n",
       "      <td>1.0</td>\n",
       "      <td>0.0</td>\n",
       "      <td>0.0</td>\n",
       "      <td>4.0</td>\n",
       "      <td>2.0</td>\n",
       "      <td>0.0</td>\n",
       "      <td>0.0</td>\n",
       "      <td>388.0</td>\n",
       "      <td>491.0</td>\n",
       "      <td>6661.0</td>\n",
       "      <td>2278.0</td>\n",
       "      <td>437.0</td>\n",
       "      <td>51.0</td>\n",
       "      <td>0.0</td>\n",
       "      <td>2.0</td>\n",
       "      <td>12.0</td>\n",
       "      <td>23.0</td>\n",
       "      <td>1.0</td>\n",
       "      <td>2017-2018</td>\n",
       "      <td>Stuttgart</td>\n",
       "      <td>0</td>\n",
       "      <td>0</td>\n",
       "      <td>12</td>\n",
       "      <td>21</td>\n",
       "      <td>15</td>\n",
       "      <td>5</td>\n",
       "    </tr>\n",
       "  </tbody>\n",
       "</table>\n",
       "</div>"
      ],
      "text/plain": [
       "        date   time        round  day venue result  gf  ga          opponent  \\\n",
       "0 2017-08-18  20:30  Matchweek 1  Fri  Home      W   3   1  Bayer Leverkusen   \n",
       "1 2017-08-18  20:30  Matchweek 1  Fri  Away      L   1   3     Bayern Munich   \n",
       "2 2017-08-19  15:30  Matchweek 1  Sat  Home      W   1   0     Werder Bremen   \n",
       "3 2017-08-19  15:30  Matchweek 1  Sat  Away      W   3   0         Wolfsburg   \n",
       "4 2017-08-19  15:30  Matchweek 1  Sat  Away      L   0   2        Hertha BSC   \n",
       "\n",
       "    xg  xga  poss                    captain formation           referee  \\\n",
       "0  2.6  1.6  52.0              Thomas Müller     4-3-3    Tobias Stieler   \n",
       "1  1.6  2.6  48.0                 Bernd Leno   4-2-3-1    Tobias Stieler   \n",
       "2  1.0  0.9  64.0                 Kevin Vogt   3-1-4-2    Guido Winkmann   \n",
       "3  1.0  0.4  69.0  Sokratis Papastathopoulos     4-3-3   Robert Hartmann   \n",
       "4  1.0  0.5  47.0          Christian Gentner     4-4-2  Sascha Stegemann   \n",
       "\n",
       "     sh  sot  dist   fk   pk  pkatt  sota  saves  pka  pksv    cmp    att  \\\n",
       "0  12.0  7.0  16.9  0.0  1.0    1.0   4.0    3.0  0.0   0.0  459.0  547.0   \n",
       "1  19.0  4.0  17.8  1.0  0.0    0.0   8.0    5.0  1.0   0.0  437.0  515.0   \n",
       "2  14.0  3.0  23.4  1.0  0.0    0.0   2.0    2.0  0.0   0.0  561.0  666.0   \n",
       "3  13.0  5.0  19.3  0.0  0.0    0.0   0.0    0.0  0.0   0.0  554.0  697.0   \n",
       "4   8.0  2.0  17.3  1.0  0.0    0.0   4.0    2.0  0.0   0.0  388.0  491.0   \n",
       "\n",
       "   totdist  prgdist   live  dead   tb   sw   crs    ti   ck     season  \\\n",
       "0   9407.0   3624.0  483.0  59.0  0.0  8.0  14.0  22.0  4.0  2017-2018   \n",
       "1   7391.0   2588.0  468.0  46.0  5.0  4.0  10.0  12.0  5.0  2017-2018   \n",
       "2  10135.0   3589.0  612.0  51.0  1.0  0.0  20.0  24.0  6.0  2017-2018   \n",
       "3  10637.0   3830.0  640.0  57.0  0.0  3.0  13.0  33.0  5.0  2017-2018   \n",
       "4   6661.0   2278.0  437.0  51.0  0.0  2.0  12.0  23.0  1.0  2017-2018   \n",
       "\n",
       "               team  target  venue_code  opp_code  team_code  hour  day_code  \n",
       "0     Bayern Munich       1           1         2          3    20         4  \n",
       "1  Bayer Leverkusen       0           0         3          2    20         4  \n",
       "2        Hoffenheim       1           1        23         13    15         5  \n",
       "3          Dortmund       1           0        24          5    15         5  \n",
       "4         Stuttgart       0           0        12         21    15         5  "
      ]
     },
     "execution_count": 25,
     "metadata": {},
     "output_type": "execute_result"
    }
   ],
   "source": [
    "df.head()"
   ]
  },
  {
   "cell_type": "markdown",
   "metadata": {},
   "source": [
    "The five features we have so far relate to which teams are playing, and the venue and the time of the match."
   ]
  },
  {
   "cell_type": "code",
   "execution_count": 26,
   "metadata": {},
   "outputs": [],
   "source": [
    "predictors = ['team_code', 'opp_code', 'venue_code', 'hour', 'day_code']"
   ]
  },
  {
   "cell_type": "markdown",
   "metadata": {},
   "source": [
    "## Models\n",
    "\n",
    "We'll keep the last season as our validation set, and the previous seaons will be our training set. In order to make sure we use previous match logs to predict later matches, we will use time series cross validation on our training set."
   ]
  },
  {
   "cell_type": "code",
   "execution_count": 27,
   "metadata": {},
   "outputs": [],
   "source": [
    "train = df[df['date'] < '2022-07-01']\n",
    "val = df[df['date'] > '2022-07-01']\n",
    "\n",
    "X = train[predictors]\n",
    "y = train['target']\n",
    "\n",
    "X_val = val[predictors]\n",
    "y_val = val['target']"
   ]
  },
  {
   "cell_type": "code",
   "execution_count": 28,
   "metadata": {},
   "outputs": [
    {
     "data": {
      "image/png": "[encoded data removed]",
      "text/plain": [
       "<Figure size 640x480 with 1 Axes>"
      ]
     },
     "metadata": {},
     "output_type": "display_data"
    }
   ],
   "source": [
    "tscv = TimeSeriesSplit(n_splits=5)\n",
    "\n",
    "# Visualize the splits as a sanity check\n",
    "fig, ax = plt.subplots()\n",
    "for ii, (tr, tt) in enumerate(tscv.split(X, y)):\n",
    "    l1 = ax.scatter(tr, [ii] * len(tr), c='tab:blue',\n",
    "                    marker='_', lw=6)\n",
    "    l2 = ax.scatter(tt, [ii] * len(tt), c='tab:orange',\n",
    "                    marker='_', lw=6)\n",
    "ax.set(ylim=[5, -1],\n",
    "       title='TimeSeriesSplit behavior',\n",
    "       xlabel='data index', ylabel='tscv iteration')\n",
    "ax.legend([l1, l2], ['Training', 'Test'])\n",
    "plt.show()"
   ]
  },
  {
   "cell_type": "markdown",
   "metadata": {},
   "source": [
    "We will use f1 score as our main metric."
   ]
  },
  {
   "cell_type": "code",
   "execution_count": 29,
   "metadata": {},
   "outputs": [],
   "source": [
    "f1_scorer = make_scorer(f1_score)\n",
    "\n",
    "def scores(model):\n",
    "    f1 = cross_val_score(model, X[predictors], y, cv=tscv, scoring=f1_scorer)\n",
    "    print(\"Cross validation on training set:\")\n",
    "    print(f\"f1 scores: {f1}\")\n",
    "    print(f\"mean f1 score: {np.mean(f1)}\")\n",
    "    print(f\"standard deviation of f1 scores: {np.std(f1)}\", end='\\n\\n')\n",
    "\n",
    "    model.fit(X[predictors], y)\n",
    "    preds = model.predict(X_val[predictors])\n",
    "\n",
    "    print(\"Validation set:\")\n",
    "    print(f\"f1 score: {f1_score(y_val, preds)}\")\n",
    "    print(f\"accuracy score: {accuracy_score(y_val, preds)}\")\n",
    "\n",
    "    print(f\"roc_auc score: {roc_auc_score(y_val, preds)}\")\n",
    "\n",
    "    cm = confusion_matrix(y_val, preds)\n",
    "    names = ['True Neg','False Pos','False Neg','True Pos']\n",
    "    counts = ['{0:0.0f}'.format(v) for v in cm.flatten()]\n",
    "    percentages = ['{0:.2%}'.format(v) for v in cm.flatten()/np.sum(cm)]\n",
    "    labels = [f'{v1}\\n{v2}\\n{v3}' for v1, v2, v3 in zip(names, counts, percentages)]\n",
    "    labels = np.asarray(labels).reshape(2, 2)\n",
    "    sns.heatmap(cm, annot=labels, cmap='Blues', fmt='')\n",
    "    plt.show()"
   ]
  },
  {
   "cell_type": "markdown",
   "metadata": {},
   "source": [
    "We'll apply a few machine learning models on our data set. For each model, we'll do the following:\n",
    "\n",
    "1. Use training set and a pipeline to\n",
    "\n",
    "    - determine the number of features to use\n",
    "    - select these features\n",
    "    - tune the parameters of the model using grid search  \n",
    "<br>\n",
    "\n",
    "2. Use training set and sequential feature selection with the parameters of the previuos step\n",
    "\n",
    "3. Note the performance of the resulting model on both training and validation sets"
   ]
  },
  {
   "cell_type": "markdown",
   "metadata": {},
   "source": [
    "### Model 1: Random forest classifier"
   ]
  },
  {
   "cell_type": "code",
   "execution_count": 30,
   "metadata": {},
   "outputs": [
    {
     "data": {
      "text/plain": [
       "GridSearchCV(cv=TimeSeriesSplit(gap=0, max_train_size=None, n_splits=5, test_size=None),\n",
       "             estimator=RandomForestClassifier(random_state=1),\n",
       "             param_grid={'max_depth': range(3, 8),\n",
       "                         'min_samples_split': range(2, 11, 2),\n",
       "                         'n_estimators': [100, 200, 300]},\n",
       "             scoring=make_scorer(f1_score))"
      ]
     },
     "execution_count": 30,
     "metadata": {},
     "output_type": "execute_result"
    }
   ],
   "source": [
    "params = {\n",
    "    'n_estimators': [100, 200, 300],\n",
    "    'min_samples_split': range(2, 11, 2),\n",
    "    'max_depth': range(3, 8)\n",
    "}\n",
    "\n",
    "gs = GridSearchCV(RandomForestClassifier(random_state=1),\n",
    "                  param_grid=params,\n",
    "                  cv=tscv,\n",
    "                  scoring=f1_scorer\n",
    "                  )\n",
    "\n",
    "gs.fit(X, y)"
   ]
  },
  {
   "cell_type": "code",
   "execution_count": 31,
   "metadata": {},
   "outputs": [
    {
     "data": {
      "text/plain": [
       "{'max_depth': 7, 'min_samples_split': 10, 'n_estimators': 100}"
      ]
     },
     "execution_count": 31,
     "metadata": {},
     "output_type": "execute_result"
    }
   ],
   "source": [
    "gs.best_params_"
   ]
  },
  {
   "cell_type": "code",
   "execution_count": 32,
   "metadata": {},
   "outputs": [
    {
     "name": "stdout",
     "output_type": "stream",
     "text": [
      "Cross validation on training set:\n",
      "f1 scores: [0.39175258 0.32432432 0.42857143 0.40701754 0.3630137 ]\n",
      "mean f1 score: 0.3829359145410253\n",
      "standard deviation of f1 scores: 0.036255956058391686\n",
      "\n",
      "Validation set:\n",
      "f1 score: 0.3473053892215569\n",
      "accuracy score: 0.6437908496732027\n",
      "roc_auc score: 0.5664860074308893\n"
     ]
    },
    {
     "data": {
      "image/png": "[encoded data removed]",
      "text/plain": [
       "<Figure size 640x480 with 2 Axes>"
      ]
     },
     "metadata": {},
     "output_type": "display_data"
    }
   ],
   "source": [
    "rf = RandomForestClassifier(**gs.best_params_, random_state=1)\n",
    "\n",
    "scores(rf)"
   ]
  },
  {
   "cell_type": "markdown",
   "metadata": {},
   "source": [
    "### Model 2: Ridge classifier"
   ]
  },
  {
   "cell_type": "code",
   "execution_count": 33,
   "metadata": {},
   "outputs": [
    {
     "data": {
      "text/plain": [
       "GridSearchCV(cv=TimeSeriesSplit(gap=0, max_train_size=None, n_splits=5, test_size=None),\n",
       "             estimator=RidgeClassifier(),\n",
       "             param_grid={'alpha': [0.1, 0.2, 0.3, 0.4, 0.5, 0.6, 0.7, 0.8, 0.9,\n",
       "                                   1.0]},\n",
       "             scoring=make_scorer(f1_score))"
      ]
     },
     "execution_count": 33,
     "metadata": {},
     "output_type": "execute_result"
    }
   ],
   "source": [
    "params = {\n",
    "    'alpha': [round(a * 0.1, 1) for a in range(1, 11)]\n",
    "}\n",
    "\n",
    "gs = GridSearchCV(RidgeClassifier(),\n",
    "                  param_grid=params,\n",
    "                  cv=tscv,\n",
    "                  scoring=f1_scorer\n",
    "                  )\n",
    "\n",
    "gs.fit(X, y)"
   ]
  },
  {
   "cell_type": "code",
   "execution_count": 34,
   "metadata": {},
   "outputs": [
    {
     "data": {
      "text/plain": [
       "{'alpha': 0.7}"
      ]
     },
     "execution_count": 34,
     "metadata": {},
     "output_type": "execute_result"
    }
   ],
   "source": [
    "gs.best_params_"
   ]
  },
  {
   "cell_type": "code",
   "execution_count": 35,
   "metadata": {},
   "outputs": [
    {
     "name": "stdout",
     "output_type": "stream",
     "text": [
      "Cross validation on training set:\n",
      "f1 scores: [0.14912281 0.16101695 0.15246637 0.11607143 0.0990991 ]\n",
      "mean f1 score: 0.1355553303107237\n",
      "standard deviation of f1 scores: 0.023778279439015105\n",
      "\n",
      "Validation set:\n",
      "f1 score: 0.1076923076923077\n",
      "accuracy score: 0.6209150326797386\n",
      "roc_auc score: 0.5106179909329515\n"
     ]
    },
    {
     "data": {
      "image/png": "[encoded data removed]",
      "text/plain": [
       "<Figure size 640x480 with 2 Axes>"
      ]
     },
     "metadata": {},
     "output_type": "display_data"
    }
   ],
   "source": [
    "rc = RidgeClassifier(**gs.best_params_)\n",
    "\n",
    "scores(rc)"
   ]
  },
  {
   "cell_type": "markdown",
   "metadata": {},
   "source": [
    "### Model 3: Support vector classifier"
   ]
  },
  {
   "cell_type": "code",
   "execution_count": 36,
   "metadata": {},
   "outputs": [
    {
     "data": {
      "text/plain": [
       "GridSearchCV(cv=TimeSeriesSplit(gap=0, max_train_size=None, n_splits=5, test_size=None),\n",
       "             estimator=SVC(), param_grid={'C': [0.1, 1, 10]},\n",
       "             scoring=make_scorer(f1_score))"
      ]
     },
     "execution_count": 36,
     "metadata": {},
     "output_type": "execute_result"
    }
   ],
   "source": [
    "params = {\n",
    "    'C': [0.1, 1, 10]\n",
    "    # kernel = ['linear', 'poly', 'rbf']\n",
    "}\n",
    "\n",
    "gs = GridSearchCV(SVC(),\n",
    "                  param_grid=params,\n",
    "                  cv=tscv,\n",
    "                  scoring=f1_scorer\n",
    "                  )\n",
    "\n",
    "gs.fit(X, y)"
   ]
  },
  {
   "cell_type": "code",
   "execution_count": 37,
   "metadata": {},
   "outputs": [
    {
     "data": {
      "text/plain": [
       "{'C': 10}"
      ]
     },
     "execution_count": 37,
     "metadata": {},
     "output_type": "execute_result"
    }
   ],
   "source": [
    "gs.best_params_"
   ]
  },
  {
   "cell_type": "code",
   "execution_count": 38,
   "metadata": {},
   "outputs": [
    {
     "name": "stdout",
     "output_type": "stream",
     "text": [
      "Cross validation on training set:\n",
      "f1 scores: [0.0861244  0.0097561  0.04210526 0.1369863  0.05660377]\n",
      "mean f1 score: 0.06631516751750292\n",
      "standard deviation of f1 scores: 0.04304921361165949\n",
      "\n",
      "Validation set:\n",
      "f1 score: 0.0\n",
      "accuracy score: 0.6225490196078431\n",
      "roc_auc score: 0.5\n"
     ]
    },
    {
     "data": {
      "image/png": "[encoded data removed]",
      "text/plain": [
       "<Figure size 640x480 with 2 Axes>"
      ]
     },
     "metadata": {},
     "output_type": "display_data"
    }
   ],
   "source": [
    "svc = SVC(**gs.best_params_)\n",
    "\n",
    "scores(svc)"
   ]
  },
  {
   "cell_type": "markdown",
   "metadata": {},
   "source": [
    "### Model 4: XGBoost Classifier"
   ]
  },
  {
   "cell_type": "code",
   "execution_count": 39,
   "metadata": {},
   "outputs": [
    {
     "data": {
      "text/plain": [
       "GridSearchCV(cv=TimeSeriesSplit(gap=0, max_train_size=None, n_splits=5, test_size=None),\n",
       "             estimator=XGBClassifier(base_score=None, booster=None,\n",
       "                                     callbacks=None, colsample_bylevel=None,\n",
       "                                     colsample_bynode=None,\n",
       "                                     colsample_bytree=None, device=None,\n",
       "                                     early_stopping_rounds=None,\n",
       "                                     enable_categorical=False, eval_metric=None,\n",
       "                                     feature_types=None, gamma=None,\n",
       "                                     grow_policy=None, im...\n",
       "                                     max_cat_to_onehot=None,\n",
       "                                     max_delta_step=None, max_depth=None,\n",
       "                                     max_leaves=None, min_child_weight=None,\n",
       "                                     missing=nan, monotone_constraints=None,\n",
       "                                     multi_strategy=None, n_estimators=None,\n",
       "                                     n_jobs=None, num_parallel_tree=None,\n",
       "                                     random_state=None, ...),\n",
       "             param_grid={'learning_rate': [0.1, 0.01, 0.001],\n",
       "                         'max_depth': range(3, 8),\n",
       "                         'n_estimators': [100, 200, 300]},\n",
       "             scoring=make_scorer(f1_score))"
      ]
     },
     "execution_count": 39,
     "metadata": {},
     "output_type": "execute_result"
    }
   ],
   "source": [
    "params = {\n",
    "    'max_depth': range(3, 8),\n",
    "    'learning_rate': [0.1, 0.01, 0.001],\n",
    "    'n_estimators': [100, 200, 300]\n",
    "}\n",
    "\n",
    "gs = GridSearchCV(XGBClassifier(),\n",
    "                  param_grid=params,\n",
    "                  cv=tscv,\n",
    "                  scoring=f1_scorer\n",
    "                  )\n",
    "\n",
    "gs.fit(X, y)"
   ]
  },
  {
   "cell_type": "code",
   "execution_count": 40,
   "metadata": {},
   "outputs": [
    {
     "data": {
      "text/plain": [
       "{'learning_rate': 0.1, 'max_depth': 4, 'n_estimators': 300}"
      ]
     },
     "execution_count": 40,
     "metadata": {},
     "output_type": "execute_result"
    }
   ],
   "source": [
    "gs.best_params_"
   ]
  },
  {
   "cell_type": "code",
   "execution_count": 41,
   "metadata": {},
   "outputs": [
    {
     "name": "stdout",
     "output_type": "stream",
     "text": [
      "Cross validation on training set:\n",
      "f1 scores: [0.43930636 0.46723647 0.45747801 0.4957265  0.50828729]\n",
      "mean f1 score: 0.47360692400544957\n",
      "standard deviation of f1 scores: 0.025176405446453057\n",
      "\n",
      "Validation set:\n",
      "f1 score: 0.4860759493670886\n",
      "accuracy score: 0.6683006535947712\n",
      "roc_auc score: 0.6185533626478509\n"
     ]
    },
    {
     "data": {
      "image/png": "[encoded data removed]",
      "text/plain": [
       "<Figure size 640x480 with 2 Axes>"
      ]
     },
     "metadata": {},
     "output_type": "display_data"
    }
   ],
   "source": [
    "xgbc = XGBClassifier(**gs.best_params_, random_state=1)\n",
    "\n",
    "scores(xgbc)"
   ]
  },
  {
   "cell_type": "markdown",
   "metadata": {},
   "source": [
    "## Conclusion"
   ]
  },
  {
   "cell_type": "code",
   "execution_count": 42,
   "metadata": {},
   "outputs": [
    {
     "data": {
      "image/png": "[encoded data removed]",
      "text/plain": [
       "<Figure size 640x480 with 1 Axes>"
      ]
     },
     "metadata": {},
     "output_type": "display_data"
    }
   ],
   "source": [
    "disp = RocCurveDisplay.from_estimator(rf, X_val[predictors], y_val)\n",
    "RocCurveDisplay.from_estimator(rc, X_val[predictors], y_val, ax=disp.ax_)\n",
    "RocCurveDisplay.from_estimator(svc, X_val[predictors], y_val, ax=disp.ax_)\n",
    "RocCurveDisplay.from_estimator(xgbc, X_val[predictors], y_val, ax=disp.ax_)\n",
    "plt.show()"
   ]
  },
  {
   "cell_type": "markdown",
   "metadata": {},
   "source": [
    "We can see that xgboost classifier performed the best among the models we have built.\n",
    "\n",
    "Random forest classifier perfomed slightly better than ridge classifier. Looking at the confusion matrix we can see that half of ridge classifier's win predictions are incorrect.\n",
    "\n",
    "Support vector classifier performed poorly. In the confusion matrix we see that there were no matches where it predicted a win.\n",
    "\n",
    "Before concluding, it is necessary to note that our data set is small, and our target is highly imbalanced towards 0 (recall we combined losses and draws of matches as 0)."
   ]
  },
  {
   "cell_type": "markdown",
   "metadata": {},
   "source": []
  }
 ],
 "metadata": {
  "kernelspec": {
   "display_name": "base",
   "language": "python",
   "name": "python3"
  },
  "language_info": {
   "codemirror_mode": {
    "name": "ipython",
    "version": 3
   },
   "file_extension": ".py",
   "mimetype": "text/x-python",
   "name": "python",
   "nbconvert_exporter": "python",
   "pygments_lexer": "ipython3",
   "version": "3.8.18"
  },
  "orig_nbformat": 4
 },
 "nbformat": 4,
 "nbformat_minor": 2
}
